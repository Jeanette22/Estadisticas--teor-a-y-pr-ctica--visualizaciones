{
 "cells": [
  {
   "cell_type": "code",
   "metadata": {
    "tags": [],
    "cell_id": "82f078ae-f199-488d-9824-931aebaf5429",
    "deepnote_to_be_reexecuted": false,
    "source_hash": "c76c7c51",
    "execution_start": 1649168135460,
    "execution_millis": 4338595,
    "deepnote_cell_type": "code",
    "deepnote_cell_height": 99.15625
   },
   "source": "import pandas as pd\nimport numpy as np",
   "outputs": [],
   "execution_count": null
  },
  {
   "cell_type": "markdown",
   "source": "## Tipos de datos en estadística \nDiferentes tipos de datos o variables estructuradas en cualquier problema de ciencia de datos.\ndatos categóricos: ordinales y nominales\n- es \"ORDINAL\" cuando hay una relacion de orden entre las categorias\": \nejemplos para interpretar\na) Queremos conocer el nivel de tabaquismo de una persona: Clasificamos como leve (1), moderado (2), nivel medio (3), importante (4) y muy importante (5). Sería de tipo ordinal.\nOtro ejemplo: \nb) El objetivo es averiguar la percepción de los clientes potenciales sobre un aspecto de un producto que queremos lanzar al mercado: Los valores van de uno a siete, en función de si nos interesa o no. Estamos ante una escala tipo likert, que mide una variable ordinal.\n\n- es \"Nominal\": es contrario al anterior, osea cuando los valores representan categorías que no obedecen a una clasificación intrínseca, puede ser el Codigo Postal, como ejemplo. \na) Categorizamos por género a una serie de individuos: El valor uno representa a las mujeres y el dos a los hombres. otro ejemplo de variable nominal y dicotómica.\nb)Categorizamos por género a una serie de individuos: El valor uno representa a las mujeres y el dos a los hombres. Estamos ante una variable nominal y dicotómica.\n\n \nDatos Numéricos: discretos y continuos: son explicitamente numeros, como edad, temperatura, año,\n- discreto: la edad, depende la aprox, son variables enteras (INT)\n- continuo: puede tener decimales,son variables float es decir con decimales\n",
   "metadata": {
    "cell_id": "443c0cd82f344fcfb138d9969244f79e",
    "tags": [],
    "deepnote_cell_type": "markdown",
    "deepnote_cell_height": 500.390625
   }
  },
  {
   "cell_type": "code",
   "metadata": {
    "cell_id": "e92ea6cf5b0a431f87b2ce941ad153ca",
    "tags": [],
    "deepnote_to_be_reexecuted": false,
    "source_hash": "84c81edb",
    "execution_start": 1649168135460,
    "execution_millis": 717,
    "deepnote_table_state": {
     "pageSize": 10,
     "pageIndex": 0,
     "filters": [],
     "sortBy": [
      {
       "id": "manufacturer_name",
       "type": "asc"
      }
     ]
    },
    "deepnote_table_loading": false,
    "deepnote_cell_type": "code",
    "deepnote_cell_height": 669.125
   },
   "source": "dataset = pd.read_csv('cars.csv')\ndataset.head(40)",
   "outputs": [
    {
     "output_type": "execute_result",
     "execution_count": 2,
     "data": {
      "application/vnd.deepnote.dataframe.v3+json": {
       "column_count": 30,
       "row_count": 40,
       "columns": [
        {
         "name": "manufacturer_name",
         "dtype": "object",
         "stats": {
          "unique_count": 1,
          "nan_count": 0,
          "categories": [
           {
            "name": "Subaru",
            "count": 40
           }
          ]
         }
        },
        {
         "name": "model_name",
         "dtype": "object",
         "stats": {
          "unique_count": 6,
          "nan_count": 0,
          "categories": [
           {
            "name": "Outback",
            "count": 12
           },
           {
            "name": "Forester",
            "count": 10
           },
           {
            "name": "4 others",
            "count": 18
           }
          ]
         }
        },
        {
         "name": "transmission",
         "dtype": "object",
         "stats": {
          "unique_count": 2,
          "nan_count": 0,
          "categories": [
           {
            "name": "automatic",
            "count": 27
           },
           {
            "name": "mechanical",
            "count": 13
           }
          ]
         }
        },
        {
         "name": "color",
         "dtype": "object",
         "stats": {
          "unique_count": 10,
          "nan_count": 0,
          "categories": [
           {
            "name": "black",
            "count": 10
           },
           {
            "name": "silver",
            "count": 8
           },
           {
            "name": "8 others",
            "count": 22
           }
          ]
         }
        },
        {
         "name": "odometer_value",
         "dtype": "int64",
         "stats": {
          "unique_count": 38,
          "nan_count": 0,
          "min": "10000",
          "max": "571317",
          "histogram": [
           {
            "bin_start": 10000,
            "bin_end": 66131.7,
            "count": 2
           },
           {
            "bin_start": 66131.7,
            "bin_end": 122263.4,
            "count": 2
           },
           {
            "bin_start": 122263.4,
            "bin_end": 178395.09999999998,
            "count": 6
           },
           {
            "bin_start": 178395.09999999998,
            "bin_end": 234526.8,
            "count": 5
           },
           {
            "bin_start": 234526.8,
            "bin_end": 290658.5,
            "count": 11
           },
           {
            "bin_start": 290658.5,
            "bin_end": 346790.19999999995,
            "count": 7
           },
           {
            "bin_start": 346790.19999999995,
            "bin_end": 402921.89999999997,
            "count": 4
           },
           {
            "bin_start": 402921.89999999997,
            "bin_end": 459053.6,
            "count": 2
           },
           {
            "bin_start": 459053.6,
            "bin_end": 515185.3,
            "count": 0
           },
           {
            "bin_start": 515185.3,
            "bin_end": 571317,
            "count": 1
           }
          ]
         }
        },
        {
         "name": "year_produced",
         "dtype": "int64",
         "stats": {
          "unique_count": 19,
          "nan_count": 0,
          "min": "1991",
          "max": "2016",
          "histogram": [
           {
            "bin_start": 1991,
            "bin_end": 1993.5,
            "count": 2
           },
           {
            "bin_start": 1993.5,
            "bin_end": 1996,
            "count": 2
           },
           {
            "bin_start": 1996,
            "bin_end": 1998.5,
            "count": 3
           },
           {
            "bin_start": 1998.5,
            "bin_end": 2001,
            "count": 6
           },
           {
            "bin_start": 2001,
            "bin_end": 2003.5,
            "count": 8
           },
           {
            "bin_start": 2003.5,
            "bin_end": 2006,
            "count": 6
           },
           {
            "bin_start": 2006,
            "bin_end": 2008.5,
            "count": 5
           },
           {
            "bin_start": 2008.5,
            "bin_end": 2011,
            "count": 2
           },
           {
            "bin_start": 2011,
            "bin_end": 2013.5,
            "count": 4
           },
           {
            "bin_start": 2013.5,
            "bin_end": 2016,
            "count": 2
           }
          ]
         }
        },
        {
         "name": "engine_fuel",
         "dtype": "object",
         "stats": {
          "unique_count": 2,
          "nan_count": 0,
          "categories": [
           {
            "name": "gasoline",
            "count": 39
           },
           {
            "name": "gas",
            "count": 1
           }
          ]
         }
        },
        {
         "name": "engine_has_gas",
         "dtype": "bool",
         "stats": {
          "unique_count": 2,
          "nan_count": 0,
          "categories": [
           {
            "name": "False",
            "count": 39
           },
           {
            "name": "True",
            "count": 1
           }
          ]
         }
        },
        {
         "name": "engine_type",
         "dtype": "object",
         "stats": {
          "unique_count": 1,
          "nan_count": 0,
          "categories": [
           {
            "name": "gasoline",
            "count": 40
           }
          ]
         }
        },
        {
         "name": "engine_capacity",
         "dtype": "float64",
         "stats": {
          "unique_count": 8,
          "nan_count": 0,
          "min": "1.3",
          "max": "3.6",
          "histogram": [
           {
            "bin_start": 1.3,
            "bin_end": 1.53,
            "count": 2
           },
           {
            "bin_start": 1.53,
            "bin_end": 1.76,
            "count": 1
           },
           {
            "bin_start": 1.76,
            "bin_end": 1.99,
            "count": 0
           },
           {
            "bin_start": 1.99,
            "bin_end": 2.2199999999999998,
            "count": 14
           },
           {
            "bin_start": 2.2199999999999998,
            "bin_end": 2.45,
            "count": 0
           },
           {
            "bin_start": 2.45,
            "bin_end": 2.6799999999999997,
            "count": 15
           },
           {
            "bin_start": 2.6799999999999997,
            "bin_end": 2.91,
            "count": 0
           },
           {
            "bin_start": 2.91,
            "bin_end": 3.1399999999999997,
            "count": 6
           },
           {
            "bin_start": 3.1399999999999997,
            "bin_end": 3.37,
            "count": 0
           },
           {
            "bin_start": 3.37,
            "bin_end": 3.6,
            "count": 2
           }
          ]
         }
        },
        {
         "name": "body_type",
         "dtype": "object",
         "stats": {
          "unique_count": 4,
          "nan_count": 0,
          "categories": [
           {
            "name": "universal",
            "count": 21
           },
           {
            "name": "suv",
            "count": 10
           },
           {
            "name": "2 others",
            "count": 9
           }
          ]
         }
        },
        {
         "name": "has_warranty",
         "dtype": "bool",
         "stats": {
          "unique_count": 1,
          "nan_count": 0,
          "categories": [
           {
            "name": "False",
            "count": 40
           }
          ]
         }
        },
        {
         "name": "state",
         "dtype": "object",
         "stats": {
          "unique_count": 1,
          "nan_count": 0,
          "categories": [
           {
            "name": "owned",
            "count": 40
           }
          ]
         }
        },
        {
         "name": "drivetrain",
         "dtype": "object",
         "stats": {
          "unique_count": 2,
          "nan_count": 0,
          "categories": [
           {
            "name": "all",
            "count": 39
           },
           {
            "name": "front",
            "count": 1
           }
          ]
         }
        },
        {
         "name": "price_usd",
         "dtype": "float64",
         "stats": {
          "unique_count": 36,
          "nan_count": 0,
          "min": "650.0",
          "max": "17059.12",
          "histogram": [
           {
            "bin_start": 650,
            "bin_end": 2290.912,
            "count": 7
           },
           {
            "bin_start": 2290.912,
            "bin_end": 3931.8239999999996,
            "count": 9
           },
           {
            "bin_start": 3931.8239999999996,
            "bin_end": 5572.735999999999,
            "count": 5
           },
           {
            "bin_start": 5572.735999999999,
            "bin_end": 7213.647999999999,
            "count": 3
           },
           {
            "bin_start": 7213.647999999999,
            "bin_end": 8854.56,
            "count": 7
           },
           {
            "bin_start": 8854.56,
            "bin_end": 10495.471999999998,
            "count": 1
           },
           {
            "bin_start": 10495.471999999998,
            "bin_end": 12136.383999999998,
            "count": 2
           },
           {
            "bin_start": 12136.383999999998,
            "bin_end": 13777.295999999998,
            "count": 2
           },
           {
            "bin_start": 13777.295999999998,
            "bin_end": 15418.207999999999,
            "count": 2
           },
           {
            "bin_start": 15418.207999999999,
            "bin_end": 17059.12,
            "count": 2
           }
          ]
         }
        },
        {
         "name": "is_exchangeable",
         "dtype": "bool",
         "stats": {
          "unique_count": 2,
          "nan_count": 0,
          "categories": [
           {
            "name": "True",
            "count": 21
           },
           {
            "name": "False",
            "count": 19
           }
          ]
         }
        },
        {
         "name": "location_region",
         "dtype": "object",
         "stats": {
          "unique_count": 6,
          "nan_count": 0,
          "categories": [
           {
            "name": "Минская обл.",
            "count": 28
           },
           {
            "name": "Гомельская обл.",
            "count": 5
           },
           {
            "name": "4 others",
            "count": 7
           }
          ]
         }
        },
        {
         "name": "number_of_photos",
         "dtype": "int64",
         "stats": {
          "unique_count": 16,
          "nan_count": 0,
          "min": "4",
          "max": "30",
          "histogram": [
           {
            "bin_start": 4,
            "bin_end": 6.6,
            "count": 8
           },
           {
            "bin_start": 6.6,
            "bin_end": 9.2,
            "count": 10
           },
           {
            "bin_start": 9.2,
            "bin_end": 11.8,
            "count": 2
           },
           {
            "bin_start": 11.8,
            "bin_end": 14.4,
            "count": 10
           },
           {
            "bin_start": 14.4,
            "bin_end": 17,
            "count": 0
           },
           {
            "bin_start": 17,
            "bin_end": 19.6,
            "count": 5
           },
           {
            "bin_start": 19.6,
            "bin_end": 22.2,
            "count": 1
           },
           {
            "bin_start": 22.2,
            "bin_end": 24.8,
            "count": 2
           },
           {
            "bin_start": 24.8,
            "bin_end": 27.400000000000002,
            "count": 1
           },
           {
            "bin_start": 27.400000000000002,
            "bin_end": 30,
            "count": 1
           }
          ]
         }
        },
        {
         "name": "up_counter",
         "dtype": "int64",
         "stats": {
          "unique_count": 33,
          "nan_count": 0,
          "min": "2",
          "max": "166",
          "histogram": [
           {
            "bin_start": 2,
            "bin_end": 18.4,
            "count": 14
           },
           {
            "bin_start": 18.4,
            "bin_end": 34.8,
            "count": 10
           },
           {
            "bin_start": 34.8,
            "bin_end": 51.199999999999996,
            "count": 6
           },
           {
            "bin_start": 51.199999999999996,
            "bin_end": 67.6,
            "count": 4
           },
           {
            "bin_start": 67.6,
            "bin_end": 84,
            "count": 1
           },
           {
            "bin_start": 84,
            "bin_end": 100.39999999999999,
            "count": 1
           },
           {
            "bin_start": 100.39999999999999,
            "bin_end": 116.79999999999998,
            "count": 1
           },
           {
            "bin_start": 116.79999999999998,
            "bin_end": 133.2,
            "count": 1
           },
           {
            "bin_start": 133.2,
            "bin_end": 149.6,
            "count": 1
           },
           {
            "bin_start": 149.6,
            "bin_end": 166,
            "count": 1
           }
          ]
         }
        },
        {
         "name": "feature_0",
         "dtype": "bool",
         "stats": {
          "unique_count": 2,
          "nan_count": 0,
          "categories": [
           {
            "name": "False",
            "count": 36
           },
           {
            "name": "True",
            "count": 4
           }
          ]
         }
        },
        {
         "name": "feature_1",
         "dtype": "bool",
         "stats": {
          "unique_count": 2,
          "nan_count": 0,
          "categories": [
           {
            "name": "True",
            "count": 30
           },
           {
            "name": "False",
            "count": 10
           }
          ]
         }
        },
        {
         "name": "feature_2",
         "dtype": "bool",
         "stats": {
          "unique_count": 2,
          "nan_count": 0,
          "categories": [
           {
            "name": "False",
            "count": 29
           },
           {
            "name": "True",
            "count": 11
           }
          ]
         }
        },
        {
         "name": "feature_3",
         "dtype": "bool",
         "stats": {
          "unique_count": 2,
          "nan_count": 0,
          "categories": [
           {
            "name": "False",
            "count": 28
           },
           {
            "name": "True",
            "count": 12
           }
          ]
         }
        },
        {
         "name": "feature_4",
         "dtype": "bool",
         "stats": {
          "unique_count": 2,
          "nan_count": 0,
          "categories": [
           {
            "name": "False",
            "count": 24
           },
           {
            "name": "True",
            "count": 16
           }
          ]
         }
        },
        {
         "name": "feature_5",
         "dtype": "bool",
         "stats": {
          "unique_count": 2,
          "nan_count": 0,
          "categories": [
           {
            "name": "True",
            "count": 22
           },
           {
            "name": "False",
            "count": 18
           }
          ]
         }
        },
        {
         "name": "feature_6",
         "dtype": "bool",
         "stats": {
          "unique_count": 2,
          "nan_count": 0,
          "categories": [
           {
            "name": "False",
            "count": 34
           },
           {
            "name": "True",
            "count": 6
           }
          ]
         }
        },
        {
         "name": "feature_7",
         "dtype": "bool",
         "stats": {
          "unique_count": 2,
          "nan_count": 0,
          "categories": [
           {
            "name": "False",
            "count": 32
           },
           {
            "name": "True",
            "count": 8
           }
          ]
         }
        },
        {
         "name": "feature_8",
         "dtype": "bool",
         "stats": {
          "unique_count": 2,
          "nan_count": 0,
          "categories": [
           {
            "name": "True",
            "count": 20
           },
           {
            "name": "False",
            "count": 20
           }
          ]
         }
        },
        {
         "name": "feature_9",
         "dtype": "bool",
         "stats": {
          "unique_count": 2,
          "nan_count": 0,
          "categories": [
           {
            "name": "True",
            "count": 33
           },
           {
            "name": "False",
            "count": 7
           }
          ]
         }
        },
        {
         "name": "duration_listed",
         "dtype": "int64",
         "stats": {
          "unique_count": 35,
          "nan_count": 0,
          "min": "2",
          "max": "581",
          "histogram": [
           {
            "bin_start": 2,
            "bin_end": 59.9,
            "count": 16
           },
           {
            "bin_start": 59.9,
            "bin_end": 117.8,
            "count": 16
           },
           {
            "bin_start": 117.8,
            "bin_end": 175.7,
            "count": 2
           },
           {
            "bin_start": 175.7,
            "bin_end": 233.6,
            "count": 3
           },
           {
            "bin_start": 233.6,
            "bin_end": 291.5,
            "count": 0
           },
           {
            "bin_start": 291.5,
            "bin_end": 349.4,
            "count": 1
           },
           {
            "bin_start": 349.4,
            "bin_end": 407.3,
            "count": 0
           },
           {
            "bin_start": 407.3,
            "bin_end": 465.2,
            "count": 0
           },
           {
            "bin_start": 465.2,
            "bin_end": 523.1,
            "count": 1
           },
           {
            "bin_start": 523.1,
            "bin_end": 581,
            "count": 1
           }
          ]
         }
        },
        {
         "name": "_deepnote_index_column",
         "dtype": "int64"
        }
       ],
       "rows": [
        {
         "manufacturer_name": "Subaru",
         "model_name": "Outback",
         "transmission": "automatic",
         "color": "silver",
         "odometer_value": 190000,
         "year_produced": 2010,
         "engine_fuel": "gasoline",
         "engine_has_gas": false,
         "engine_type": "gasoline",
         "engine_capacity": 2.5,
         "body_type": "universal",
         "has_warranty": false,
         "state": "owned",
         "drivetrain": "all",
         "price_usd": 10900,
         "is_exchangeable": false,
         "location_region": "Минская обл.",
         "number_of_photos": 9,
         "up_counter": 13,
         "feature_0": false,
         "feature_1": true,
         "feature_2": true,
         "feature_3": true,
         "feature_4": false,
         "feature_5": true,
         "feature_6": false,
         "feature_7": true,
         "feature_8": true,
         "feature_9": true,
         "duration_listed": 16,
         "_deepnote_index_column": 0
        },
        {
         "manufacturer_name": "Subaru",
         "model_name": "Tribeca",
         "transmission": "automatic",
         "color": "black",
         "odometer_value": 188000,
         "year_produced": 2006,
         "engine_fuel": "gasoline",
         "engine_has_gas": false,
         "engine_type": "gasoline",
         "engine_capacity": 3,
         "body_type": "suv",
         "has_warranty": false,
         "state": "owned",
         "drivetrain": "all",
         "price_usd": 8650,
         "is_exchangeable": false,
         "location_region": "Минская обл.",
         "number_of_photos": 30,
         "up_counter": 25,
         "feature_0": false,
         "feature_1": true,
         "feature_2": false,
         "feature_3": false,
         "feature_4": true,
         "feature_5": true,
         "feature_6": false,
         "feature_7": false,
         "feature_8": true,
         "feature_9": true,
         "duration_listed": 37,
         "_deepnote_index_column": 22
        },
        {
         "manufacturer_name": "Subaru",
         "model_name": "Forester",
         "transmission": "automatic",
         "color": "blue",
         "odometer_value": 240000,
         "year_produced": 2001,
         "engine_fuel": "gasoline",
         "engine_has_gas": false,
         "engine_type": "gasoline",
         "engine_capacity": 2.5,
         "body_type": "universal",
         "has_warranty": false,
         "state": "owned",
         "drivetrain": "all",
         "price_usd": 3500,
         "is_exchangeable": true,
         "location_region": "Минская обл.",
         "number_of_photos": 5,
         "up_counter": 42,
         "feature_0": false,
         "feature_1": true,
         "feature_2": false,
         "feature_3": false,
         "feature_4": true,
         "feature_5": false,
         "feature_6": false,
         "feature_7": false,
         "feature_8": true,
         "feature_9": true,
         "duration_listed": 86,
         "_deepnote_index_column": 23
        },
        {
         "manufacturer_name": "Subaru",
         "model_name": "Legacy",
         "transmission": "automatic",
         "color": "green",
         "odometer_value": 249448,
         "year_produced": 2002,
         "engine_fuel": "gasoline",
         "engine_has_gas": false,
         "engine_type": "gasoline",
         "engine_capacity": 2.5,
         "body_type": "universal",
         "has_warranty": false,
         "state": "owned",
         "drivetrain": "all",
         "price_usd": 3800,
         "is_exchangeable": true,
         "location_region": "Могилевская обл.",
         "number_of_photos": 12,
         "up_counter": 44,
         "feature_0": false,
         "feature_1": true,
         "feature_2": false,
         "feature_3": false,
         "feature_4": false,
         "feature_5": false,
         "feature_6": false,
         "feature_7": false,
         "feature_8": true,
         "feature_9": false,
         "duration_listed": 67,
         "_deepnote_index_column": 24
        },
        {
         "manufacturer_name": "Subaru",
         "model_name": "Tribeca",
         "transmission": "automatic",
         "color": "other",
         "odometer_value": 250000,
         "year_produced": 2007,
         "engine_fuel": "gasoline",
         "engine_has_gas": false,
         "engine_type": "gasoline",
         "engine_capacity": 3,
         "body_type": "suv",
         "has_warranty": false,
         "state": "owned",
         "drivetrain": "all",
         "price_usd": 7200,
         "is_exchangeable": true,
         "location_region": "Гомельская обл.",
         "number_of_photos": 7,
         "up_counter": 62,
         "feature_0": false,
         "feature_1": true,
         "feature_2": false,
         "feature_3": false,
         "feature_4": true,
         "feature_5": true,
         "feature_6": false,
         "feature_7": false,
         "feature_8": true,
         "feature_9": true,
         "duration_listed": 204,
         "_deepnote_index_column": 25
        },
        {
         "manufacturer_name": "Subaru",
         "model_name": "Outback",
         "transmission": "automatic",
         "color": "green",
         "odometer_value": 417000,
         "year_produced": 1997,
         "engine_fuel": "gasoline",
         "engine_has_gas": false,
         "engine_type": "gasoline",
         "engine_capacity": 2,
         "body_type": "universal",
         "has_warranty": false,
         "state": "owned",
         "drivetrain": "front",
         "price_usd": 1850,
         "is_exchangeable": true,
         "location_region": "Минская обл.",
         "number_of_photos": 18,
         "up_counter": 23,
         "feature_0": false,
         "feature_1": true,
         "feature_2": false,
         "feature_3": false,
         "feature_4": false,
         "feature_5": true,
         "feature_6": false,
         "feature_7": false,
         "feature_8": false,
         "feature_9": true,
         "duration_listed": 71,
         "_deepnote_index_column": 26
        },
        {
         "manufacturer_name": "Subaru",
         "model_name": "Outback",
         "transmission": "automatic",
         "color": "violet",
         "odometer_value": 377000,
         "year_produced": 1999,
         "engine_fuel": "gasoline",
         "engine_has_gas": false,
         "engine_type": "gasoline",
         "engine_capacity": 2.5,
         "body_type": "universal",
         "has_warranty": false,
         "state": "owned",
         "drivetrain": "all",
         "price_usd": 3800,
         "is_exchangeable": false,
         "location_region": "Брестская обл.",
         "number_of_photos": 12,
         "up_counter": 10,
         "feature_0": false,
         "feature_1": true,
         "feature_2": false,
         "feature_3": false,
         "feature_4": true,
         "feature_5": true,
         "feature_6": false,
         "feature_7": false,
         "feature_8": false,
         "feature_9": true,
         "duration_listed": 21,
         "_deepnote_index_column": 27
        },
        {
         "manufacturer_name": "Subaru",
         "model_name": "Impreza",
         "transmission": "mechanical",
         "color": "black",
         "odometer_value": 300000,
         "year_produced": 1999,
         "engine_fuel": "gasoline",
         "engine_has_gas": false,
         "engine_type": "gasoline",
         "engine_capacity": 2,
         "body_type": "universal",
         "has_warranty": false,
         "state": "owned",
         "drivetrain": "all",
         "price_usd": 3000,
         "is_exchangeable": false,
         "location_region": "Минская обл.",
         "number_of_photos": 6,
         "up_counter": 103,
         "feature_0": false,
         "feature_1": false,
         "feature_2": false,
         "feature_3": false,
         "feature_4": false,
         "feature_5": false,
         "feature_6": false,
         "feature_7": false,
         "feature_8": false,
         "feature_9": true,
         "duration_listed": 581,
         "_deepnote_index_column": 28
        },
        {
         "manufacturer_name": "Subaru",
         "model_name": "Tribeca",
         "transmission": "automatic",
         "color": "silver",
         "odometer_value": 241402,
         "year_produced": 2005,
         "engine_fuel": "gasoline",
         "engine_has_gas": false,
         "engine_type": "gasoline",
         "engine_capacity": 3,
         "body_type": "suv",
         "has_warranty": false,
         "state": "owned",
         "drivetrain": "all",
         "price_usd": 7500,
         "is_exchangeable": false,
         "location_region": "Минская обл.",
         "number_of_photos": 18,
         "up_counter": 18,
         "feature_0": false,
         "feature_1": true,
         "feature_2": false,
         "feature_3": true,
         "feature_4": true,
         "feature_5": true,
         "feature_6": true,
         "feature_7": false,
         "feature_8": true,
         "feature_9": true,
         "duration_listed": 188,
         "_deepnote_index_column": 21
        },
        {
         "manufacturer_name": "Subaru",
         "model_name": "Legacy",
         "transmission": "mechanical",
         "color": "black",
         "odometer_value": 270000,
         "year_produced": 2004,
         "engine_fuel": "gasoline",
         "engine_has_gas": false,
         "engine_type": "gasoline",
         "engine_capacity": 2,
         "body_type": "sedan",
         "has_warranty": false,
         "state": "owned",
         "drivetrain": "all",
         "price_usd": 6200,
         "is_exchangeable": false,
         "location_region": "Витебская обл.",
         "number_of_photos": 10,
         "up_counter": 21,
         "feature_0": false,
         "feature_1": true,
         "feature_2": true,
         "feature_3": false,
         "feature_4": false,
         "feature_5": false,
         "feature_6": false,
         "feature_7": false,
         "feature_8": false,
         "feature_9": true,
         "duration_listed": 48,
         "_deepnote_index_column": 29
        }
       ]
      },
      "text/plain": "   manufacturer_name model_name transmission   color  odometer_value  \\\n0             Subaru    Outback    automatic  silver          190000   \n1             Subaru    Outback    automatic    blue          290000   \n2             Subaru   Forester    automatic     red          402000   \n3             Subaru    Impreza   mechanical    blue           10000   \n4             Subaru     Legacy    automatic   black          280000   \n5             Subaru    Outback    automatic  silver          132449   \n6             Subaru   Forester    automatic   black          318280   \n7             Subaru     Legacy    automatic  silver          350000   \n8             Subaru    Outback    automatic    grey          179000   \n9             Subaru   Forester    automatic  silver          571317   \n10            Subaru   Forester   mechanical   other          280000   \n11            Subaru    Tribeca    automatic    grey          256000   \n12            Subaru   Forester   mechanical   other          321000   \n13            Subaru      Justy   mechanical     red           49999   \n14            Subaru    Outback    automatic   brown          154685   \n15            Subaru    Outback    automatic   black          163219   \n16            Subaru    Outback    automatic   other          318650   \n17            Subaru    Impreza   mechanical    blue          191000   \n18            Subaru   Forester    automatic  silver          179000   \n19            Subaru   Forester    automatic   black          159000   \n20            Subaru    Outback    automatic   white          257495   \n21            Subaru    Tribeca    automatic  silver          241402   \n22            Subaru    Tribeca    automatic   black          188000   \n23            Subaru   Forester    automatic    blue          240000   \n24            Subaru     Legacy    automatic   green          249448   \n25            Subaru    Tribeca    automatic   other          250000   \n26            Subaru    Outback    automatic   green          417000   \n27            Subaru    Outback    automatic  violet          377000   \n28            Subaru    Impreza   mechanical   black          300000   \n29            Subaru     Legacy   mechanical   black          270000   \n30            Subaru   Forester   mechanical   green          444444   \n31            Subaru     Legacy    automatic   black          299000   \n32            Subaru    Impreza   mechanical  violet          340000   \n33            Subaru     Legacy   mechanical   black          123456   \n34            Subaru    Impreza   mechanical  silver          118000   \n35            Subaru    Impreza    automatic   black          246113   \n36            Subaru    Outback    automatic   green          128748   \n37            Subaru     Legacy   mechanical     red          100000   \n38            Subaru    Outback    automatic    blue          342790   \n39            Subaru   Forester   mechanical  silver          390000   \n\n    year_produced engine_fuel  engine_has_gas engine_type  engine_capacity  \\\n0            2010    gasoline           False    gasoline              2.5   \n1            2002    gasoline           False    gasoline              3.0   \n2            2001    gasoline           False    gasoline              2.5   \n3            1999    gasoline           False    gasoline              3.0   \n4            2001    gasoline           False    gasoline              2.5   \n5            2011    gasoline           False    gasoline              2.5   \n6            1998    gasoline           False    gasoline              2.5   \n7            2004    gasoline           False    gasoline              2.5   \n8            2010    gasoline           False    gasoline              2.5   \n9            1999    gasoline           False    gasoline              2.5   \n10           2003    gasoline           False    gasoline              2.0   \n11           2008    gasoline           False    gasoline              3.6   \n12           2002    gasoline           False    gasoline              2.0   \n13           2001    gasoline           False    gasoline              1.3   \n14           2011    gasoline           False    gasoline              2.5   \n15           2004    gasoline           False    gasoline              2.0   \n16           2005    gasoline           False    gasoline              3.0   \n17           2005    gasoline           False    gasoline              2.0   \n18           2014    gasoline           False    gasoline              2.0   \n19           2013    gasoline           False    gasoline              2.0   \n20           2008    gasoline           False    gasoline              2.5   \n21           2005    gasoline           False    gasoline              3.0   \n22           2006    gasoline           False    gasoline              3.0   \n23           2001    gasoline           False    gasoline              2.5   \n24           2002    gasoline           False    gasoline              2.5   \n25           2007    gasoline           False    gasoline              3.0   \n26           1997    gasoline           False    gasoline              2.0   \n27           1999    gasoline           False    gasoline              2.5   \n28           1999    gasoline           False    gasoline              2.0   \n29           2004    gasoline           False    gasoline              2.0   \n30           1999    gasoline           False    gasoline              2.0   \n31           1994         gas            True    gasoline              2.2   \n32           1993    gasoline           False    gasoline              1.6   \n33           1991    gasoline           False    gasoline              2.2   \n34           2011    gasoline           False    gasoline              2.5   \n35           2008    gasoline           False    gasoline              1.5   \n36           2016    gasoline           False    gasoline              3.6   \n37           1994    gasoline           False    gasoline              2.0   \n38           1999    gasoline           False    gasoline              2.5   \n39           1997    gasoline           False    gasoline              2.0   \n\n    ... feature_1  feature_2 feature_3 feature_4  feature_5  feature_6  \\\n0   ...      True       True      True     False       True      False   \n1   ...      True      False     False      True       True      False   \n2   ...      True      False     False     False      False      False   \n3   ...     False      False     False     False      False      False   \n4   ...      True      False      True      True      False      False   \n5   ...      True      False     False     False       True      False   \n6   ...      True      False     False      True       True      False   \n7   ...      True       True     False     False      False      False   \n8   ...      True       True      True      True       True       True   \n9   ...      True       True     False     False       True      False   \n10  ...      True      False      True     False       True      False   \n11  ...      True       True      True      True       True      False   \n12  ...      True      False     False     False      False      False   \n13  ...     False      False     False     False      False      False   \n14  ...      True      False      True     False      False      False   \n15  ...      True       True     False      True       True      False   \n16  ...      True      False      True      True       True      False   \n17  ...      True      False     False     False      False      False   \n18  ...     False       True      True     False       True       True   \n19  ...      True       True     False      True       True      False   \n20  ...      True       True     False      True       True       True   \n21  ...      True      False      True      True       True       True   \n22  ...      True      False     False      True       True      False   \n23  ...      True      False     False      True      False      False   \n24  ...      True      False     False     False      False      False   \n25  ...      True      False     False      True       True      False   \n26  ...      True      False     False     False       True      False   \n27  ...      True      False     False      True       True      False   \n28  ...     False      False     False     False      False      False   \n29  ...      True       True     False     False      False      False   \n30  ...      True      False     False      True       True      False   \n31  ...     False      False     False     False       True      False   \n32  ...     False      False     False     False      False      False   \n33  ...     False      False     False     False      False      False   \n34  ...     False      False     False     False      False      False   \n35  ...      True       True      True     False       True       True   \n36  ...      True      False      True      True       True       True   \n37  ...     False      False      True     False      False      False   \n38  ...     False      False     False     False      False      False   \n39  ...      True      False     False     False      False      False   \n\n   feature_7  feature_8  feature_9  duration_listed  \n0       True       True       True               16  \n1      False      False       True               83  \n2      False       True       True              151  \n3      False      False      False               86  \n4      False      False       True                7  \n5       True       True       True               67  \n6      False       True       True              307  \n7      False      False       True               73  \n8       True       True       True               87  \n9      False      False       True               43  \n10      True       True       True               11  \n11     False       True       True               80  \n12     False      False      False                2  \n13     False      False      False              230  \n14     False       True       True               63  \n15     False      False       True               35  \n16     False       True       True              468  \n17     False      False       True               21  \n18      True       True       True               16  \n19      True       True       True               59  \n20     False       True       True               13  \n21     False       True       True              188  \n22     False       True       True               37  \n23     False       True       True               86  \n24     False       True      False               67  \n25     False       True       True              204  \n26     False      False       True               71  \n27     False      False       True               21  \n28     False      False       True              581  \n29     False      False       True               48  \n30     False      False       True               60  \n31     False       True      False               85  \n32     False      False       True               91  \n33     False       True       True               20  \n34     False      False      False              174  \n35      True      False       True               62  \n36      True       True       True               15  \n37     False      False       True               91  \n38     False      False      False               70  \n39     False      False       True               46  \n\n[40 rows x 30 columns]",
      "text/html": "<div>\n<style scoped>\n    .dataframe tbody tr th:only-of-type {\n        vertical-align: middle;\n    }\n\n    .dataframe tbody tr th {\n        vertical-align: top;\n    }\n\n    .dataframe thead th {\n        text-align: right;\n    }\n</style>\n<table border=\"1\" class=\"dataframe\">\n  <thead>\n    <tr style=\"text-align: right;\">\n      <th></th>\n      <th>manufacturer_name</th>\n      <th>model_name</th>\n      <th>transmission</th>\n      <th>color</th>\n      <th>odometer_value</th>\n      <th>year_produced</th>\n      <th>engine_fuel</th>\n      <th>engine_has_gas</th>\n      <th>engine_type</th>\n      <th>engine_capacity</th>\n      <th>...</th>\n      <th>feature_1</th>\n      <th>feature_2</th>\n      <th>feature_3</th>\n      <th>feature_4</th>\n      <th>feature_5</th>\n      <th>feature_6</th>\n      <th>feature_7</th>\n      <th>feature_8</th>\n      <th>feature_9</th>\n      <th>duration_listed</th>\n    </tr>\n  </thead>\n  <tbody>\n    <tr>\n      <th>0</th>\n      <td>Subaru</td>\n      <td>Outback</td>\n      <td>automatic</td>\n      <td>silver</td>\n      <td>190000</td>\n      <td>2010</td>\n      <td>gasoline</td>\n      <td>False</td>\n      <td>gasoline</td>\n      <td>2.5</td>\n      <td>...</td>\n      <td>True</td>\n      <td>True</td>\n      <td>True</td>\n      <td>False</td>\n      <td>True</td>\n      <td>False</td>\n      <td>True</td>\n      <td>True</td>\n      <td>True</td>\n      <td>16</td>\n    </tr>\n    <tr>\n      <th>1</th>\n      <td>Subaru</td>\n      <td>Outback</td>\n      <td>automatic</td>\n      <td>blue</td>\n      <td>290000</td>\n      <td>2002</td>\n      <td>gasoline</td>\n      <td>False</td>\n      <td>gasoline</td>\n      <td>3.0</td>\n      <td>...</td>\n      <td>True</td>\n      <td>False</td>\n      <td>False</td>\n      <td>True</td>\n      <td>True</td>\n      <td>False</td>\n      <td>False</td>\n      <td>False</td>\n      <td>True</td>\n      <td>83</td>\n    </tr>\n    <tr>\n      <th>2</th>\n      <td>Subaru</td>\n      <td>Forester</td>\n      <td>automatic</td>\n      <td>red</td>\n      <td>402000</td>\n      <td>2001</td>\n      <td>gasoline</td>\n      <td>False</td>\n      <td>gasoline</td>\n      <td>2.5</td>\n      <td>...</td>\n      <td>True</td>\n      <td>False</td>\n      <td>False</td>\n      <td>False</td>\n      <td>False</td>\n      <td>False</td>\n      <td>False</td>\n      <td>True</td>\n      <td>True</td>\n      <td>151</td>\n    </tr>\n    <tr>\n      <th>3</th>\n      <td>Subaru</td>\n      <td>Impreza</td>\n      <td>mechanical</td>\n      <td>blue</td>\n      <td>10000</td>\n      <td>1999</td>\n      <td>gasoline</td>\n      <td>False</td>\n      <td>gasoline</td>\n      <td>3.0</td>\n      <td>...</td>\n      <td>False</td>\n      <td>False</td>\n      <td>False</td>\n      <td>False</td>\n      <td>False</td>\n      <td>False</td>\n      <td>False</td>\n      <td>False</td>\n      <td>False</td>\n      <td>86</td>\n    </tr>\n    <tr>\n      <th>4</th>\n      <td>Subaru</td>\n      <td>Legacy</td>\n      <td>automatic</td>\n      <td>black</td>\n      <td>280000</td>\n      <td>2001</td>\n      <td>gasoline</td>\n      <td>False</td>\n      <td>gasoline</td>\n      <td>2.5</td>\n      <td>...</td>\n      <td>True</td>\n      <td>False</td>\n      <td>True</td>\n      <td>True</td>\n      <td>False</td>\n      <td>False</td>\n      <td>False</td>\n      <td>False</td>\n      <td>True</td>\n      <td>7</td>\n    </tr>\n    <tr>\n      <th>5</th>\n      <td>Subaru</td>\n      <td>Outback</td>\n      <td>automatic</td>\n      <td>silver</td>\n      <td>132449</td>\n      <td>2011</td>\n      <td>gasoline</td>\n      <td>False</td>\n      <td>gasoline</td>\n      <td>2.5</td>\n      <td>...</td>\n      <td>True</td>\n      <td>False</td>\n      <td>False</td>\n      <td>False</td>\n      <td>True</td>\n      <td>False</td>\n      <td>True</td>\n      <td>True</td>\n      <td>True</td>\n      <td>67</td>\n    </tr>\n    <tr>\n      <th>6</th>\n      <td>Subaru</td>\n      <td>Forester</td>\n      <td>automatic</td>\n      <td>black</td>\n      <td>318280</td>\n      <td>1998</td>\n      <td>gasoline</td>\n      <td>False</td>\n      <td>gasoline</td>\n      <td>2.5</td>\n      <td>...</td>\n      <td>True</td>\n      <td>False</td>\n      <td>False</td>\n      <td>True</td>\n      <td>True</td>\n      <td>False</td>\n      <td>False</td>\n      <td>True</td>\n      <td>True</td>\n      <td>307</td>\n    </tr>\n    <tr>\n      <th>7</th>\n      <td>Subaru</td>\n      <td>Legacy</td>\n      <td>automatic</td>\n      <td>silver</td>\n      <td>350000</td>\n      <td>2004</td>\n      <td>gasoline</td>\n      <td>False</td>\n      <td>gasoline</td>\n      <td>2.5</td>\n      <td>...</td>\n      <td>True</td>\n      <td>True</td>\n      <td>False</td>\n      <td>False</td>\n      <td>False</td>\n      <td>False</td>\n      <td>False</td>\n      <td>False</td>\n      <td>True</td>\n      <td>73</td>\n    </tr>\n    <tr>\n      <th>8</th>\n      <td>Subaru</td>\n      <td>Outback</td>\n      <td>automatic</td>\n      <td>grey</td>\n      <td>179000</td>\n      <td>2010</td>\n      <td>gasoline</td>\n      <td>False</td>\n      <td>gasoline</td>\n      <td>2.5</td>\n      <td>...</td>\n      <td>True</td>\n      <td>True</td>\n      <td>True</td>\n      <td>True</td>\n      <td>True</td>\n      <td>True</td>\n      <td>True</td>\n      <td>True</td>\n      <td>True</td>\n      <td>87</td>\n    </tr>\n    <tr>\n      <th>9</th>\n      <td>Subaru</td>\n      <td>Forester</td>\n      <td>automatic</td>\n      <td>silver</td>\n      <td>571317</td>\n      <td>1999</td>\n      <td>gasoline</td>\n      <td>False</td>\n      <td>gasoline</td>\n      <td>2.5</td>\n      <td>...</td>\n      <td>True</td>\n      <td>True</td>\n      <td>False</td>\n      <td>False</td>\n      <td>True</td>\n      <td>False</td>\n      <td>False</td>\n      <td>False</td>\n      <td>True</td>\n      <td>43</td>\n    </tr>\n    <tr>\n      <th>10</th>\n      <td>Subaru</td>\n      <td>Forester</td>\n      <td>mechanical</td>\n      <td>other</td>\n      <td>280000</td>\n      <td>2003</td>\n      <td>gasoline</td>\n      <td>False</td>\n      <td>gasoline</td>\n      <td>2.0</td>\n      <td>...</td>\n      <td>True</td>\n      <td>False</td>\n      <td>True</td>\n      <td>False</td>\n      <td>True</td>\n      <td>False</td>\n      <td>True</td>\n      <td>True</td>\n      <td>True</td>\n      <td>11</td>\n    </tr>\n    <tr>\n      <th>11</th>\n      <td>Subaru</td>\n      <td>Tribeca</td>\n      <td>automatic</td>\n      <td>grey</td>\n      <td>256000</td>\n      <td>2008</td>\n      <td>gasoline</td>\n      <td>False</td>\n      <td>gasoline</td>\n      <td>3.6</td>\n      <td>...</td>\n      <td>True</td>\n      <td>True</td>\n      <td>True</td>\n      <td>True</td>\n      <td>True</td>\n      <td>False</td>\n      <td>False</td>\n      <td>True</td>\n      <td>True</td>\n      <td>80</td>\n    </tr>\n    <tr>\n      <th>12</th>\n      <td>Subaru</td>\n      <td>Forester</td>\n      <td>mechanical</td>\n      <td>other</td>\n      <td>321000</td>\n      <td>2002</td>\n      <td>gasoline</td>\n      <td>False</td>\n      <td>gasoline</td>\n      <td>2.0</td>\n      <td>...</td>\n      <td>True</td>\n      <td>False</td>\n      <td>False</td>\n      <td>False</td>\n      <td>False</td>\n      <td>False</td>\n      <td>False</td>\n      <td>False</td>\n      <td>False</td>\n      <td>2</td>\n    </tr>\n    <tr>\n      <th>13</th>\n      <td>Subaru</td>\n      <td>Justy</td>\n      <td>mechanical</td>\n      <td>red</td>\n      <td>49999</td>\n      <td>2001</td>\n      <td>gasoline</td>\n      <td>False</td>\n      <td>gasoline</td>\n      <td>1.3</td>\n      <td>...</td>\n      <td>False</td>\n      <td>False</td>\n      <td>False</td>\n      <td>False</td>\n      <td>False</td>\n      <td>False</td>\n      <td>False</td>\n      <td>False</td>\n      <td>False</td>\n      <td>230</td>\n    </tr>\n    <tr>\n      <th>14</th>\n      <td>Subaru</td>\n      <td>Outback</td>\n      <td>automatic</td>\n      <td>brown</td>\n      <td>154685</td>\n      <td>2011</td>\n      <td>gasoline</td>\n      <td>False</td>\n      <td>gasoline</td>\n      <td>2.5</td>\n      <td>...</td>\n      <td>True</td>\n      <td>False</td>\n      <td>True</td>\n      <td>False</td>\n      <td>False</td>\n      <td>False</td>\n      <td>False</td>\n      <td>True</td>\n      <td>True</td>\n      <td>63</td>\n    </tr>\n    <tr>\n      <th>15</th>\n      <td>Subaru</td>\n      <td>Outback</td>\n      <td>automatic</td>\n      <td>black</td>\n      <td>163219</td>\n      <td>2004</td>\n      <td>gasoline</td>\n      <td>False</td>\n      <td>gasoline</td>\n      <td>2.0</td>\n      <td>...</td>\n      <td>True</td>\n      <td>True</td>\n      <td>False</td>\n      <td>True</td>\n      <td>True</td>\n      <td>False</td>\n      <td>False</td>\n      <td>False</td>\n      <td>True</td>\n      <td>35</td>\n    </tr>\n    <tr>\n      <th>16</th>\n      <td>Subaru</td>\n      <td>Outback</td>\n      <td>automatic</td>\n      <td>other</td>\n      <td>318650</td>\n      <td>2005</td>\n      <td>gasoline</td>\n      <td>False</td>\n      <td>gasoline</td>\n      <td>3.0</td>\n      <td>...</td>\n      <td>True</td>\n      <td>False</td>\n      <td>True</td>\n      <td>True</td>\n      <td>True</td>\n      <td>False</td>\n      <td>False</td>\n      <td>True</td>\n      <td>True</td>\n      <td>468</td>\n    </tr>\n    <tr>\n      <th>17</th>\n      <td>Subaru</td>\n      <td>Impreza</td>\n      <td>mechanical</td>\n      <td>blue</td>\n      <td>191000</td>\n      <td>2005</td>\n      <td>gasoline</td>\n      <td>False</td>\n      <td>gasoline</td>\n      <td>2.0</td>\n      <td>...</td>\n      <td>True</td>\n      <td>False</td>\n      <td>False</td>\n      <td>False</td>\n      <td>False</td>\n      <td>False</td>\n      <td>False</td>\n      <td>False</td>\n      <td>True</td>\n      <td>21</td>\n    </tr>\n    <tr>\n      <th>18</th>\n      <td>Subaru</td>\n      <td>Forester</td>\n      <td>automatic</td>\n      <td>silver</td>\n      <td>179000</td>\n      <td>2014</td>\n      <td>gasoline</td>\n      <td>False</td>\n      <td>gasoline</td>\n      <td>2.0</td>\n      <td>...</td>\n      <td>False</td>\n      <td>True</td>\n      <td>True</td>\n      <td>False</td>\n      <td>True</td>\n      <td>True</td>\n      <td>True</td>\n      <td>True</td>\n      <td>True</td>\n      <td>16</td>\n    </tr>\n    <tr>\n      <th>19</th>\n      <td>Subaru</td>\n      <td>Forester</td>\n      <td>automatic</td>\n      <td>black</td>\n      <td>159000</td>\n      <td>2013</td>\n      <td>gasoline</td>\n      <td>False</td>\n      <td>gasoline</td>\n      <td>2.0</td>\n      <td>...</td>\n      <td>True</td>\n      <td>True</td>\n      <td>False</td>\n      <td>True</td>\n      <td>True</td>\n      <td>False</td>\n      <td>True</td>\n      <td>True</td>\n      <td>True</td>\n      <td>59</td>\n    </tr>\n    <tr>\n      <th>20</th>\n      <td>Subaru</td>\n      <td>Outback</td>\n      <td>automatic</td>\n      <td>white</td>\n      <td>257495</td>\n      <td>2008</td>\n      <td>gasoline</td>\n      <td>False</td>\n      <td>gasoline</td>\n      <td>2.5</td>\n      <td>...</td>\n      <td>True</td>\n      <td>True</td>\n      <td>False</td>\n      <td>True</td>\n      <td>True</td>\n      <td>True</td>\n      <td>False</td>\n      <td>True</td>\n      <td>True</td>\n      <td>13</td>\n    </tr>\n    <tr>\n      <th>21</th>\n      <td>Subaru</td>\n      <td>Tribeca</td>\n      <td>automatic</td>\n      <td>silver</td>\n      <td>241402</td>\n      <td>2005</td>\n      <td>gasoline</td>\n      <td>False</td>\n      <td>gasoline</td>\n      <td>3.0</td>\n      <td>...</td>\n      <td>True</td>\n      <td>False</td>\n      <td>True</td>\n      <td>True</td>\n      <td>True</td>\n      <td>True</td>\n      <td>False</td>\n      <td>True</td>\n      <td>True</td>\n      <td>188</td>\n    </tr>\n    <tr>\n      <th>22</th>\n      <td>Subaru</td>\n      <td>Tribeca</td>\n      <td>automatic</td>\n      <td>black</td>\n      <td>188000</td>\n      <td>2006</td>\n      <td>gasoline</td>\n      <td>False</td>\n      <td>gasoline</td>\n      <td>3.0</td>\n      <td>...</td>\n      <td>True</td>\n      <td>False</td>\n      <td>False</td>\n      <td>True</td>\n      <td>True</td>\n      <td>False</td>\n      <td>False</td>\n      <td>True</td>\n      <td>True</td>\n      <td>37</td>\n    </tr>\n    <tr>\n      <th>23</th>\n      <td>Subaru</td>\n      <td>Forester</td>\n      <td>automatic</td>\n      <td>blue</td>\n      <td>240000</td>\n      <td>2001</td>\n      <td>gasoline</td>\n      <td>False</td>\n      <td>gasoline</td>\n      <td>2.5</td>\n      <td>...</td>\n      <td>True</td>\n      <td>False</td>\n      <td>False</td>\n      <td>True</td>\n      <td>False</td>\n      <td>False</td>\n      <td>False</td>\n      <td>True</td>\n      <td>True</td>\n      <td>86</td>\n    </tr>\n    <tr>\n      <th>24</th>\n      <td>Subaru</td>\n      <td>Legacy</td>\n      <td>automatic</td>\n      <td>green</td>\n      <td>249448</td>\n      <td>2002</td>\n      <td>gasoline</td>\n      <td>False</td>\n      <td>gasoline</td>\n      <td>2.5</td>\n      <td>...</td>\n      <td>True</td>\n      <td>False</td>\n      <td>False</td>\n      <td>False</td>\n      <td>False</td>\n      <td>False</td>\n      <td>False</td>\n      <td>True</td>\n      <td>False</td>\n      <td>67</td>\n    </tr>\n    <tr>\n      <th>25</th>\n      <td>Subaru</td>\n      <td>Tribeca</td>\n      <td>automatic</td>\n      <td>other</td>\n      <td>250000</td>\n      <td>2007</td>\n      <td>gasoline</td>\n      <td>False</td>\n      <td>gasoline</td>\n      <td>3.0</td>\n      <td>...</td>\n      <td>True</td>\n      <td>False</td>\n      <td>False</td>\n      <td>True</td>\n      <td>True</td>\n      <td>False</td>\n      <td>False</td>\n      <td>True</td>\n      <td>True</td>\n      <td>204</td>\n    </tr>\n    <tr>\n      <th>26</th>\n      <td>Subaru</td>\n      <td>Outback</td>\n      <td>automatic</td>\n      <td>green</td>\n      <td>417000</td>\n      <td>1997</td>\n      <td>gasoline</td>\n      <td>False</td>\n      <td>gasoline</td>\n      <td>2.0</td>\n      <td>...</td>\n      <td>True</td>\n      <td>False</td>\n      <td>False</td>\n      <td>False</td>\n      <td>True</td>\n      <td>False</td>\n      <td>False</td>\n      <td>False</td>\n      <td>True</td>\n      <td>71</td>\n    </tr>\n    <tr>\n      <th>27</th>\n      <td>Subaru</td>\n      <td>Outback</td>\n      <td>automatic</td>\n      <td>violet</td>\n      <td>377000</td>\n      <td>1999</td>\n      <td>gasoline</td>\n      <td>False</td>\n      <td>gasoline</td>\n      <td>2.5</td>\n      <td>...</td>\n      <td>True</td>\n      <td>False</td>\n      <td>False</td>\n      <td>True</td>\n      <td>True</td>\n      <td>False</td>\n      <td>False</td>\n      <td>False</td>\n      <td>True</td>\n      <td>21</td>\n    </tr>\n    <tr>\n      <th>28</th>\n      <td>Subaru</td>\n      <td>Impreza</td>\n      <td>mechanical</td>\n      <td>black</td>\n      <td>300000</td>\n      <td>1999</td>\n      <td>gasoline</td>\n      <td>False</td>\n      <td>gasoline</td>\n      <td>2.0</td>\n      <td>...</td>\n      <td>False</td>\n      <td>False</td>\n      <td>False</td>\n      <td>False</td>\n      <td>False</td>\n      <td>False</td>\n      <td>False</td>\n      <td>False</td>\n      <td>True</td>\n      <td>581</td>\n    </tr>\n    <tr>\n      <th>29</th>\n      <td>Subaru</td>\n      <td>Legacy</td>\n      <td>mechanical</td>\n      <td>black</td>\n      <td>270000</td>\n      <td>2004</td>\n      <td>gasoline</td>\n      <td>False</td>\n      <td>gasoline</td>\n      <td>2.0</td>\n      <td>...</td>\n      <td>True</td>\n      <td>True</td>\n      <td>False</td>\n      <td>False</td>\n      <td>False</td>\n      <td>False</td>\n      <td>False</td>\n      <td>False</td>\n      <td>True</td>\n      <td>48</td>\n    </tr>\n    <tr>\n      <th>30</th>\n      <td>Subaru</td>\n      <td>Forester</td>\n      <td>mechanical</td>\n      <td>green</td>\n      <td>444444</td>\n      <td>1999</td>\n      <td>gasoline</td>\n      <td>False</td>\n      <td>gasoline</td>\n      <td>2.0</td>\n      <td>...</td>\n      <td>True</td>\n      <td>False</td>\n      <td>False</td>\n      <td>True</td>\n      <td>True</td>\n      <td>False</td>\n      <td>False</td>\n      <td>False</td>\n      <td>True</td>\n      <td>60</td>\n    </tr>\n    <tr>\n      <th>31</th>\n      <td>Subaru</td>\n      <td>Legacy</td>\n      <td>automatic</td>\n      <td>black</td>\n      <td>299000</td>\n      <td>1994</td>\n      <td>gas</td>\n      <td>True</td>\n      <td>gasoline</td>\n      <td>2.2</td>\n      <td>...</td>\n      <td>False</td>\n      <td>False</td>\n      <td>False</td>\n      <td>False</td>\n      <td>True</td>\n      <td>False</td>\n      <td>False</td>\n      <td>True</td>\n      <td>False</td>\n      <td>85</td>\n    </tr>\n    <tr>\n      <th>32</th>\n      <td>Subaru</td>\n      <td>Impreza</td>\n      <td>mechanical</td>\n      <td>violet</td>\n      <td>340000</td>\n      <td>1993</td>\n      <td>gasoline</td>\n      <td>False</td>\n      <td>gasoline</td>\n      <td>1.6</td>\n      <td>...</td>\n      <td>False</td>\n      <td>False</td>\n      <td>False</td>\n      <td>False</td>\n      <td>False</td>\n      <td>False</td>\n      <td>False</td>\n      <td>False</td>\n      <td>True</td>\n      <td>91</td>\n    </tr>\n    <tr>\n      <th>33</th>\n      <td>Subaru</td>\n      <td>Legacy</td>\n      <td>mechanical</td>\n      <td>black</td>\n      <td>123456</td>\n      <td>1991</td>\n      <td>gasoline</td>\n      <td>False</td>\n      <td>gasoline</td>\n      <td>2.2</td>\n      <td>...</td>\n      <td>False</td>\n      <td>False</td>\n      <td>False</td>\n      <td>False</td>\n      <td>False</td>\n      <td>False</td>\n      <td>False</td>\n      <td>True</td>\n      <td>True</td>\n      <td>20</td>\n    </tr>\n    <tr>\n      <th>34</th>\n      <td>Subaru</td>\n      <td>Impreza</td>\n      <td>mechanical</td>\n      <td>silver</td>\n      <td>118000</td>\n      <td>2011</td>\n      <td>gasoline</td>\n      <td>False</td>\n      <td>gasoline</td>\n      <td>2.5</td>\n      <td>...</td>\n      <td>False</td>\n      <td>False</td>\n      <td>False</td>\n      <td>False</td>\n      <td>False</td>\n      <td>False</td>\n      <td>False</td>\n      <td>False</td>\n      <td>False</td>\n      <td>174</td>\n    </tr>\n    <tr>\n      <th>35</th>\n      <td>Subaru</td>\n      <td>Impreza</td>\n      <td>automatic</td>\n      <td>black</td>\n      <td>246113</td>\n      <td>2008</td>\n      <td>gasoline</td>\n      <td>False</td>\n      <td>gasoline</td>\n      <td>1.5</td>\n      <td>...</td>\n      <td>True</td>\n      <td>True</td>\n      <td>True</td>\n      <td>False</td>\n      <td>True</td>\n      <td>True</td>\n      <td>True</td>\n      <td>False</td>\n      <td>True</td>\n      <td>62</td>\n    </tr>\n    <tr>\n      <th>36</th>\n      <td>Subaru</td>\n      <td>Outback</td>\n      <td>automatic</td>\n      <td>green</td>\n      <td>128748</td>\n      <td>2016</td>\n      <td>gasoline</td>\n      <td>False</td>\n      <td>gasoline</td>\n      <td>3.6</td>\n      <td>...</td>\n      <td>True</td>\n      <td>False</td>\n      <td>True</td>\n      <td>True</td>\n      <td>True</td>\n      <td>True</td>\n      <td>True</td>\n      <td>True</td>\n      <td>True</td>\n      <td>15</td>\n    </tr>\n    <tr>\n      <th>37</th>\n      <td>Subaru</td>\n      <td>Legacy</td>\n      <td>mechanical</td>\n      <td>red</td>\n      <td>100000</td>\n      <td>1994</td>\n      <td>gasoline</td>\n      <td>False</td>\n      <td>gasoline</td>\n      <td>2.0</td>\n      <td>...</td>\n      <td>False</td>\n      <td>False</td>\n      <td>True</td>\n      <td>False</td>\n      <td>False</td>\n      <td>False</td>\n      <td>False</td>\n      <td>False</td>\n      <td>True</td>\n      <td>91</td>\n    </tr>\n    <tr>\n      <th>38</th>\n      <td>Subaru</td>\n      <td>Outback</td>\n      <td>automatic</td>\n      <td>blue</td>\n      <td>342790</td>\n      <td>1999</td>\n      <td>gasoline</td>\n      <td>False</td>\n      <td>gasoline</td>\n      <td>2.5</td>\n      <td>...</td>\n      <td>False</td>\n      <td>False</td>\n      <td>False</td>\n      <td>False</td>\n      <td>False</td>\n      <td>False</td>\n      <td>False</td>\n      <td>False</td>\n      <td>False</td>\n      <td>70</td>\n    </tr>\n    <tr>\n      <th>39</th>\n      <td>Subaru</td>\n      <td>Forester</td>\n      <td>mechanical</td>\n      <td>silver</td>\n      <td>390000</td>\n      <td>1997</td>\n      <td>gasoline</td>\n      <td>False</td>\n      <td>gasoline</td>\n      <td>2.0</td>\n      <td>...</td>\n      <td>True</td>\n      <td>False</td>\n      <td>False</td>\n      <td>False</td>\n      <td>False</td>\n      <td>False</td>\n      <td>False</td>\n      <td>False</td>\n      <td>True</td>\n      <td>46</td>\n    </tr>\n  </tbody>\n</table>\n<p>40 rows × 30 columns</p>\n</div>"
     },
     "metadata": {}
    }
   ],
   "execution_count": null
  },
  {
   "cell_type": "code",
   "metadata": {
    "cell_id": "090d63a29c0f4223aa2d402733c70129",
    "tags": [],
    "deepnote_to_be_reexecuted": false,
    "source_hash": "b623e53d",
    "execution_start": 1649168136067,
    "execution_millis": 1,
    "deepnote_cell_type": "code",
    "deepnote_cell_height": 81.15625
   },
   "source": "",
   "outputs": [],
   "execution_count": null
  },
  {
   "cell_type": "markdown",
   "source": "#### Comodo podemos ver los tipos de datos que tiene nuestro dataset? ",
   "metadata": {
    "cell_id": "4eb7bc72a0c94ecdbddd45f398fd7bfe",
    "tags": [],
    "deepnote_cell_type": "markdown",
    "deepnote_cell_height": 54.15625
   }
  },
  {
   "cell_type": "code",
   "metadata": {
    "cell_id": "8d4d570e931f4046a8902312fbf19353",
    "tags": [],
    "deepnote_to_be_reexecuted": false,
    "source_hash": "da1321b7",
    "execution_start": 1649168136122,
    "execution_millis": 55,
    "deepnote_cell_type": "code",
    "deepnote_cell_height": 766.953125,
    "deepnote_output_heights": [
     596.6875
    ]
   },
   "source": "dataset.dtypes\n#Que podemos ver?\n#Categoricos: object, bool (object normalmente posee texto)\n#Numéricos: int64 (discreto), float64 (contínuo)\n",
   "outputs": [
    {
     "output_type": "execute_result",
     "execution_count": 3,
     "data": {
      "text/plain": "manufacturer_name     object\nmodel_name            object\ntransmission          object\ncolor                 object\nodometer_value         int64\nyear_produced          int64\nengine_fuel           object\nengine_has_gas          bool\nengine_type           object\nengine_capacity      float64\nbody_type             object\nhas_warranty            bool\nstate                 object\ndrivetrain            object\nprice_usd            float64\nis_exchangeable         bool\nlocation_region       object\nnumber_of_photos       int64\nup_counter             int64\nfeature_0               bool\nfeature_1               bool\nfeature_2               bool\nfeature_3               bool\nfeature_4               bool\nfeature_5               bool\nfeature_6               bool\nfeature_7               bool\nfeature_8               bool\nfeature_9               bool\nduration_listed        int64\ndtype: object"
     },
     "metadata": {}
    }
   ],
   "execution_count": null
  },
  {
   "cell_type": "code",
   "metadata": {
    "cell_id": "4f2e4497d83945d7aa809a8f8b3de9a6",
    "tags": [],
    "deepnote_to_be_reexecuted": false,
    "source_hash": "1e5f6a4a",
    "execution_start": 1649168136123,
    "execution_millis": 56,
    "deepnote_cell_type": "code",
    "deepnote_cell_height": 537.140625
   },
   "source": "dataset.describe() #Vemos medidas estadisticas ",
   "outputs": [
    {
     "output_type": "execute_result",
     "execution_count": 4,
     "data": {
      "application/vnd.deepnote.dataframe.v3+json": {
       "column_count": 7,
       "row_count": 8,
       "columns": [
        {
         "name": "odometer_value",
         "dtype": "float64",
         "stats": {
          "unique_count": 8,
          "nan_count": 0,
          "min": "0.0",
          "max": "1000000.0",
          "histogram": [
           {
            "bin_start": 0,
            "bin_end": 100000,
            "count": 2
           },
           {
            "bin_start": 100000,
            "bin_end": 200000,
            "count": 2
           },
           {
            "bin_start": 200000,
            "bin_end": 300000,
            "count": 2
           },
           {
            "bin_start": 300000,
            "bin_end": 400000,
            "count": 1
           },
           {
            "bin_start": 400000,
            "bin_end": 500000,
            "count": 0
           },
           {
            "bin_start": 500000,
            "bin_end": 600000,
            "count": 0
           },
           {
            "bin_start": 600000,
            "bin_end": 700000,
            "count": 0
           },
           {
            "bin_start": 700000,
            "bin_end": 800000,
            "count": 0
           },
           {
            "bin_start": 800000,
            "bin_end": 900000,
            "count": 0
           },
           {
            "bin_start": 900000,
            "bin_end": 1000000,
            "count": 1
           }
          ]
         }
        },
        {
         "name": "year_produced",
         "dtype": "float64",
         "stats": {
          "unique_count": 8,
          "nan_count": 0,
          "min": "8.065730511309914",
          "max": "38531.0",
          "histogram": [
           {
            "bin_start": 8.065730511309914,
            "bin_end": 3860.3591574601787,
            "count": 7
           },
           {
            "bin_start": 3860.3591574601787,
            "bin_end": 7712.652584409047,
            "count": 0
           },
           {
            "bin_start": 7712.652584409047,
            "bin_end": 11564.946011357915,
            "count": 0
           },
           {
            "bin_start": 11564.946011357915,
            "bin_end": 15417.239438306784,
            "count": 0
           },
           {
            "bin_start": 15417.239438306784,
            "bin_end": 19269.532865255653,
            "count": 0
           },
           {
            "bin_start": 19269.532865255653,
            "bin_end": 23121.82629220452,
            "count": 0
           },
           {
            "bin_start": 23121.82629220452,
            "bin_end": 26974.11971915339,
            "count": 0
           },
           {
            "bin_start": 26974.11971915339,
            "bin_end": 30826.41314610226,
            "count": 0
           },
           {
            "bin_start": 30826.41314610226,
            "bin_end": 34678.70657305113,
            "count": 0
           },
           {
            "bin_start": 34678.70657305113,
            "bin_end": 38531,
            "count": 1
           }
          ]
         }
        },
        {
         "name": "engine_capacity",
         "dtype": "float64",
         "stats": {
          "unique_count": 8,
          "nan_count": 0,
          "min": "0.2",
          "max": "38521.0",
          "histogram": [
           {
            "bin_start": 0.2,
            "bin_end": 3852.28,
            "count": 7
           },
           {
            "bin_start": 3852.28,
            "bin_end": 7704.360000000001,
            "count": 0
           },
           {
            "bin_start": 7704.360000000001,
            "bin_end": 11556.440000000002,
            "count": 0
           },
           {
            "bin_start": 11556.440000000002,
            "bin_end": 15408.520000000002,
            "count": 0
           },
           {
            "bin_start": 15408.520000000002,
            "bin_end": 19260.600000000002,
            "count": 0
           },
           {
            "bin_start": 19260.600000000002,
            "bin_end": 23112.680000000004,
            "count": 0
           },
           {
            "bin_start": 23112.680000000004,
            "bin_end": 26964.760000000002,
            "count": 0
           },
           {
            "bin_start": 26964.760000000002,
            "bin_end": 30816.840000000004,
            "count": 0
           },
           {
            "bin_start": 30816.840000000004,
            "bin_end": 34668.92,
            "count": 0
           },
           {
            "bin_start": 34668.92,
            "bin_end": 38521,
            "count": 1
           }
          ]
         }
        },
        {
         "name": "price_usd",
         "dtype": "float64",
         "stats": {
          "unique_count": 8,
          "nan_count": 0,
          "min": "1.0",
          "max": "50000.0",
          "histogram": [
           {
            "bin_start": 1,
            "bin_end": 5000.9,
            "count": 3
           },
           {
            "bin_start": 5000.9,
            "bin_end": 10000.8,
            "count": 3
           },
           {
            "bin_start": 10000.8,
            "bin_end": 15000.699999999999,
            "count": 0
           },
           {
            "bin_start": 15000.699999999999,
            "bin_end": 20000.6,
            "count": 0
           },
           {
            "bin_start": 20000.6,
            "bin_end": 25000.5,
            "count": 0
           },
           {
            "bin_start": 25000.5,
            "bin_end": 30000.399999999998,
            "count": 0
           },
           {
            "bin_start": 30000.399999999998,
            "bin_end": 35000.299999999996,
            "count": 0
           },
           {
            "bin_start": 35000.299999999996,
            "bin_end": 40000.2,
            "count": 1
           },
           {
            "bin_start": 40000.2,
            "bin_end": 45000.1,
            "count": 0
           },
           {
            "bin_start": 45000.1,
            "bin_end": 50000,
            "count": 1
           }
          ]
         }
        },
        {
         "name": "number_of_photos",
         "dtype": "float64",
         "stats": {
          "unique_count": 8,
          "nan_count": 0,
          "min": "1.0",
          "max": "38531.0",
          "histogram": [
           {
            "bin_start": 1,
            "bin_end": 3854,
            "count": 7
           },
           {
            "bin_start": 3854,
            "bin_end": 7707,
            "count": 0
           },
           {
            "bin_start": 7707,
            "bin_end": 11560,
            "count": 0
           },
           {
            "bin_start": 11560,
            "bin_end": 15413,
            "count": 0
           },
           {
            "bin_start": 15413,
            "bin_end": 19266,
            "count": 0
           },
           {
            "bin_start": 19266,
            "bin_end": 23119,
            "count": 0
           },
           {
            "bin_start": 23119,
            "bin_end": 26972,
            "count": 0
           },
           {
            "bin_start": 26972,
            "bin_end": 30825,
            "count": 0
           },
           {
            "bin_start": 30825,
            "bin_end": 34678,
            "count": 0
           },
           {
            "bin_start": 34678,
            "bin_end": 38531,
            "count": 1
           }
          ]
         }
        },
        {
         "name": "up_counter",
         "dtype": "float64",
         "stats": {
          "unique_count": 8,
          "nan_count": 0,
          "min": "1.0",
          "max": "38531.0",
          "histogram": [
           {
            "bin_start": 1,
            "bin_end": 3854,
            "count": 7
           },
           {
            "bin_start": 3854,
            "bin_end": 7707,
            "count": 0
           },
           {
            "bin_start": 7707,
            "bin_end": 11560,
            "count": 0
           },
           {
            "bin_start": 11560,
            "bin_end": 15413,
            "count": 0
           },
           {
            "bin_start": 15413,
            "bin_end": 19266,
            "count": 0
           },
           {
            "bin_start": 19266,
            "bin_end": 23119,
            "count": 0
           },
           {
            "bin_start": 23119,
            "bin_end": 26972,
            "count": 0
           },
           {
            "bin_start": 26972,
            "bin_end": 30825,
            "count": 0
           },
           {
            "bin_start": 30825,
            "bin_end": 34678,
            "count": 0
           },
           {
            "bin_start": 34678,
            "bin_end": 38531,
            "count": 1
           }
          ]
         }
        },
        {
         "name": "duration_listed",
         "dtype": "float64",
         "stats": {
          "unique_count": 8,
          "nan_count": 0,
          "min": "0.0",
          "max": "38531.0",
          "histogram": [
           {
            "bin_start": 0,
            "bin_end": 3853.1,
            "count": 7
           },
           {
            "bin_start": 3853.1,
            "bin_end": 7706.2,
            "count": 0
           },
           {
            "bin_start": 7706.2,
            "bin_end": 11559.3,
            "count": 0
           },
           {
            "bin_start": 11559.3,
            "bin_end": 15412.4,
            "count": 0
           },
           {
            "bin_start": 15412.4,
            "bin_end": 19265.5,
            "count": 0
           },
           {
            "bin_start": 19265.5,
            "bin_end": 23118.6,
            "count": 0
           },
           {
            "bin_start": 23118.6,
            "bin_end": 26971.7,
            "count": 0
           },
           {
            "bin_start": 26971.7,
            "bin_end": 30824.8,
            "count": 0
           },
           {
            "bin_start": 30824.8,
            "bin_end": 34677.9,
            "count": 0
           },
           {
            "bin_start": 34677.9,
            "bin_end": 38531,
            "count": 1
           }
          ]
         }
        },
        {
         "name": "_deepnote_index_column",
         "dtype": "object"
        }
       ],
       "rows": [
        {
         "odometer_value": 38531,
         "year_produced": 38531,
         "engine_capacity": 38521,
         "price_usd": 38531,
         "number_of_photos": 38531,
         "up_counter": 38531,
         "duration_listed": 38531,
         "_deepnote_index_column": "count"
        },
        {
         "odometer_value": 248864.6384469648,
         "year_produced": 2002.9437336170874,
         "engine_capacity": 2.055161106928688,
         "price_usd": 6639.971021255613,
         "number_of_photos": 9.649061794399314,
         "up_counter": 16.306091199294073,
         "duration_listed": 80.5772494874257,
         "_deepnote_index_column": "mean"
        },
        {
         "odometer_value": 136072.37652978083,
         "year_produced": 8.065730511309914,
         "engine_capacity": 0.671177667208744,
         "price_usd": 6428.1520182029035,
         "number_of_photos": 6.093216996872852,
         "up_counter": 43.286933094223144,
         "duration_listed": 112.82656864261294,
         "_deepnote_index_column": "std"
        },
        {
         "odometer_value": 0,
         "year_produced": 1942,
         "engine_capacity": 0.2,
         "price_usd": 1,
         "number_of_photos": 1,
         "up_counter": 1,
         "duration_listed": 0,
         "_deepnote_index_column": "min"
        },
        {
         "odometer_value": 158000,
         "year_produced": 1998,
         "engine_capacity": 1.6,
         "price_usd": 2100,
         "number_of_photos": 5,
         "up_counter": 2,
         "duration_listed": 23,
         "_deepnote_index_column": "25%"
        },
        {
         "odometer_value": 250000,
         "year_produced": 2003,
         "engine_capacity": 2,
         "price_usd": 4800,
         "number_of_photos": 8,
         "up_counter": 5,
         "duration_listed": 59,
         "_deepnote_index_column": "50%"
        },
        {
         "odometer_value": 325000,
         "year_produced": 2009,
         "engine_capacity": 2.3,
         "price_usd": 8990,
         "number_of_photos": 12,
         "up_counter": 16,
         "duration_listed": 91,
         "_deepnote_index_column": "75%"
        },
        {
         "odometer_value": 1000000,
         "year_produced": 2019,
         "engine_capacity": 8,
         "price_usd": 50000,
         "number_of_photos": 86,
         "up_counter": 1861,
         "duration_listed": 2232,
         "_deepnote_index_column": "max"
        }
       ]
      },
      "text/plain": "       odometer_value  year_produced  engine_capacity     price_usd  \\\ncount    38531.000000   38531.000000     38521.000000  38531.000000   \nmean    248864.638447    2002.943734         2.055161   6639.971021   \nstd     136072.376530       8.065731         0.671178   6428.152018   \nmin          0.000000    1942.000000         0.200000      1.000000   \n25%     158000.000000    1998.000000         1.600000   2100.000000   \n50%     250000.000000    2003.000000         2.000000   4800.000000   \n75%     325000.000000    2009.000000         2.300000   8990.000000   \nmax    1000000.000000    2019.000000         8.000000  50000.000000   \n\n       number_of_photos    up_counter  duration_listed  \ncount      38531.000000  38531.000000     38531.000000  \nmean           9.649062     16.306091        80.577249  \nstd            6.093217     43.286933       112.826569  \nmin            1.000000      1.000000         0.000000  \n25%            5.000000      2.000000        23.000000  \n50%            8.000000      5.000000        59.000000  \n75%           12.000000     16.000000        91.000000  \nmax           86.000000   1861.000000      2232.000000  ",
      "text/html": "<div>\n<style scoped>\n    .dataframe tbody tr th:only-of-type {\n        vertical-align: middle;\n    }\n\n    .dataframe tbody tr th {\n        vertical-align: top;\n    }\n\n    .dataframe thead th {\n        text-align: right;\n    }\n</style>\n<table border=\"1\" class=\"dataframe\">\n  <thead>\n    <tr style=\"text-align: right;\">\n      <th></th>\n      <th>odometer_value</th>\n      <th>year_produced</th>\n      <th>engine_capacity</th>\n      <th>price_usd</th>\n      <th>number_of_photos</th>\n      <th>up_counter</th>\n      <th>duration_listed</th>\n    </tr>\n  </thead>\n  <tbody>\n    <tr>\n      <th>count</th>\n      <td>38531.000000</td>\n      <td>38531.000000</td>\n      <td>38521.000000</td>\n      <td>38531.000000</td>\n      <td>38531.000000</td>\n      <td>38531.000000</td>\n      <td>38531.000000</td>\n    </tr>\n    <tr>\n      <th>mean</th>\n      <td>248864.638447</td>\n      <td>2002.943734</td>\n      <td>2.055161</td>\n      <td>6639.971021</td>\n      <td>9.649062</td>\n      <td>16.306091</td>\n      <td>80.577249</td>\n    </tr>\n    <tr>\n      <th>std</th>\n      <td>136072.376530</td>\n      <td>8.065731</td>\n      <td>0.671178</td>\n      <td>6428.152018</td>\n      <td>6.093217</td>\n      <td>43.286933</td>\n      <td>112.826569</td>\n    </tr>\n    <tr>\n      <th>min</th>\n      <td>0.000000</td>\n      <td>1942.000000</td>\n      <td>0.200000</td>\n      <td>1.000000</td>\n      <td>1.000000</td>\n      <td>1.000000</td>\n      <td>0.000000</td>\n    </tr>\n    <tr>\n      <th>25%</th>\n      <td>158000.000000</td>\n      <td>1998.000000</td>\n      <td>1.600000</td>\n      <td>2100.000000</td>\n      <td>5.000000</td>\n      <td>2.000000</td>\n      <td>23.000000</td>\n    </tr>\n    <tr>\n      <th>50%</th>\n      <td>250000.000000</td>\n      <td>2003.000000</td>\n      <td>2.000000</td>\n      <td>4800.000000</td>\n      <td>8.000000</td>\n      <td>5.000000</td>\n      <td>59.000000</td>\n    </tr>\n    <tr>\n      <th>75%</th>\n      <td>325000.000000</td>\n      <td>2009.000000</td>\n      <td>2.300000</td>\n      <td>8990.000000</td>\n      <td>12.000000</td>\n      <td>16.000000</td>\n      <td>91.000000</td>\n    </tr>\n    <tr>\n      <th>max</th>\n      <td>1000000.000000</td>\n      <td>2019.000000</td>\n      <td>8.000000</td>\n      <td>50000.000000</td>\n      <td>86.000000</td>\n      <td>1861.000000</td>\n      <td>2232.000000</td>\n    </tr>\n  </tbody>\n</table>\n</div>"
     },
     "metadata": {}
    }
   ],
   "execution_count": null
  },
  {
   "cell_type": "markdown",
   "source": "### Hay dos tipos de estadisticos descriptivos para describir un conj. de datos:\n- Tendencia Central: promedio o medida única para tener una noción donde están los datos\n- Medidas de dispersion: que tan dispersos estan los datos de esa medida",
   "metadata": {
    "cell_id": "cf840e821cf242b8bc51678c4e0d973f",
    "tags": [],
    "deepnote_cell_type": "markdown",
    "deepnote_cell_height": 139.890625
   }
  },
  {
   "cell_type": "markdown",
   "source": "#### Tendencia Central: una manera de resumir información! \n- media (promedio): una noción de centralidad de los datos, es una ubicación resumida\na) es el promedio de los datos, que es la suma de todas las observaciones dividida entre el número de observaciones.\nb) valores poco comunes, llamados valores atípicos, pueden afectar a la mediana menos de lo que afectan a la media. Si los datos son simétricos, la media y la mediana son similares.\nIntrepretación de la media: \n\nSimetrica: En la distribución simétrica, la media (línea azul) y la mediana (línea naranja) son tan similares que no es fácil distinguir las dos líneas.\n![Picture title](image-20220403-121833.png)\n\n\nAsimetrica: En cambio, la distribución no simétrica es asimétrica hacia la derecha.\n![Picture title](image-20220403-121655.png)\n\n\n\n- mediana: dato que esta en la mitad del conjunto de dato, valor balanceado tiene la misma cantidad de datos de un lado y del otro\n- moda: dato que mas se repite, no aplica a datos num. continuos: tablas de frecuencias (histogramas)\na) Por ejemplo, una distribución que tiene más de una moda puede identificar que la muestra incluye datos de dos poblaciones. Si los datos contienen dos modas, la distribución es bimodal. Si los datos contienen más de dos modas, la distribución es multimodal.\nUnimodal: en este gráfico vemos que solo hay una moda, 8, que ocurre con más frecuencia.\n![Picture title](image-20220403-122410.png)\n\nBimodal: Hay dos modas, 4 y 16. Los datos parecen representar 2 poblaciones diferentes.\n![Picture title](image-20220403-122548.png)\n\n\n\n\n\n\n",
   "metadata": {
    "cell_id": "4a855aecec604ab7acd5ec663e03328c",
    "tags": [],
    "deepnote_cell_type": "markdown",
    "deepnote_cell_height": 1388.015625
   }
  },
  {
   "cell_type": "code",
   "metadata": {
    "cell_id": "a24def25ff154043980a44e88b830e02",
    "tags": [],
    "deepnote_to_be_reexecuted": false,
    "source_hash": "7bebaedf",
    "execution_start": 1649168136135,
    "execution_millis": 44,
    "deepnote_cell_type": "code",
    "deepnote_cell_height": 118.4375,
    "deepnote_output_heights": [
     21.171875
    ]
   },
   "source": "dataset['price_usd'].median() #mediana de variable continua ",
   "outputs": [
    {
     "output_type": "execute_result",
     "execution_count": 5,
     "data": {
      "text/plain": "4800.0"
     },
     "metadata": {}
    }
   ],
   "execution_count": null
  },
  {
   "cell_type": "code",
   "metadata": {
    "cell_id": "6b680afa243d416a8bae66bf11cb48b8",
    "tags": [],
    "deepnote_to_be_reexecuted": false,
    "source_hash": "2f7cbbdf",
    "execution_start": 1649168136186,
    "execution_millis": 19,
    "deepnote_cell_type": "code",
    "deepnote_cell_height": 118.4375,
    "deepnote_output_heights": [
     21.171875
    ]
   },
   "source": "dataset['price_usd'].mean() #media",
   "outputs": [
    {
     "output_type": "execute_result",
     "execution_count": 6,
     "data": {
      "text/plain": "6639.971021255613"
     },
     "metadata": {}
    }
   ],
   "execution_count": null
  },
  {
   "cell_type": "code",
   "metadata": {
    "cell_id": "1be0976e96994ac995303f9d8c071bc1",
    "tags": [],
    "deepnote_to_be_reexecuted": false,
    "source_hash": "c8881a37",
    "execution_start": 1649168136187,
    "execution_millis": 2427,
    "deepnote_cell_type": "code",
    "deepnote_cell_height": 453.515625,
    "deepnote_output_heights": [
     21.171875,
     249.96875
    ]
   },
   "source": "dataset['price_usd'].plot.hist(bins=35)\n#Podemos ver varios valores atípicos, porque seria necesario hacer una gráfica con mayor clasificación\n#vemos cuantas veces se repiten los valores en cada intervalo\n#Hay un sesgo notable, por eso se recomienda hacer la grafica por marcas de autos por ejemplo",
   "outputs": [
    {
     "output_type": "execute_result",
     "execution_count": 7,
     "data": {
      "text/plain": "<AxesSubplot:ylabel='Frequency'>"
     },
     "metadata": {}
    },
    {
     "data": {
      "text/plain": "<Figure size 432x288 with 1 Axes>",
      "image/png": "[encoded data removed]"
     },
     "metadata": {
      "needs_background": "light",
      "image/png": {
       "width": 395,
       "height": 248
      }
     },
     "output_type": "display_data"
    }
   ],
   "execution_count": null
  },
  {
   "cell_type": "code",
   "metadata": {
    "cell_id": "8d9c0d89d38d4898aab031588ed79ebd",
    "tags": [],
    "deepnote_to_be_reexecuted": false,
    "source_hash": "1167de3f",
    "execution_start": 1649168138621,
    "execution_millis": 39106,
    "deepnote_cell_type": "code",
    "deepnote_cell_height": 814.546875,
    "deepnote_output_heights": [
     21.171875,
     611
    ]
   },
   "source": "import seaborn as sns\n\nsns.displot(dataset, x = 'price_usd', hue = 'manufacturer_name')\n#hue: separa datos segun la columna que coloco y sus datos ",
   "outputs": [
    {
     "output_type": "execute_result",
     "execution_count": 8,
     "data": {
      "text/plain": "<seaborn.axisgrid.FacetGrid at 0x7faec6814d10>"
     },
     "metadata": {}
    },
    {
     "data": {
      "text/plain": "<Figure size 471.75x360 with 1 Axes>",
      "image/png": "[encoded data removed]"
     },
     "metadata": {
      "needs_background": "light",
      "image/png": {
       "width": 470,
       "height": 858
      }
     },
     "output_type": "display_data"
    }
   ],
   "execution_count": null
  },
  {
   "cell_type": "code",
   "metadata": {
    "cell_id": "89bb84fc6a4e430e96a836101f2a0004",
    "tags": [],
    "deepnote_to_be_reexecuted": false,
    "source_hash": "fd2bb28e",
    "execution_start": 1649168177754,
    "execution_millis": 2458,
    "deepnote_cell_type": "code",
    "deepnote_cell_height": 521.515625,
    "deepnote_output_heights": [
     21.171875,
     353.984375
    ]
   },
   "source": "#vemos que lo anterior es mucha información y falta ser mas sinteticos para entender los datos \nsns.displot(dataset, x=\"price_usd\", hue=\"engine_type\") #ahora usamos la columna tipo de maquina: hue",
   "outputs": [
    {
     "output_type": "execute_result",
     "execution_count": 9,
     "data": {
      "text/plain": "<seaborn.axisgrid.FacetGrid at 0x7faec0036f90>"
     },
     "metadata": {}
    },
    {
     "data": {
      "text/plain": "<Figure size 438x360 with 1 Axes>",
      "image/png": "[encoded data removed]"
     },
     "metadata": {
      "needs_background": "light",
      "image/png": {
       "width": 436,
       "height": 352
      }
     },
     "output_type": "display_data"
    }
   ],
   "execution_count": null
  },
  {
   "cell_type": "code",
   "metadata": {
    "cell_id": "780cc36776364d679fd5cb036d25ae17",
    "tags": [],
    "deepnote_to_be_reexecuted": false,
    "source_hash": "bc41ac5a",
    "execution_start": 1649168180237,
    "execution_millis": 2967,
    "deepnote_cell_type": "code",
    "deepnote_cell_height": 521.515625,
    "deepnote_output_heights": [
     21.171875,
     353.984375
    ]
   },
   "source": "sns.displot(dataset, x='price_usd', hue = 'engine_type', multiple='stack')\n#le agregamos el argumento STACK, para que sea visualmente notable las diferencias ",
   "outputs": [
    {
     "output_type": "execute_result",
     "execution_count": 10,
     "data": {
      "text/plain": "<seaborn.axisgrid.FacetGrid at 0x7faebb9cc6d0>"
     },
     "metadata": {}
    },
    {
     "data": {
      "text/plain": "<Figure size 438x360 with 1 Axes>",
      "image/png": "[encoded data removed]"
     },
     "metadata": {
      "needs_background": "light",
      "image/png": {
       "width": 436,
       "height": 352
      }
     },
     "output_type": "display_data"
    }
   ],
   "execution_count": null
  },
  {
   "cell_type": "code",
   "metadata": {
    "cell_id": "39e4806f3c794f96a58a610ce8c3aefd",
    "tags": [],
    "deepnote_to_be_reexecuted": false,
    "source_hash": "61344cb1",
    "execution_start": 1649168183253,
    "execution_millis": 136,
    "deepnote_cell_type": "code",
    "deepnote_cell_height": 350.203125
   },
   "source": "#cuantos autos hay en cada tipo de maquina? #Para saber esto lo agrupamos \ndataset.groupby('engine_type').count()",
   "outputs": [
    {
     "output_type": "execute_result",
     "execution_count": 11,
     "data": {
      "application/vnd.deepnote.dataframe.v3+json": {
       "column_count": 29,
       "row_count": 3,
       "columns": [
        {
         "name": "manufacturer_name",
         "dtype": "int64",
         "stats": {
          "unique_count": 3,
          "nan_count": 0,
          "min": "10",
          "max": "25647",
          "histogram": [
           {
            "bin_start": 10,
            "bin_end": 2573.7,
            "count": 1
           },
           {
            "bin_start": 2573.7,
            "bin_end": 5137.4,
            "count": 0
           },
           {
            "bin_start": 5137.4,
            "bin_end": 7701.099999999999,
            "count": 0
           },
           {
            "bin_start": 7701.099999999999,
            "bin_end": 10264.8,
            "count": 0
           },
           {
            "bin_start": 10264.8,
            "bin_end": 12828.5,
            "count": 0
           },
           {
            "bin_start": 12828.5,
            "bin_end": 15392.199999999999,
            "count": 1
           },
           {
            "bin_start": 15392.199999999999,
            "bin_end": 17955.899999999998,
            "count": 0
           },
           {
            "bin_start": 17955.899999999998,
            "bin_end": 20519.6,
            "count": 0
           },
           {
            "bin_start": 20519.6,
            "bin_end": 23083.3,
            "count": 0
           },
           {
            "bin_start": 23083.3,
            "bin_end": 25647,
            "count": 1
           }
          ]
         }
        },
        {
         "name": "model_name",
         "dtype": "int64",
         "stats": {
          "unique_count": 3,
          "nan_count": 0,
          "min": "10",
          "max": "25647",
          "histogram": [
           {
            "bin_start": 10,
            "bin_end": 2573.7,
            "count": 1
           },
           {
            "bin_start": 2573.7,
            "bin_end": 5137.4,
            "count": 0
           },
           {
            "bin_start": 5137.4,
            "bin_end": 7701.099999999999,
            "count": 0
           },
           {
            "bin_start": 7701.099999999999,
            "bin_end": 10264.8,
            "count": 0
           },
           {
            "bin_start": 10264.8,
            "bin_end": 12828.5,
            "count": 0
           },
           {
            "bin_start": 12828.5,
            "bin_end": 15392.199999999999,
            "count": 1
           },
           {
            "bin_start": 15392.199999999999,
            "bin_end": 17955.899999999998,
            "count": 0
           },
           {
            "bin_start": 17955.899999999998,
            "bin_end": 20519.6,
            "count": 0
           },
           {
            "bin_start": 20519.6,
            "bin_end": 23083.3,
            "count": 0
           },
           {
            "bin_start": 23083.3,
            "bin_end": 25647,
            "count": 1
           }
          ]
         }
        },
        {
         "name": "transmission",
         "dtype": "int64",
         "stats": {
          "unique_count": 3,
          "nan_count": 0,
          "min": "10",
          "max": "25647",
          "histogram": [
           {
            "bin_start": 10,
            "bin_end": 2573.7,
            "count": 1
           },
           {
            "bin_start": 2573.7,
            "bin_end": 5137.4,
            "count": 0
           },
           {
            "bin_start": 5137.4,
            "bin_end": 7701.099999999999,
            "count": 0
           },
           {
            "bin_start": 7701.099999999999,
            "bin_end": 10264.8,
            "count": 0
           },
           {
            "bin_start": 10264.8,
            "bin_end": 12828.5,
            "count": 0
           },
           {
            "bin_start": 12828.5,
            "bin_end": 15392.199999999999,
            "count": 1
           },
           {
            "bin_start": 15392.199999999999,
            "bin_end": 17955.899999999998,
            "count": 0
           },
           {
            "bin_start": 17955.899999999998,
            "bin_end": 20519.6,
            "count": 0
           },
           {
            "bin_start": 20519.6,
            "bin_end": 23083.3,
            "count": 0
           },
           {
            "bin_start": 23083.3,
            "bin_end": 25647,
            "count": 1
           }
          ]
         }
        },
        {
         "name": "color",
         "dtype": "int64",
         "stats": {
          "unique_count": 3,
          "nan_count": 0,
          "min": "10",
          "max": "25647",
          "histogram": [
           {
            "bin_start": 10,
            "bin_end": 2573.7,
            "count": 1
           },
           {
            "bin_start": 2573.7,
            "bin_end": 5137.4,
            "count": 0
           },
           {
            "bin_start": 5137.4,
            "bin_end": 7701.099999999999,
            "count": 0
           },
           {
            "bin_start": 7701.099999999999,
            "bin_end": 10264.8,
            "count": 0
           },
           {
            "bin_start": 10264.8,
            "bin_end": 12828.5,
            "count": 0
           },
           {
            "bin_start": 12828.5,
            "bin_end": 15392.199999999999,
            "count": 1
           },
           {
            "bin_start": 15392.199999999999,
            "bin_end": 17955.899999999998,
            "count": 0
           },
           {
            "bin_start": 17955.899999999998,
            "bin_end": 20519.6,
            "count": 0
           },
           {
            "bin_start": 20519.6,
            "bin_end": 23083.3,
            "count": 0
           },
           {
            "bin_start": 23083.3,
            "bin_end": 25647,
            "count": 1
           }
          ]
         }
        },
        {
         "name": "odometer_value",
         "dtype": "int64",
         "stats": {
          "unique_count": 3,
          "nan_count": 0,
          "min": "10",
          "max": "25647",
          "histogram": [
           {
            "bin_start": 10,
            "bin_end": 2573.7,
            "count": 1
           },
           {
            "bin_start": 2573.7,
            "bin_end": 5137.4,
            "count": 0
           },
           {
            "bin_start": 5137.4,
            "bin_end": 7701.099999999999,
            "count": 0
           },
           {
            "bin_start": 7701.099999999999,
            "bin_end": 10264.8,
            "count": 0
           },
           {
            "bin_start": 10264.8,
            "bin_end": 12828.5,
            "count": 0
           },
           {
            "bin_start": 12828.5,
            "bin_end": 15392.199999999999,
            "count": 1
           },
           {
            "bin_start": 15392.199999999999,
            "bin_end": 17955.899999999998,
            "count": 0
           },
           {
            "bin_start": 17955.899999999998,
            "bin_end": 20519.6,
            "count": 0
           },
           {
            "bin_start": 20519.6,
            "bin_end": 23083.3,
            "count": 0
           },
           {
            "bin_start": 23083.3,
            "bin_end": 25647,
            "count": 1
           }
          ]
         }
        },
        {
         "name": "year_produced",
         "dtype": "int64",
         "stats": {
          "unique_count": 3,
          "nan_count": 0,
          "min": "10",
          "max": "25647",
          "histogram": [
           {
            "bin_start": 10,
            "bin_end": 2573.7,
            "count": 1
           },
           {
            "bin_start": 2573.7,
            "bin_end": 5137.4,
            "count": 0
           },
           {
            "bin_start": 5137.4,
            "bin_end": 7701.099999999999,
            "count": 0
           },
           {
            "bin_start": 7701.099999999999,
            "bin_end": 10264.8,
            "count": 0
           },
           {
            "bin_start": 10264.8,
            "bin_end": 12828.5,
            "count": 0
           },
           {
            "bin_start": 12828.5,
            "bin_end": 15392.199999999999,
            "count": 1
           },
           {
            "bin_start": 15392.199999999999,
            "bin_end": 17955.899999999998,
            "count": 0
           },
           {
            "bin_start": 17955.899999999998,
            "bin_end": 20519.6,
            "count": 0
           },
           {
            "bin_start": 20519.6,
            "bin_end": 23083.3,
            "count": 0
           },
           {
            "bin_start": 23083.3,
            "bin_end": 25647,
            "count": 1
           }
          ]
         }
        },
        {
         "name": "engine_fuel",
         "dtype": "int64",
         "stats": {
          "unique_count": 3,
          "nan_count": 0,
          "min": "10",
          "max": "25647",
          "histogram": [
           {
            "bin_start": 10,
            "bin_end": 2573.7,
            "count": 1
           },
           {
            "bin_start": 2573.7,
            "bin_end": 5137.4,
            "count": 0
           },
           {
            "bin_start": 5137.4,
            "bin_end": 7701.099999999999,
            "count": 0
           },
           {
            "bin_start": 7701.099999999999,
            "bin_end": 10264.8,
            "count": 0
           },
           {
            "bin_start": 10264.8,
            "bin_end": 12828.5,
            "count": 0
           },
           {
            "bin_start": 12828.5,
            "bin_end": 15392.199999999999,
            "count": 1
           },
           {
            "bin_start": 15392.199999999999,
            "bin_end": 17955.899999999998,
            "count": 0
           },
           {
            "bin_start": 17955.899999999998,
            "bin_end": 20519.6,
            "count": 0
           },
           {
            "bin_start": 20519.6,
            "bin_end": 23083.3,
            "count": 0
           },
           {
            "bin_start": 23083.3,
            "bin_end": 25647,
            "count": 1
           }
          ]
         }
        },
        {
         "name": "engine_has_gas",
         "dtype": "int64",
         "stats": {
          "unique_count": 3,
          "nan_count": 0,
          "min": "10",
          "max": "25647",
          "histogram": [
           {
            "bin_start": 10,
            "bin_end": 2573.7,
            "count": 1
           },
           {
            "bin_start": 2573.7,
            "bin_end": 5137.4,
            "count": 0
           },
           {
            "bin_start": 5137.4,
            "bin_end": 7701.099999999999,
            "count": 0
           },
           {
            "bin_start": 7701.099999999999,
            "bin_end": 10264.8,
            "count": 0
           },
           {
            "bin_start": 10264.8,
            "bin_end": 12828.5,
            "count": 0
           },
           {
            "bin_start": 12828.5,
            "bin_end": 15392.199999999999,
            "count": 1
           },
           {
            "bin_start": 15392.199999999999,
            "bin_end": 17955.899999999998,
            "count": 0
           },
           {
            "bin_start": 17955.899999999998,
            "bin_end": 20519.6,
            "count": 0
           },
           {
            "bin_start": 20519.6,
            "bin_end": 23083.3,
            "count": 0
           },
           {
            "bin_start": 23083.3,
            "bin_end": 25647,
            "count": 1
           }
          ]
         }
        },
        {
         "name": "engine_capacity",
         "dtype": "int64",
         "stats": {
          "unique_count": 3,
          "nan_count": 0,
          "min": "0",
          "max": "25647",
          "histogram": [
           {
            "bin_start": 0,
            "bin_end": 2564.7,
            "count": 1
           },
           {
            "bin_start": 2564.7,
            "bin_end": 5129.4,
            "count": 0
           },
           {
            "bin_start": 5129.4,
            "bin_end": 7694.099999999999,
            "count": 0
           },
           {
            "bin_start": 7694.099999999999,
            "bin_end": 10258.8,
            "count": 0
           },
           {
            "bin_start": 10258.8,
            "bin_end": 12823.5,
            "count": 0
           },
           {
            "bin_start": 12823.5,
            "bin_end": 15388.199999999999,
            "count": 1
           },
           {
            "bin_start": 15388.199999999999,
            "bin_end": 17952.899999999998,
            "count": 0
           },
           {
            "bin_start": 17952.899999999998,
            "bin_end": 20517.6,
            "count": 0
           },
           {
            "bin_start": 20517.6,
            "bin_end": 23082.3,
            "count": 0
           },
           {
            "bin_start": 23082.3,
            "bin_end": 25647,
            "count": 1
           }
          ]
         }
        },
        {
         "name": "body_type",
         "dtype": "int64",
         "stats": {
          "unique_count": 3,
          "nan_count": 0,
          "min": "10",
          "max": "25647",
          "histogram": [
           {
            "bin_start": 10,
            "bin_end": 2573.7,
            "count": 1
           },
           {
            "bin_start": 2573.7,
            "bin_end": 5137.4,
            "count": 0
           },
           {
            "bin_start": 5137.4,
            "bin_end": 7701.099999999999,
            "count": 0
           },
           {
            "bin_start": 7701.099999999999,
            "bin_end": 10264.8,
            "count": 0
           },
           {
            "bin_start": 10264.8,
            "bin_end": 12828.5,
            "count": 0
           },
           {
            "bin_start": 12828.5,
            "bin_end": 15392.199999999999,
            "count": 1
           },
           {
            "bin_start": 15392.199999999999,
            "bin_end": 17955.899999999998,
            "count": 0
           },
           {
            "bin_start": 17955.899999999998,
            "bin_end": 20519.6,
            "count": 0
           },
           {
            "bin_start": 20519.6,
            "bin_end": 23083.3,
            "count": 0
           },
           {
            "bin_start": 23083.3,
            "bin_end": 25647,
            "count": 1
           }
          ]
         }
        },
        {
         "name": "has_warranty",
         "dtype": "int64",
         "stats": {
          "unique_count": 3,
          "nan_count": 0,
          "min": "10",
          "max": "25647",
          "histogram": [
           {
            "bin_start": 10,
            "bin_end": 2573.7,
            "count": 1
           },
           {
            "bin_start": 2573.7,
            "bin_end": 5137.4,
            "count": 0
           },
           {
            "bin_start": 5137.4,
            "bin_end": 7701.099999999999,
            "count": 0
           },
           {
            "bin_start": 7701.099999999999,
            "bin_end": 10264.8,
            "count": 0
           },
           {
            "bin_start": 10264.8,
            "bin_end": 12828.5,
            "count": 0
           },
           {
            "bin_start": 12828.5,
            "bin_end": 15392.199999999999,
            "count": 1
           },
           {
            "bin_start": 15392.199999999999,
            "bin_end": 17955.899999999998,
            "count": 0
           },
           {
            "bin_start": 17955.899999999998,
            "bin_end": 20519.6,
            "count": 0
           },
           {
            "bin_start": 20519.6,
            "bin_end": 23083.3,
            "count": 0
           },
           {
            "bin_start": 23083.3,
            "bin_end": 25647,
            "count": 1
           }
          ]
         }
        },
        {
         "name": "state",
         "dtype": "int64",
         "stats": {
          "unique_count": 3,
          "nan_count": 0,
          "min": "10",
          "max": "25647",
          "histogram": [
           {
            "bin_start": 10,
            "bin_end": 2573.7,
            "count": 1
           },
           {
            "bin_start": 2573.7,
            "bin_end": 5137.4,
            "count": 0
           },
           {
            "bin_start": 5137.4,
            "bin_end": 7701.099999999999,
            "count": 0
           },
           {
            "bin_start": 7701.099999999999,
            "bin_end": 10264.8,
            "count": 0
           },
           {
            "bin_start": 10264.8,
            "bin_end": 12828.5,
            "count": 0
           },
           {
            "bin_start": 12828.5,
            "bin_end": 15392.199999999999,
            "count": 1
           },
           {
            "bin_start": 15392.199999999999,
            "bin_end": 17955.899999999998,
            "count": 0
           },
           {
            "bin_start": 17955.899999999998,
            "bin_end": 20519.6,
            "count": 0
           },
           {
            "bin_start": 20519.6,
            "bin_end": 23083.3,
            "count": 0
           },
           {
            "bin_start": 23083.3,
            "bin_end": 25647,
            "count": 1
           }
          ]
         }
        },
        {
         "name": "drivetrain",
         "dtype": "int64",
         "stats": {
          "unique_count": 3,
          "nan_count": 0,
          "min": "10",
          "max": "25647",
          "histogram": [
           {
            "bin_start": 10,
            "bin_end": 2573.7,
            "count": 1
           },
           {
            "bin_start": 2573.7,
            "bin_end": 5137.4,
            "count": 0
           },
           {
            "bin_start": 5137.4,
            "bin_end": 7701.099999999999,
            "count": 0
           },
           {
            "bin_start": 7701.099999999999,
            "bin_end": 10264.8,
            "count": 0
           },
           {
            "bin_start": 10264.8,
            "bin_end": 12828.5,
            "count": 0
           },
           {
            "bin_start": 12828.5,
            "bin_end": 15392.199999999999,
            "count": 1
           },
           {
            "bin_start": 15392.199999999999,
            "bin_end": 17955.899999999998,
            "count": 0
           },
           {
            "bin_start": 17955.899999999998,
            "bin_end": 20519.6,
            "count": 0
           },
           {
            "bin_start": 20519.6,
            "bin_end": 23083.3,
            "count": 0
           },
           {
            "bin_start": 23083.3,
            "bin_end": 25647,
            "count": 1
           }
          ]
         }
        },
        {
         "name": "price_usd",
         "dtype": "int64",
         "stats": {
          "unique_count": 3,
          "nan_count": 0,
          "min": "10",
          "max": "25647",
          "histogram": [
           {
            "bin_start": 10,
            "bin_end": 2573.7,
            "count": 1
           },
           {
            "bin_start": 2573.7,
            "bin_end": 5137.4,
            "count": 0
           },
           {
            "bin_start": 5137.4,
            "bin_end": 7701.099999999999,
            "count": 0
           },
           {
            "bin_start": 7701.099999999999,
            "bin_end": 10264.8,
            "count": 0
           },
           {
            "bin_start": 10264.8,
            "bin_end": 12828.5,
            "count": 0
           },
           {
            "bin_start": 12828.5,
            "bin_end": 15392.199999999999,
            "count": 1
           },
           {
            "bin_start": 15392.199999999999,
            "bin_end": 17955.899999999998,
            "count": 0
           },
           {
            "bin_start": 17955.899999999998,
            "bin_end": 20519.6,
            "count": 0
           },
           {
            "bin_start": 20519.6,
            "bin_end": 23083.3,
            "count": 0
           },
           {
            "bin_start": 23083.3,
            "bin_end": 25647,
            "count": 1
           }
          ]
         }
        },
        {
         "name": "is_exchangeable",
         "dtype": "int64",
         "stats": {
          "unique_count": 3,
          "nan_count": 0,
          "min": "10",
          "max": "25647",
          "histogram": [
           {
            "bin_start": 10,
            "bin_end": 2573.7,
            "count": 1
           },
           {
            "bin_start": 2573.7,
            "bin_end": 5137.4,
            "count": 0
           },
           {
            "bin_start": 5137.4,
            "bin_end": 7701.099999999999,
            "count": 0
           },
           {
            "bin_start": 7701.099999999999,
            "bin_end": 10264.8,
            "count": 0
           },
           {
            "bin_start": 10264.8,
            "bin_end": 12828.5,
            "count": 0
           },
           {
            "bin_start": 12828.5,
            "bin_end": 15392.199999999999,
            "count": 1
           },
           {
            "bin_start": 15392.199999999999,
            "bin_end": 17955.899999999998,
            "count": 0
           },
           {
            "bin_start": 17955.899999999998,
            "bin_end": 20519.6,
            "count": 0
           },
           {
            "bin_start": 20519.6,
            "bin_end": 23083.3,
            "count": 0
           },
           {
            "bin_start": 23083.3,
            "bin_end": 25647,
            "count": 1
           }
          ]
         }
        },
        {
         "name": "location_region",
         "dtype": "int64",
         "stats": {
          "unique_count": 3,
          "nan_count": 0,
          "min": "10",
          "max": "25647",
          "histogram": [
           {
            "bin_start": 10,
            "bin_end": 2573.7,
            "count": 1
           },
           {
            "bin_start": 2573.7,
            "bin_end": 5137.4,
            "count": 0
           },
           {
            "bin_start": 5137.4,
            "bin_end": 7701.099999999999,
            "count": 0
           },
           {
            "bin_start": 7701.099999999999,
            "bin_end": 10264.8,
            "count": 0
           },
           {
            "bin_start": 10264.8,
            "bin_end": 12828.5,
            "count": 0
           },
           {
            "bin_start": 12828.5,
            "bin_end": 15392.199999999999,
            "count": 1
           },
           {
            "bin_start": 15392.199999999999,
            "bin_end": 17955.899999999998,
            "count": 0
           },
           {
            "bin_start": 17955.899999999998,
            "bin_end": 20519.6,
            "count": 0
           },
           {
            "bin_start": 20519.6,
            "bin_end": 23083.3,
            "count": 0
           },
           {
            "bin_start": 23083.3,
            "bin_end": 25647,
            "count": 1
           }
          ]
         }
        },
        {
         "name": "number_of_photos",
         "dtype": "int64",
         "stats": {
          "unique_count": 3,
          "nan_count": 0,
          "min": "10",
          "max": "25647",
          "histogram": [
           {
            "bin_start": 10,
            "bin_end": 2573.7,
            "count": 1
           },
           {
            "bin_start": 2573.7,
            "bin_end": 5137.4,
            "count": 0
           },
           {
            "bin_start": 5137.4,
            "bin_end": 7701.099999999999,
            "count": 0
           },
           {
            "bin_start": 7701.099999999999,
            "bin_end": 10264.8,
            "count": 0
           },
           {
            "bin_start": 10264.8,
            "bin_end": 12828.5,
            "count": 0
           },
           {
            "bin_start": 12828.5,
            "bin_end": 15392.199999999999,
            "count": 1
           },
           {
            "bin_start": 15392.199999999999,
            "bin_end": 17955.899999999998,
            "count": 0
           },
           {
            "bin_start": 17955.899999999998,
            "bin_end": 20519.6,
            "count": 0
           },
           {
            "bin_start": 20519.6,
            "bin_end": 23083.3,
            "count": 0
           },
           {
            "bin_start": 23083.3,
            "bin_end": 25647,
            "count": 1
           }
          ]
         }
        },
        {
         "name": "up_counter",
         "dtype": "int64",
         "stats": {
          "unique_count": 3,
          "nan_count": 0,
          "min": "10",
          "max": "25647",
          "histogram": [
           {
            "bin_start": 10,
            "bin_end": 2573.7,
            "count": 1
           },
           {
            "bin_start": 2573.7,
            "bin_end": 5137.4,
            "count": 0
           },
           {
            "bin_start": 5137.4,
            "bin_end": 7701.099999999999,
            "count": 0
           },
           {
            "bin_start": 7701.099999999999,
            "bin_end": 10264.8,
            "count": 0
           },
           {
            "bin_start": 10264.8,
            "bin_end": 12828.5,
            "count": 0
           },
           {
            "bin_start": 12828.5,
            "bin_end": 15392.199999999999,
            "count": 1
           },
           {
            "bin_start": 15392.199999999999,
            "bin_end": 17955.899999999998,
            "count": 0
           },
           {
            "bin_start": 17955.899999999998,
            "bin_end": 20519.6,
            "count": 0
           },
           {
            "bin_start": 20519.6,
            "bin_end": 23083.3,
            "count": 0
           },
           {
            "bin_start": 23083.3,
            "bin_end": 25647,
            "count": 1
           }
          ]
         }
        },
        {
         "name": "feature_0",
         "dtype": "int64",
         "stats": {
          "unique_count": 3,
          "nan_count": 0,
          "min": "10",
          "max": "25647",
          "histogram": [
           {
            "bin_start": 10,
            "bin_end": 2573.7,
            "count": 1
           },
           {
            "bin_start": 2573.7,
            "bin_end": 5137.4,
            "count": 0
           },
           {
            "bin_start": 5137.4,
            "bin_end": 7701.099999999999,
            "count": 0
           },
           {
            "bin_start": 7701.099999999999,
            "bin_end": 10264.8,
            "count": 0
           },
           {
            "bin_start": 10264.8,
            "bin_end": 12828.5,
            "count": 0
           },
           {
            "bin_start": 12828.5,
            "bin_end": 15392.199999999999,
            "count": 1
           },
           {
            "bin_start": 15392.199999999999,
            "bin_end": 17955.899999999998,
            "count": 0
           },
           {
            "bin_start": 17955.899999999998,
            "bin_end": 20519.6,
            "count": 0
           },
           {
            "bin_start": 20519.6,
            "bin_end": 23083.3,
            "count": 0
           },
           {
            "bin_start": 23083.3,
            "bin_end": 25647,
            "count": 1
           }
          ]
         }
        },
        {
         "name": "feature_1",
         "dtype": "int64",
         "stats": {
          "unique_count": 3,
          "nan_count": 0,
          "min": "10",
          "max": "25647",
          "histogram": [
           {
            "bin_start": 10,
            "bin_end": 2573.7,
            "count": 1
           },
           {
            "bin_start": 2573.7,
            "bin_end": 5137.4,
            "count": 0
           },
           {
            "bin_start": 5137.4,
            "bin_end": 7701.099999999999,
            "count": 0
           },
           {
            "bin_start": 7701.099999999999,
            "bin_end": 10264.8,
            "count": 0
           },
           {
            "bin_start": 10264.8,
            "bin_end": 12828.5,
            "count": 0
           },
           {
            "bin_start": 12828.5,
            "bin_end": 15392.199999999999,
            "count": 1
           },
           {
            "bin_start": 15392.199999999999,
            "bin_end": 17955.899999999998,
            "count": 0
           },
           {
            "bin_start": 17955.899999999998,
            "bin_end": 20519.6,
            "count": 0
           },
           {
            "bin_start": 20519.6,
            "bin_end": 23083.3,
            "count": 0
           },
           {
            "bin_start": 23083.3,
            "bin_end": 25647,
            "count": 1
           }
          ]
         }
        },
        {
         "name": "feature_2",
         "dtype": "int64",
         "stats": {
          "unique_count": 3,
          "nan_count": 0,
          "min": "10",
          "max": "25647",
          "histogram": [
           {
            "bin_start": 10,
            "bin_end": 2573.7,
            "count": 1
           },
           {
            "bin_start": 2573.7,
            "bin_end": 5137.4,
            "count": 0
           },
           {
            "bin_start": 5137.4,
            "bin_end": 7701.099999999999,
            "count": 0
           },
           {
            "bin_start": 7701.099999999999,
            "bin_end": 10264.8,
            "count": 0
           },
           {
            "bin_start": 10264.8,
            "bin_end": 12828.5,
            "count": 0
           },
           {
            "bin_start": 12828.5,
            "bin_end": 15392.199999999999,
            "count": 1
           },
           {
            "bin_start": 15392.199999999999,
            "bin_end": 17955.899999999998,
            "count": 0
           },
           {
            "bin_start": 17955.899999999998,
            "bin_end": 20519.6,
            "count": 0
           },
           {
            "bin_start": 20519.6,
            "bin_end": 23083.3,
            "count": 0
           },
           {
            "bin_start": 23083.3,
            "bin_end": 25647,
            "count": 1
           }
          ]
         }
        },
        {
         "name": "feature_3",
         "dtype": "int64",
         "stats": {
          "unique_count": 3,
          "nan_count": 0,
          "min": "10",
          "max": "25647",
          "histogram": [
           {
            "bin_start": 10,
            "bin_end": 2573.7,
            "count": 1
           },
           {
            "bin_start": 2573.7,
            "bin_end": 5137.4,
            "count": 0
           },
           {
            "bin_start": 5137.4,
            "bin_end": 7701.099999999999,
            "count": 0
           },
           {
            "bin_start": 7701.099999999999,
            "bin_end": 10264.8,
            "count": 0
           },
           {
            "bin_start": 10264.8,
            "bin_end": 12828.5,
            "count": 0
           },
           {
            "bin_start": 12828.5,
            "bin_end": 15392.199999999999,
            "count": 1
           },
           {
            "bin_start": 15392.199999999999,
            "bin_end": 17955.899999999998,
            "count": 0
           },
           {
            "bin_start": 17955.899999999998,
            "bin_end": 20519.6,
            "count": 0
           },
           {
            "bin_start": 20519.6,
            "bin_end": 23083.3,
            "count": 0
           },
           {
            "bin_start": 23083.3,
            "bin_end": 25647,
            "count": 1
           }
          ]
         }
        },
        {
         "name": "feature_4",
         "dtype": "int64",
         "stats": {
          "unique_count": 3,
          "nan_count": 0,
          "min": "10",
          "max": "25647",
          "histogram": [
           {
            "bin_start": 10,
            "bin_end": 2573.7,
            "count": 1
           },
           {
            "bin_start": 2573.7,
            "bin_end": 5137.4,
            "count": 0
           },
           {
            "bin_start": 5137.4,
            "bin_end": 7701.099999999999,
            "count": 0
           },
           {
            "bin_start": 7701.099999999999,
            "bin_end": 10264.8,
            "count": 0
           },
           {
            "bin_start": 10264.8,
            "bin_end": 12828.5,
            "count": 0
           },
           {
            "bin_start": 12828.5,
            "bin_end": 15392.199999999999,
            "count": 1
           },
           {
            "bin_start": 15392.199999999999,
            "bin_end": 17955.899999999998,
            "count": 0
           },
           {
            "bin_start": 17955.899999999998,
            "bin_end": 20519.6,
            "count": 0
           },
           {
            "bin_start": 20519.6,
            "bin_end": 23083.3,
            "count": 0
           },
           {
            "bin_start": 23083.3,
            "bin_end": 25647,
            "count": 1
           }
          ]
         }
        },
        {
         "name": "feature_5",
         "dtype": "int64",
         "stats": {
          "unique_count": 3,
          "nan_count": 0,
          "min": "10",
          "max": "25647",
          "histogram": [
           {
            "bin_start": 10,
            "bin_end": 2573.7,
            "count": 1
           },
           {
            "bin_start": 2573.7,
            "bin_end": 5137.4,
            "count": 0
           },
           {
            "bin_start": 5137.4,
            "bin_end": 7701.099999999999,
            "count": 0
           },
           {
            "bin_start": 7701.099999999999,
            "bin_end": 10264.8,
            "count": 0
           },
           {
            "bin_start": 10264.8,
            "bin_end": 12828.5,
            "count": 0
           },
           {
            "bin_start": 12828.5,
            "bin_end": 15392.199999999999,
            "count": 1
           },
           {
            "bin_start": 15392.199999999999,
            "bin_end": 17955.899999999998,
            "count": 0
           },
           {
            "bin_start": 17955.899999999998,
            "bin_end": 20519.6,
            "count": 0
           },
           {
            "bin_start": 20519.6,
            "bin_end": 23083.3,
            "count": 0
           },
           {
            "bin_start": 23083.3,
            "bin_end": 25647,
            "count": 1
           }
          ]
         }
        },
        {
         "name": "feature_6",
         "dtype": "int64",
         "stats": {
          "unique_count": 3,
          "nan_count": 0,
          "min": "10",
          "max": "25647",
          "histogram": [
           {
            "bin_start": 10,
            "bin_end": 2573.7,
            "count": 1
           },
           {
            "bin_start": 2573.7,
            "bin_end": 5137.4,
            "count": 0
           },
           {
            "bin_start": 5137.4,
            "bin_end": 7701.099999999999,
            "count": 0
           },
           {
            "bin_start": 7701.099999999999,
            "bin_end": 10264.8,
            "count": 0
           },
           {
            "bin_start": 10264.8,
            "bin_end": 12828.5,
            "count": 0
           },
           {
            "bin_start": 12828.5,
            "bin_end": 15392.199999999999,
            "count": 1
           },
           {
            "bin_start": 15392.199999999999,
            "bin_end": 17955.899999999998,
            "count": 0
           },
           {
            "bin_start": 17955.899999999998,
            "bin_end": 20519.6,
            "count": 0
           },
           {
            "bin_start": 20519.6,
            "bin_end": 23083.3,
            "count": 0
           },
           {
            "bin_start": 23083.3,
            "bin_end": 25647,
            "count": 1
           }
          ]
         }
        },
        {
         "name": "feature_7",
         "dtype": "int64",
         "stats": {
          "unique_count": 3,
          "nan_count": 0,
          "min": "10",
          "max": "25647",
          "histogram": [
           {
            "bin_start": 10,
            "bin_end": 2573.7,
            "count": 1
           },
           {
            "bin_start": 2573.7,
            "bin_end": 5137.4,
            "count": 0
           },
           {
            "bin_start": 5137.4,
            "bin_end": 7701.099999999999,
            "count": 0
           },
           {
            "bin_start": 7701.099999999999,
            "bin_end": 10264.8,
            "count": 0
           },
           {
            "bin_start": 10264.8,
            "bin_end": 12828.5,
            "count": 0
           },
           {
            "bin_start": 12828.5,
            "bin_end": 15392.199999999999,
            "count": 1
           },
           {
            "bin_start": 15392.199999999999,
            "bin_end": 17955.899999999998,
            "count": 0
           },
           {
            "bin_start": 17955.899999999998,
            "bin_end": 20519.6,
            "count": 0
           },
           {
            "bin_start": 20519.6,
            "bin_end": 23083.3,
            "count": 0
           },
           {
            "bin_start": 23083.3,
            "bin_end": 25647,
            "count": 1
           }
          ]
         }
        },
        {
         "name": "feature_8",
         "dtype": "int64",
         "stats": {
          "unique_count": 3,
          "nan_count": 0,
          "min": "10",
          "max": "25647",
          "histogram": [
           {
            "bin_start": 10,
            "bin_end": 2573.7,
            "count": 1
           },
           {
            "bin_start": 2573.7,
            "bin_end": 5137.4,
            "count": 0
           },
           {
            "bin_start": 5137.4,
            "bin_end": 7701.099999999999,
            "count": 0
           },
           {
            "bin_start": 7701.099999999999,
            "bin_end": 10264.8,
            "count": 0
           },
           {
            "bin_start": 10264.8,
            "bin_end": 12828.5,
            "count": 0
           },
           {
            "bin_start": 12828.5,
            "bin_end": 15392.199999999999,
            "count": 1
           },
           {
            "bin_start": 15392.199999999999,
            "bin_end": 17955.899999999998,
            "count": 0
           },
           {
            "bin_start": 17955.899999999998,
            "bin_end": 20519.6,
            "count": 0
           },
           {
            "bin_start": 20519.6,
            "bin_end": 23083.3,
            "count": 0
           },
           {
            "bin_start": 23083.3,
            "bin_end": 25647,
            "count": 1
           }
          ]
         }
        },
        {
         "name": "feature_9",
         "dtype": "int64",
         "stats": {
          "unique_count": 3,
          "nan_count": 0,
          "min": "10",
          "max": "25647",
          "histogram": [
           {
            "bin_start": 10,
            "bin_end": 2573.7,
            "count": 1
           },
           {
            "bin_start": 2573.7,
            "bin_end": 5137.4,
            "count": 0
           },
           {
            "bin_start": 5137.4,
            "bin_end": 7701.099999999999,
            "count": 0
           },
           {
            "bin_start": 7701.099999999999,
            "bin_end": 10264.8,
            "count": 0
           },
           {
            "bin_start": 10264.8,
            "bin_end": 12828.5,
            "count": 0
           },
           {
            "bin_start": 12828.5,
            "bin_end": 15392.199999999999,
            "count": 1
           },
           {
            "bin_start": 15392.199999999999,
            "bin_end": 17955.899999999998,
            "count": 0
           },
           {
            "bin_start": 17955.899999999998,
            "bin_end": 20519.6,
            "count": 0
           },
           {
            "bin_start": 20519.6,
            "bin_end": 23083.3,
            "count": 0
           },
           {
            "bin_start": 23083.3,
            "bin_end": 25647,
            "count": 1
           }
          ]
         }
        },
        {
         "name": "duration_listed",
         "dtype": "int64",
         "stats": {
          "unique_count": 3,
          "nan_count": 0,
          "min": "10",
          "max": "25647",
          "histogram": [
           {
            "bin_start": 10,
            "bin_end": 2573.7,
            "count": 1
           },
           {
            "bin_start": 2573.7,
            "bin_end": 5137.4,
            "count": 0
           },
           {
            "bin_start": 5137.4,
            "bin_end": 7701.099999999999,
            "count": 0
           },
           {
            "bin_start": 7701.099999999999,
            "bin_end": 10264.8,
            "count": 0
           },
           {
            "bin_start": 10264.8,
            "bin_end": 12828.5,
            "count": 0
           },
           {
            "bin_start": 12828.5,
            "bin_end": 15392.199999999999,
            "count": 1
           },
           {
            "bin_start": 15392.199999999999,
            "bin_end": 17955.899999999998,
            "count": 0
           },
           {
            "bin_start": 17955.899999999998,
            "bin_end": 20519.6,
            "count": 0
           },
           {
            "bin_start": 20519.6,
            "bin_end": 23083.3,
            "count": 0
           },
           {
            "bin_start": 23083.3,
            "bin_end": 25647,
            "count": 1
           }
          ]
         }
        },
        {
         "name": "_deepnote_index_column",
         "dtype": "object"
        }
       ],
       "rows": [
        {
         "manufacturer_name": 12874,
         "model_name": 12874,
         "transmission": 12874,
         "color": 12874,
         "odometer_value": 12874,
         "year_produced": 12874,
         "engine_fuel": 12874,
         "engine_has_gas": 12874,
         "engine_capacity": 12874,
         "body_type": 12874,
         "has_warranty": 12874,
         "state": 12874,
         "drivetrain": 12874,
         "price_usd": 12874,
         "is_exchangeable": 12874,
         "location_region": 12874,
         "number_of_photos": 12874,
         "up_counter": 12874,
         "feature_0": 12874,
         "feature_1": 12874,
         "feature_2": 12874,
         "feature_3": 12874,
         "feature_4": 12874,
         "feature_5": 12874,
         "feature_6": 12874,
         "feature_7": 12874,
         "feature_8": 12874,
         "feature_9": 12874,
         "duration_listed": 12874,
         "_deepnote_index_column": "diesel"
        },
        {
         "manufacturer_name": 10,
         "model_name": 10,
         "transmission": 10,
         "color": 10,
         "odometer_value": 10,
         "year_produced": 10,
         "engine_fuel": 10,
         "engine_has_gas": 10,
         "engine_capacity": 0,
         "body_type": 10,
         "has_warranty": 10,
         "state": 10,
         "drivetrain": 10,
         "price_usd": 10,
         "is_exchangeable": 10,
         "location_region": 10,
         "number_of_photos": 10,
         "up_counter": 10,
         "feature_0": 10,
         "feature_1": 10,
         "feature_2": 10,
         "feature_3": 10,
         "feature_4": 10,
         "feature_5": 10,
         "feature_6": 10,
         "feature_7": 10,
         "feature_8": 10,
         "feature_9": 10,
         "duration_listed": 10,
         "_deepnote_index_column": "electric"
        },
        {
         "manufacturer_name": 25647,
         "model_name": 25647,
         "transmission": 25647,
         "color": 25647,
         "odometer_value": 25647,
         "year_produced": 25647,
         "engine_fuel": 25647,
         "engine_has_gas": 25647,
         "engine_capacity": 25647,
         "body_type": 25647,
         "has_warranty": 25647,
         "state": 25647,
         "drivetrain": 25647,
         "price_usd": 25647,
         "is_exchangeable": 25647,
         "location_region": 25647,
         "number_of_photos": 25647,
         "up_counter": 25647,
         "feature_0": 25647,
         "feature_1": 25647,
         "feature_2": 25647,
         "feature_3": 25647,
         "feature_4": 25647,
         "feature_5": 25647,
         "feature_6": 25647,
         "feature_7": 25647,
         "feature_8": 25647,
         "feature_9": 25647,
         "duration_listed": 25647,
         "_deepnote_index_column": "gasoline"
        }
       ]
      },
      "text/plain": "             manufacturer_name  model_name  transmission  color  \\\nengine_type                                                       \ndiesel                   12874       12874         12874  12874   \nelectric                    10          10            10     10   \ngasoline                 25647       25647         25647  25647   \n\n             odometer_value  year_produced  engine_fuel  engine_has_gas  \\\nengine_type                                                               \ndiesel                12874          12874        12874           12874   \nelectric                 10             10           10              10   \ngasoline              25647          25647        25647           25647   \n\n             engine_capacity  body_type  ...  feature_1  feature_2  feature_3  \\\nengine_type                              ...                                    \ndiesel                 12874      12874  ...      12874      12874      12874   \nelectric                   0         10  ...         10         10         10   \ngasoline               25647      25647  ...      25647      25647      25647   \n\n             feature_4  feature_5  feature_6  feature_7  feature_8  feature_9  \\\nengine_type                                                                     \ndiesel           12874      12874      12874      12874      12874      12874   \nelectric            10         10         10         10         10         10   \ngasoline         25647      25647      25647      25647      25647      25647   \n\n             duration_listed  \nengine_type                   \ndiesel                 12874  \nelectric                  10  \ngasoline               25647  \n\n[3 rows x 29 columns]",
      "text/html": "<div>\n<style scoped>\n    .dataframe tbody tr th:only-of-type {\n        vertical-align: middle;\n    }\n\n    .dataframe tbody tr th {\n        vertical-align: top;\n    }\n\n    .dataframe thead th {\n        text-align: right;\n    }\n</style>\n<table border=\"1\" class=\"dataframe\">\n  <thead>\n    <tr style=\"text-align: right;\">\n      <th></th>\n      <th>manufacturer_name</th>\n      <th>model_name</th>\n      <th>transmission</th>\n      <th>color</th>\n      <th>odometer_value</th>\n      <th>year_produced</th>\n      <th>engine_fuel</th>\n      <th>engine_has_gas</th>\n      <th>engine_capacity</th>\n      <th>body_type</th>\n      <th>...</th>\n      <th>feature_1</th>\n      <th>feature_2</th>\n      <th>feature_3</th>\n      <th>feature_4</th>\n      <th>feature_5</th>\n      <th>feature_6</th>\n      <th>feature_7</th>\n      <th>feature_8</th>\n      <th>feature_9</th>\n      <th>duration_listed</th>\n    </tr>\n    <tr>\n      <th>engine_type</th>\n      <th></th>\n      <th></th>\n      <th></th>\n      <th></th>\n      <th></th>\n      <th></th>\n      <th></th>\n      <th></th>\n      <th></th>\n      <th></th>\n      <th></th>\n      <th></th>\n      <th></th>\n      <th></th>\n      <th></th>\n      <th></th>\n      <th></th>\n      <th></th>\n      <th></th>\n      <th></th>\n      <th></th>\n    </tr>\n  </thead>\n  <tbody>\n    <tr>\n      <th>diesel</th>\n      <td>12874</td>\n      <td>12874</td>\n      <td>12874</td>\n      <td>12874</td>\n      <td>12874</td>\n      <td>12874</td>\n      <td>12874</td>\n      <td>12874</td>\n      <td>12874</td>\n      <td>12874</td>\n      <td>...</td>\n      <td>12874</td>\n      <td>12874</td>\n      <td>12874</td>\n      <td>12874</td>\n      <td>12874</td>\n      <td>12874</td>\n      <td>12874</td>\n      <td>12874</td>\n      <td>12874</td>\n      <td>12874</td>\n    </tr>\n    <tr>\n      <th>electric</th>\n      <td>10</td>\n      <td>10</td>\n      <td>10</td>\n      <td>10</td>\n      <td>10</td>\n      <td>10</td>\n      <td>10</td>\n      <td>10</td>\n      <td>0</td>\n      <td>10</td>\n      <td>...</td>\n      <td>10</td>\n      <td>10</td>\n      <td>10</td>\n      <td>10</td>\n      <td>10</td>\n      <td>10</td>\n      <td>10</td>\n      <td>10</td>\n      <td>10</td>\n      <td>10</td>\n    </tr>\n    <tr>\n      <th>gasoline</th>\n      <td>25647</td>\n      <td>25647</td>\n      <td>25647</td>\n      <td>25647</td>\n      <td>25647</td>\n      <td>25647</td>\n      <td>25647</td>\n      <td>25647</td>\n      <td>25647</td>\n      <td>25647</td>\n      <td>...</td>\n      <td>25647</td>\n      <td>25647</td>\n      <td>25647</td>\n      <td>25647</td>\n      <td>25647</td>\n      <td>25647</td>\n      <td>25647</td>\n      <td>25647</td>\n      <td>25647</td>\n      <td>25647</td>\n    </tr>\n  </tbody>\n</table>\n<p>3 rows × 29 columns</p>\n</div>"
     },
     "metadata": {}
    }
   ],
   "execution_count": null
  },
  {
   "cell_type": "markdown",
   "source": "#### RETO: ver precios de una marca y modelo particular: La solicitud del usuario es por autos \"Audi\" y modelo \"Q7\" ",
   "metadata": {
    "cell_id": "8edaa7861f384e9c981660444e2eea79",
    "tags": [],
    "deepnote_cell_type": "markdown",
    "deepnote_cell_height": 78.15625
   }
  },
  {
   "cell_type": "code",
   "metadata": {
    "cell_id": "5082c95074924ec8afc9db5bc5d9707b",
    "tags": [],
    "deepnote_to_be_reexecuted": false,
    "source_hash": "9f5c3d63",
    "execution_start": 1649168183401,
    "execution_millis": 16,
    "deepnote_cell_type": "code",
    "deepnote_cell_height": 117.15625
   },
   "source": "#Primero: dividimos los datos y los agrupamos en la variable Q7_dataset, allí colocamos las columnas \n#que nos traen los datos que responden a la solicitud, y usamos este codigo:\nQ7_dataset = dataset[(dataset['manufacturer_name']=='Audi') & (dataset['model_name']=='Q7')] ",
   "outputs": [],
   "execution_count": null
  },
  {
   "cell_type": "code",
   "metadata": {
    "cell_id": "4c0ac9876d76466d9860c6408c705d99",
    "tags": [],
    "deepnote_to_be_reexecuted": false,
    "source_hash": "d82c5cd8",
    "execution_start": 1649168183420,
    "execution_millis": 975,
    "deepnote_cell_type": "code",
    "deepnote_cell_height": 432.515625,
    "deepnote_output_heights": [
     21.171875,
     264.96875
    ]
   },
   "source": "sns.histplot(Q7_dataset, x='price_usd', hue = 'year_produced') \n#VISUALIZAMOS EL RESULTADO DE LA SOLICITUD, VEMOS LA VARIAVILIDAD DE PRECIOS SEGUN M",
   "outputs": [
    {
     "output_type": "execute_result",
     "execution_count": 13,
     "data": {
      "text/plain": "<AxesSubplot:xlabel='price_usd', ylabel='Count'>"
     },
     "metadata": {}
    },
    {
     "data": {
      "text/plain": "<Figure size 432x288 with 1 Axes>",
      "image/png": "[encoded data removed]"
     },
     "metadata": {
      "needs_background": "light",
      "image/png": {
       "width": 382,
       "height": 263
      }
     },
     "output_type": "display_data"
    }
   ],
   "execution_count": null
  },
  {
   "cell_type": "code",
   "metadata": {
    "cell_id": "fc8a18e1926c4786980c407074037e15",
    "tags": [],
    "deepnote_to_be_reexecuted": false,
    "source_hash": "979a98",
    "execution_start": 1649168184419,
    "execution_millis": 15,
    "deepnote_cell_type": "code",
    "deepnote_cell_height": 99.15625
   },
   "source": "#Ejemplo 2: practicando, ahora con Duster\nQ7_dataset = dataset[(dataset['manufacturer_name']=='Renault') & (dataset['model_name']=='Duster')] ",
   "outputs": [],
   "execution_count": null
  },
  {
   "cell_type": "code",
   "metadata": {
    "cell_id": "831a64c43abd413f88fc1ffd3df8ed87",
    "tags": [],
    "deepnote_to_be_reexecuted": false,
    "source_hash": "25333415",
    "execution_start": 1649168184540,
    "execution_millis": 825,
    "deepnote_cell_type": "code",
    "deepnote_cell_height": 414.5,
    "deepnote_output_heights": [
     21.171875,
     264.96875
    ]
   },
   "source": "sns.histplot(Q7_dataset, x='price_usd', hue = 'year_produced') ",
   "outputs": [
    {
     "output_type": "execute_result",
     "execution_count": 15,
     "data": {
      "text/plain": "<AxesSubplot:xlabel='price_usd', ylabel='Count'>"
     },
     "metadata": {}
    },
    {
     "data": {
      "text/plain": "<Figure size 432x288 with 1 Axes>",
      "image/png": "[encoded data removed]"
     },
     "metadata": {
      "needs_background": "light",
      "image/png": {
       "width": 376,
       "height": 263
      }
     },
     "output_type": "display_data"
    }
   ],
   "execution_count": null
  },
  {
   "cell_type": "code",
   "metadata": {
    "cell_id": "ed14d109a7654c79aaf20e580b6a4ce3",
    "tags": [],
    "deepnote_to_be_reexecuted": false,
    "source_hash": "5367909a",
    "execution_start": 1649168185364,
    "execution_millis": 21,
    "deepnote_cell_type": "code",
    "deepnote_cell_height": 81.15625
   },
   "source": "Q7_dataset = dataset[(dataset['manufacturer_name']=='Renault') & (dataset['model_name']=='Clio')] ",
   "outputs": [],
   "execution_count": null
  },
  {
   "cell_type": "code",
   "metadata": {
    "cell_id": "f7f16497dac74a7499a48aff769dc530",
    "tags": [],
    "deepnote_to_be_reexecuted": false,
    "source_hash": "25333415",
    "execution_start": 1649168185391,
    "execution_millis": 2285,
    "deepnote_cell_type": "code",
    "deepnote_cell_height": 566.515625,
    "deepnote_output_heights": [
     21.171875,
     416.984375
    ]
   },
   "source": "sns.histplot(Q7_dataset, x='price_usd', hue = 'year_produced') ",
   "outputs": [
    {
     "output_type": "execute_result",
     "execution_count": 17,
     "data": {
      "text/plain": "<AxesSubplot:xlabel='price_usd', ylabel='Count'>"
     },
     "metadata": {}
    },
    {
     "data": {
      "text/plain": "<Figure size 432x288 with 1 Axes>",
      "image/png": "[encoded data removed]"
     },
     "metadata": {
      "needs_background": "light",
      "image/png": {
       "width": 386,
       "height": 415
      }
     },
     "output_type": "display_data"
    }
   ],
   "execution_count": null
  },
  {
   "cell_type": "markdown",
   "source": "##### CONCLUSIÓN DE LA SOLICITUD: \n1) ejemplo: vemos de entrada que aquellos modelos de auto \"Q7\" audi, que tienen más antigüedad están a menor costo, \nlas mismas están representadas con el color más claro en la visualización. Vemos que los modelos más \nrecientes aumentan su valor, el precio más alto ronda los 45000. \nA partir de esto se puede determinar que tipo de modelo podría comprar, según esa caracteristica \ny su precio.\n\n2) ejemplo: se puede notar que los precios más caros de las \"Duster\" de renault, rondan entre los 12.000 a 14.000 aproximadamente, respecto a su precio y en cuánto a su tiempo. Estos son los más recientes, correspondientes al año 2018/19. En tanto los más ecónomicos de este catalogo rondan los 6000 usd, en adelante.\n\n3) ejemplo: en este caso notamos como los precios de los Clio- Renault no varian mucho entre los año 1991 al 2000.Aunque por su modelo, son más economicos respecto a los que siguel del 2000 al 2016. Este último muestra también similitudes desde 2013 al 2016, propiamente dicho. Podemos mencionar que los precios no suelen cambiar tan drásticamente- ",
   "metadata": {
    "cell_id": "0e59147712cc416896bb5428583a00bc",
    "tags": [],
    "deepnote_cell_type": "markdown",
    "deepnote_cell_height": 334.90625
   }
  },
  {
   "cell_type": "markdown",
   "source": "### Medidas de dispersión: los mas utilizados\n- rango \nes el intervalo entre el valor máximo y el valor mínimo.\nes restar el valor max con el valor min, su resultado es el rango\n\n- cuartiles: divisiones homogeneas (la misma cant de datos). Los cuartiles son valores que dividen una muestra de datos en cuatro partes iguales.\na) 1er cuartil (Q1): 25% de los datos es menor que o igual a este valor. Parte de izq de Q2. Mitad entre la mediana y el valor minimo! \n\nb) 2do cuartil (Q2): La mediana. 50% de los datos es menor que o igual a este valor. Este es el primero que se define\n\nc) 3er cuartil (Q3): 75% de los datos es menor que o igual a este valor. La mitad entre la mediana y valor maximo! \n\n-Rango intercuartil: La distancia entre el primer 1er cuartil y el 3er cuartil (Q3-Q1); de esta manera, abarca el 50% central de los datos. QR\n\nEn referencia a la mediana, el mejor gráfico que representa la dispersion de los datos es el:\n- DIAGRAMA DE CAJA\nUna gráfica de caja proporciona un resumen gráfico de la distribución de una muestra. La gráfica de caja muestra la forma, tendencia central y variabilidad de los datos.\n- tambien permite ver a simple vista los valores atipicos\n\nAsimétrico hacia la derecha\n![Picture title](image-20220403-152023.png)\n\nAsimetrico hacia la izquierda\n![Picture title](image-20220403-152114.png)\n\n*La gráfica de caja con datos asimétricos hacia la derecha muestra tiempos de espera. La mayoría de los tiempos de espera son relativamente cortos y solo unos pocos son largos. La gráfica de caja con datos asimétricos hacia la izquierda muestra datos de tiempo de falla. Unos pocos elementos fallan inmediatamente y muchos otros fallan posteriormente.*\n\n- desviación standar: La desviación estándar es la medida de dispersión más común, que indica qué tan dispersos están los datos alrededor de la media.\nUn valor de desviación estándar más alto indica una mayor dispersión de los datos. Una buena regla empírica para una distribución normal es que aproximadamente 68% de los valores se ubican a no más de una desviación estándar de la media, 95% de los valores se ubican a no más de dos desviaciones estándar y 99.7% de los valores se ubican a no más de tres desviaciones estándar.\nDE de muestra / poblacion: letra sigma de ... \na) tiene mayor sentido cuando es asimetrico, cuando no es hay que calcular el SESGO\n\n\n- Varianza\nLa varianza mide qué tan dispersos están los datos alrededor de su media. La varianza es igual a la desviación estándar elevada al cuadrado.- \nMientras mayor sea la varianza, mayor será la dispersión de los datos.\n\n- Distribucion normal: forma de campana",
   "metadata": {
    "cell_id": "67bc6b32406a4cb09c35897a18807aa5",
    "tags": [],
    "deepnote_cell_type": "markdown",
    "deepnote_cell_height": 1256.984375
   }
  },
  {
   "cell_type": "markdown",
   "source": "### Como calcular y visualizar las distribuciones:",
   "metadata": {
    "cell_id": "a5bfe7799b094ce08d13477705174e19",
    "tags": [],
    "deepnote_cell_type": "markdown",
    "deepnote_cell_height": 62.15625
   }
  },
  {
   "cell_type": "code",
   "metadata": {
    "cell_id": "7ca7123dcae0496e93c823960e906c34",
    "tags": [],
    "deepnote_to_be_reexecuted": false,
    "source_hash": "c05501d8",
    "execution_start": 1649168187655,
    "execution_millis": 21,
    "deepnote_cell_type": "code",
    "deepnote_cell_height": 136.4375,
    "deepnote_output_heights": [
     21.171875
    ]
   },
   "source": "# Desviación estandar\ndataset['price_usd'].std()",
   "outputs": [
    {
     "output_type": "execute_result",
     "execution_count": 18,
     "data": {
      "text/plain": "6428.1520182029035"
     },
     "metadata": {}
    }
   ],
   "execution_count": null
  },
  {
   "cell_type": "markdown",
   "source": "#### Rango = valor max - valor min\n",
   "metadata": {
    "cell_id": "646825f3f34843a59ac69d5781117b8f",
    "tags": [],
    "deepnote_cell_type": "markdown",
    "deepnote_cell_height": 54.15625
   }
  },
  {
   "cell_type": "code",
   "metadata": {
    "cell_id": "cf11e7239f4b499a98b36ed34d6894eb",
    "tags": [],
    "deepnote_to_be_reexecuted": false,
    "source_hash": "565a3ff7",
    "execution_start": 1649168187656,
    "execution_millis": 20,
    "deepnote_cell_type": "code",
    "deepnote_cell_height": 136.4375,
    "deepnote_output_heights": [
     21.171875
    ]
   },
   "source": "rango = dataset['price_usd'].max() - dataset['price_usd'].min()\nrango",
   "outputs": [
    {
     "output_type": "execute_result",
     "execution_count": 19,
     "data": {
      "text/plain": "49999.0"
     },
     "metadata": {}
    }
   ],
   "execution_count": null
  },
  {
   "cell_type": "code",
   "metadata": {
    "cell_id": "9edab341d13340a4b4aaf134e345f97c",
    "tags": [],
    "deepnote_to_be_reexecuted": false,
    "source_hash": "5709ed45",
    "execution_start": 1649168187657,
    "execution_millis": 20,
    "deepnote_cell_type": "code",
    "deepnote_cell_height": 219.4375
   },
   "source": "# Quartiles\nmedian = dataset['price_usd'].median()\nQ1 = dataset['price_usd'].quantile(q=0.25)\nQ3 = dataset['price_usd'].quantile(q=0.75)\nmin_val = dataset['price_usd'].quantile(q=0)\nmax_val = dataset['price_usd'].quantile(q=1.0)\nprint(min_val, Q1, median, Q3, max_val)",
   "outputs": [
    {
     "name": "stdout",
     "text": "1.0 2100.0 4800.0 8990.0 50000.0\n",
     "output_type": "stream"
    }
   ],
   "execution_count": null
  },
  {
   "cell_type": "code",
   "metadata": {
    "cell_id": "00ac66655c76401988b7c301abcbbaea",
    "tags": [],
    "deepnote_to_be_reexecuted": false,
    "source_hash": "7e09e3cb",
    "execution_start": 1649168187657,
    "execution_millis": 20,
    "deepnote_cell_type": "code",
    "deepnote_cell_height": 136.4375,
    "deepnote_output_heights": [
     21.171875
    ]
   },
   "source": "iqr = Q3 - Q1\niqr",
   "outputs": [
    {
     "output_type": "execute_result",
     "execution_count": 21,
     "data": {
      "text/plain": "6890.0"
     },
     "metadata": {}
    }
   ],
   "execution_count": null
  },
  {
   "cell_type": "markdown",
   "source": "#### Límites para detección de outliers (datos simetricamente distribuidos)",
   "metadata": {
    "cell_id": "845ed4d435c84b1a856cb184a76ae52f",
    "tags": [],
    "deepnote_cell_type": "markdown",
    "deepnote_cell_height": 54.15625
   }
  },
  {
   "cell_type": "code",
   "metadata": {
    "cell_id": "8c708d3de7f145d1bd58a415544940e3",
    "tags": [],
    "deepnote_to_be_reexecuted": false,
    "source_hash": "6fc147d4",
    "execution_start": 1649168187659,
    "execution_millis": 18,
    "deepnote_cell_type": "code",
    "deepnote_cell_height": 147.4375
   },
   "source": "minlimit = Q1 - 1.5*iqr\nmaxlimit = Q3 + 1.5*iqr\nprint('rango para detección de outliers: {}, {}'.format(minlimit, maxlimit))",
   "outputs": [
    {
     "name": "stdout",
     "text": "rango para detección de outliers: -8235.0, 19325.0\n",
     "output_type": "stream"
    }
   ],
   "execution_count": null
  },
  {
   "cell_type": "code",
   "metadata": {
    "cell_id": "3a230b3cfae04cda8e542c4541f78390",
    "tags": [],
    "deepnote_to_be_reexecuted": false,
    "source_hash": "cf9bbfa5",
    "execution_start": 1649168187659,
    "execution_millis": 1,
    "deepnote_cell_type": "code",
    "deepnote_cell_height": 99.15625
   },
   "source": "import seaborn as sns\nimport matplotlib.pyplot as plt",
   "outputs": [],
   "execution_count": null
  },
  {
   "cell_type": "code",
   "metadata": {
    "cell_id": "e2159bf7cee743529e93740f43480279",
    "tags": [],
    "deepnote_to_be_reexecuted": false,
    "source_hash": "bfbefdc5",
    "execution_start": 1649168187660,
    "execution_millis": 775,
    "deepnote_cell_type": "code",
    "deepnote_cell_height": 793.4375,
    "deepnote_output_heights": [
     null,
     21.171875,
     501.984375
    ]
   },
   "source": "sns.set(rc={'figure.figsize':(11.7,8.27)})\nf, (ax_hist, ax_box) = plt.subplots(2, sharex=True, gridspec_kw={\"height_ratios\": (.6, .4)})\nsns.histplot(dataset['price_usd'], ax=ax_hist)\nsns.boxplot(dataset['price_usd'], ax=ax_box)\nax_hist.set(xlabel='')",
   "outputs": [
    {
     "name": "stderr",
     "text": "/shared-libs/python3.7/py/lib/python3.7/site-packages/seaborn/_decorators.py:43: FutureWarning: Pass the following variable as a keyword arg: x. From version 0.12, the only valid positional argument will be `data`, and passing other arguments without an explicit keyword will result in an error or misinterpretation.\n  FutureWarning\n",
     "output_type": "stream"
    },
    {
     "output_type": "execute_result",
     "execution_count": 24,
     "data": {
      "text/plain": "[Text(0.5, 0, '')]"
     },
     "metadata": {}
    },
    {
     "data": {
      "text/plain": "<Figure size 842.4x595.44 with 2 Axes>",
      "image/png": "[encoded data removed]"
     },
     "metadata": {
      "image/png": {
       "width": 721,
       "height": 500
      }
     },
     "output_type": "display_data"
    }
   ],
   "execution_count": null
  },
  {
   "cell_type": "code",
   "metadata": {
    "cell_id": "a752bf81562043d9960c57dfd9a2a419",
    "tags": [],
    "deepnote_to_be_reexecuted": false,
    "source_hash": "ac32f67e",
    "execution_start": 1649168188449,
    "execution_millis": 582,
    "deepnote_cell_type": "code",
    "deepnote_cell_height": 669.53125,
    "deepnote_output_heights": [
     21.171875,
     501.984375
    ]
   },
   "source": "sns.boxplot(x = 'engine_fuel', y = 'price_usd', data = dataset)\n#Se puede calcular varios box-plot separando por una cierta variable categórica:",
   "outputs": [
    {
     "output_type": "execute_result",
     "execution_count": 25,
     "data": {
      "text/plain": "<AxesSubplot:xlabel='engine_fuel', ylabel='price_usd'>"
     },
     "metadata": {}
    },
    {
     "data": {
      "text/plain": "<Figure size 842.4x595.44 with 1 Axes>",
      "image/png": "[encoded data removed]"
     },
     "metadata": {
      "image/png": {
       "width": 728,
       "height": 500
      }
     },
     "output_type": "display_data"
    }
   ],
   "execution_count": null
  },
  {
   "cell_type": "code",
   "metadata": {
    "cell_id": "97fef31a30524e90b5b7be968cdb0a47",
    "tags": [],
    "deepnote_to_be_reexecuted": false,
    "source_hash": "78db06ca",
    "execution_start": 1649168189047,
    "execution_millis": 4318360,
    "deepnote_cell_type": "code",
    "deepnote_cell_height": 189.15625
   },
   "source": "# Tipos de gráficos para visualizar datos, para ver cuál conviene usar, algunos son:\n#-graficos de barras\n#-scatter o diagrama de dispersion\n#grafico pastel\n#boxplot\n#cluster \n",
   "outputs": [],
   "execution_count": null
  },
  {
   "cell_type": "markdown",
   "source": "### Diagramas de dispersión en el análisis de datos\n##### Ejemplo: Scatterplot para investigar la relación entre un par de variables continuas. Un diagrama de dispersión muestra pares ordenados de variables X e Y en un plano de coordenadas.\n- Variables\nPuede graficar las variables x e y como pares individuales o puede graficar cada combinación de las variables xy. \nLa variable y es la variable que desea explicar o predecir. \nLa variable x es una variable correspondiente que podría explicar o predecir cambios en la variable y. \nTodas las columnas deben ser numéricas y cada par de variables xy debe tener el mismo número de filas.\n- El diagrama de dispersión permite analizar si existe algún tipo de relación entre dos variables. Por ejemplo, puede ocurrir que dos variables estén relacionadas de manera que al aumentar el valor de una, se incremente el de la otra. En este caso hablaríamos de la existencia de una correlación positiva.\n- Si los valores de ambas variable se revelan independientes entre sí, se afirmaría que no existe correlación.\n- Coeficiente de Correlación\nPara determinar con más precisión el grado de esa relación, se puede calcular el coeficiente de correlación lineal, que expresa la intensidad de la correlación entre dos variables\n\n![Picture title](image-20220404-005109.png)",
   "metadata": {
    "cell_id": "7969bb9bbab3498a95a96a127b09f06c",
    "tags": [],
    "deepnote_cell_type": "markdown",
    "deepnote_cell_height": 472.25
   }
  },
  {
   "cell_type": "code",
   "metadata": {
    "cell_id": "8ad2b8a05b7747ad8614df5ec1f12722",
    "tags": [],
    "deepnote_to_be_reexecuted": false,
    "source_hash": "335bdd54",
    "execution_start": 1649168189069,
    "execution_millis": 39,
    "deepnote_cell_type": "code",
    "deepnote_cell_height": 485.28125
   },
   "source": "import pandas as pd \nimport seaborn as sns\n\niris = sns.load_dataset('iris')\n\niris.head()",
   "outputs": [
    {
     "output_type": "execute_result",
     "execution_count": 27,
     "data": {
      "application/vnd.deepnote.dataframe.v3+json": {
       "column_count": 5,
       "row_count": 5,
       "columns": [
        {
         "name": "sepal_length",
         "dtype": "float64",
         "stats": {
          "unique_count": 5,
          "nan_count": 0,
          "min": "4.6",
          "max": "5.1",
          "histogram": [
           {
            "bin_start": 4.6,
            "bin_end": 4.6499999999999995,
            "count": 1
           },
           {
            "bin_start": 4.6499999999999995,
            "bin_end": 4.699999999999999,
            "count": 0
           },
           {
            "bin_start": 4.699999999999999,
            "bin_end": 4.75,
            "count": 1
           },
           {
            "bin_start": 4.75,
            "bin_end": 4.8,
            "count": 0
           },
           {
            "bin_start": 4.8,
            "bin_end": 4.85,
            "count": 0
           },
           {
            "bin_start": 4.85,
            "bin_end": 4.8999999999999995,
            "count": 0
           },
           {
            "bin_start": 4.8999999999999995,
            "bin_end": 4.949999999999999,
            "count": 1
           },
           {
            "bin_start": 4.949999999999999,
            "bin_end": 5,
            "count": 0
           },
           {
            "bin_start": 5,
            "bin_end": 5.05,
            "count": 1
           },
           {
            "bin_start": 5.05,
            "bin_end": 5.1,
            "count": 1
           }
          ]
         }
        },
        {
         "name": "sepal_width",
         "dtype": "float64",
         "stats": {
          "unique_count": 5,
          "nan_count": 0,
          "min": "3.0",
          "max": "3.6",
          "histogram": [
           {
            "bin_start": 3,
            "bin_end": 3.06,
            "count": 1
           },
           {
            "bin_start": 3.06,
            "bin_end": 3.12,
            "count": 1
           },
           {
            "bin_start": 3.12,
            "bin_end": 3.18,
            "count": 0
           },
           {
            "bin_start": 3.18,
            "bin_end": 3.24,
            "count": 1
           },
           {
            "bin_start": 3.24,
            "bin_end": 3.3,
            "count": 0
           },
           {
            "bin_start": 3.3,
            "bin_end": 3.3600000000000003,
            "count": 0
           },
           {
            "bin_start": 3.3600000000000003,
            "bin_end": 3.42,
            "count": 0
           },
           {
            "bin_start": 3.42,
            "bin_end": 3.48,
            "count": 0
           },
           {
            "bin_start": 3.48,
            "bin_end": 3.54,
            "count": 1
           },
           {
            "bin_start": 3.54,
            "bin_end": 3.6,
            "count": 1
           }
          ]
         }
        },
        {
         "name": "petal_length",
         "dtype": "float64",
         "stats": {
          "unique_count": 3,
          "nan_count": 0,
          "min": "1.3",
          "max": "1.5",
          "histogram": [
           {
            "bin_start": 1.3,
            "bin_end": 1.32,
            "count": 1
           },
           {
            "bin_start": 1.32,
            "bin_end": 1.34,
            "count": 0
           },
           {
            "bin_start": 1.34,
            "bin_end": 1.36,
            "count": 0
           },
           {
            "bin_start": 1.36,
            "bin_end": 1.3800000000000001,
            "count": 0
           },
           {
            "bin_start": 1.3800000000000001,
            "bin_end": 1.4,
            "count": 0
           },
           {
            "bin_start": 1.4,
            "bin_end": 1.42,
            "count": 3
           },
           {
            "bin_start": 1.42,
            "bin_end": 1.44,
            "count": 0
           },
           {
            "bin_start": 1.44,
            "bin_end": 1.46,
            "count": 0
           },
           {
            "bin_start": 1.46,
            "bin_end": 1.48,
            "count": 0
           },
           {
            "bin_start": 1.48,
            "bin_end": 1.5,
            "count": 1
           }
          ]
         }
        },
        {
         "name": "petal_width",
         "dtype": "float64",
         "stats": {
          "unique_count": 1,
          "nan_count": 0,
          "min": "0.2",
          "max": "0.2",
          "histogram": [
           {
            "bin_start": -0.3,
            "bin_end": -0.19999999999999998,
            "count": 0
           },
           {
            "bin_start": -0.19999999999999998,
            "bin_end": -0.09999999999999998,
            "count": 0
           },
           {
            "bin_start": -0.09999999999999998,
            "bin_end": 5.551115123125783e-17,
            "count": 0
           },
           {
            "bin_start": 5.551115123125783e-17,
            "bin_end": 0.10000000000000003,
            "count": 0
           },
           {
            "bin_start": 0.10000000000000003,
            "bin_end": 0.2,
            "count": 0
           },
           {
            "bin_start": 0.2,
            "bin_end": 0.3000000000000001,
            "count": 5
           },
           {
            "bin_start": 0.3000000000000001,
            "bin_end": 0.4000000000000001,
            "count": 0
           },
           {
            "bin_start": 0.4000000000000001,
            "bin_end": 0.5,
            "count": 0
           },
           {
            "bin_start": 0.5,
            "bin_end": 0.6000000000000001,
            "count": 0
           },
           {
            "bin_start": 0.6000000000000001,
            "bin_end": 0.7,
            "count": 0
           }
          ]
         }
        },
        {
         "name": "species",
         "dtype": "object",
         "stats": {
          "unique_count": 1,
          "nan_count": 0,
          "categories": [
           {
            "name": "setosa",
            "count": 5
           }
          ]
         }
        },
        {
         "name": "_deepnote_index_column",
         "dtype": "int64"
        }
       ],
       "rows": [
        {
         "sepal_length": 5.1,
         "sepal_width": 3.5,
         "petal_length": 1.4,
         "petal_width": 0.2,
         "species": "setosa",
         "_deepnote_index_column": 0
        },
        {
         "sepal_length": 4.9,
         "sepal_width": 3,
         "petal_length": 1.4,
         "petal_width": 0.2,
         "species": "setosa",
         "_deepnote_index_column": 1
        },
        {
         "sepal_length": 4.7,
         "sepal_width": 3.2,
         "petal_length": 1.3,
         "petal_width": 0.2,
         "species": "setosa",
         "_deepnote_index_column": 2
        },
        {
         "sepal_length": 4.6,
         "sepal_width": 3.1,
         "petal_length": 1.5,
         "petal_width": 0.2,
         "species": "setosa",
         "_deepnote_index_column": 3
        },
        {
         "sepal_length": 5,
         "sepal_width": 3.6,
         "petal_length": 1.4,
         "petal_width": 0.2,
         "species": "setosa",
         "_deepnote_index_column": 4
        }
       ]
      },
      "text/plain": "   sepal_length  sepal_width  petal_length  petal_width species\n0           5.1          3.5           1.4          0.2  setosa\n1           4.9          3.0           1.4          0.2  setosa\n2           4.7          3.2           1.3          0.2  setosa\n3           4.6          3.1           1.5          0.2  setosa\n4           5.0          3.6           1.4          0.2  setosa",
      "text/html": "<div>\n<style scoped>\n    .dataframe tbody tr th:only-of-type {\n        vertical-align: middle;\n    }\n\n    .dataframe tbody tr th {\n        vertical-align: top;\n    }\n\n    .dataframe thead th {\n        text-align: right;\n    }\n</style>\n<table border=\"1\" class=\"dataframe\">\n  <thead>\n    <tr style=\"text-align: right;\">\n      <th></th>\n      <th>sepal_length</th>\n      <th>sepal_width</th>\n      <th>petal_length</th>\n      <th>petal_width</th>\n      <th>species</th>\n    </tr>\n  </thead>\n  <tbody>\n    <tr>\n      <th>0</th>\n      <td>5.1</td>\n      <td>3.5</td>\n      <td>1.4</td>\n      <td>0.2</td>\n      <td>setosa</td>\n    </tr>\n    <tr>\n      <th>1</th>\n      <td>4.9</td>\n      <td>3.0</td>\n      <td>1.4</td>\n      <td>0.2</td>\n      <td>setosa</td>\n    </tr>\n    <tr>\n      <th>2</th>\n      <td>4.7</td>\n      <td>3.2</td>\n      <td>1.3</td>\n      <td>0.2</td>\n      <td>setosa</td>\n    </tr>\n    <tr>\n      <th>3</th>\n      <td>4.6</td>\n      <td>3.1</td>\n      <td>1.5</td>\n      <td>0.2</td>\n      <td>setosa</td>\n    </tr>\n    <tr>\n      <th>4</th>\n      <td>5.0</td>\n      <td>3.6</td>\n      <td>1.4</td>\n      <td>0.2</td>\n      <td>setosa</td>\n    </tr>\n  </tbody>\n</table>\n</div>"
     },
     "metadata": {}
    }
   ],
   "execution_count": null
  },
  {
   "cell_type": "markdown",
   "source": "#### En el siguiente gráfico \"scatterplot\" podemos notar que la especie de flor que tiene menos longitud de pétalos es la \"Setosa\", con una longitud de sepalos que ronda casi a los 6.0. Luego sigue la especie \"versicolor\", que llega hasta una longitud de petalos de 5, con la longitud de sepalos de aproximadamente 7.0. Por último la que presenta mayor longitud de petalos es la \"virginica\",que llega a 7. Mientras que su longitud de sepalos es de 8.0",
   "metadata": {
    "cell_id": "abc1f904a4ee43c4a6aaa463d0f8bb0f",
    "tags": [],
    "deepnote_cell_type": "markdown",
    "deepnote_cell_height": 150.125
   }
  },
  {
   "cell_type": "code",
   "metadata": {
    "cell_id": "040c5881623a47029a7573bf2c8c0350",
    "tags": [],
    "deepnote_to_be_reexecuted": false,
    "source_hash": "8b843fb5",
    "execution_start": 1649168189117,
    "execution_millis": 722,
    "deepnote_cell_type": "code",
    "deepnote_cell_height": 687.53125,
    "deepnote_output_heights": [
     21.171875,
     501.984375
    ]
   },
   "source": "# scatterplot #atributos en los ejes\nsns.scatterplot(data=iris, x = 'sepal_length', y = 'petal_length', hue = 'species')\n#permite segmentar especies como vemos en la gráfica",
   "outputs": [
    {
     "output_type": "execute_result",
     "execution_count": 28,
     "data": {
      "text/plain": "<AxesSubplot:xlabel='sepal_length', ylabel='petal_length'>"
     },
     "metadata": {}
    },
    {
     "data": {
      "text/plain": "<Figure size 842.4x595.44 with 1 Axes>",
      "image/png": "[encoded data removed]"
     },
     "metadata": {
      "image/png": {
       "width": 700,
       "height": 500
      }
     },
     "output_type": "display_data"
    }
   ],
   "execution_count": null
  },
  {
   "cell_type": "markdown",
   "source": "#### En el siguiente ejemplo vemos la comparación de flores según el ancho de sépalos, y de pétalos, donde a simple vista la \"setosa\" es la que presenta mayor medida en este aspecto, casi cerca de la medida de la \"Virginica\"",
   "metadata": {
    "cell_id": "a09eaf662f1746a685ba997857e2954d",
    "tags": [],
    "deepnote_cell_type": "markdown",
    "deepnote_cell_height": 102.140625
   }
  },
  {
   "cell_type": "code",
   "metadata": {
    "cell_id": "dc2a35d8bdf74e89b74eb5449bcd4251",
    "tags": [],
    "deepnote_to_be_reexecuted": false,
    "source_hash": "6f2df9c6",
    "execution_start": 1649168189842,
    "execution_millis": 1320,
    "deepnote_cell_type": "code",
    "deepnote_cell_height": 607.53125,
    "deepnote_output_heights": [
     21.171875,
     421.984375
    ]
   },
   "source": "# joint plot\nsns.jointplot(data=iris, x = 'sepal_width', y = 'petal_length', hue = 'species')\n#Tambien las correlaciones",
   "outputs": [
    {
     "output_type": "execute_result",
     "execution_count": 29,
     "data": {
      "text/plain": "<seaborn.axisgrid.JointGrid at 0x7faebad5fb50>"
     },
     "metadata": {}
    },
    {
     "data": {
      "text/plain": "<Figure size 432x432 with 3 Axes>",
      "image/png": "[encoded data removed]"
     },
     "metadata": {
      "image/png": {
       "width": 410,
       "height": 420
      }
     },
     "output_type": "display_data"
    }
   ],
   "execution_count": null
  },
  {
   "cell_type": "markdown",
   "source": "##### En este último ejemplo utilizamos el gráfico \"Box plot\", dónde apreciamos la mediana de sepalos cada especie, por ejemplo de la \"Setosa\" es 5.0, le sigue la \"Versicolor\"con 6.0 y por último la \"Virginica\" con 6.5 de mediana, y muestra valores atipicos.\n##### También puede apreciarse el rango intercuartil de cada una de las especies, y dsitribuciones",
   "metadata": {
    "cell_id": "3b134265c3f84e55bd632117e53f43f6",
    "tags": [],
    "deepnote_cell_type": "markdown",
    "deepnote_cell_height": 122.140625
   }
  },
  {
   "cell_type": "code",
   "metadata": {
    "cell_id": "5d5b3216e8a243a488c1b2dab67417b0",
    "tags": [],
    "deepnote_to_be_reexecuted": false,
    "source_hash": "ffd98e87",
    "execution_start": 1649168191183,
    "execution_millis": 390,
    "deepnote_cell_type": "code",
    "deepnote_cell_height": 669.53125,
    "deepnote_output_heights": [
     21.171875,
     501.984375
    ]
   },
   "source": "# box plot \nsns.boxplot(x = 'species', y = 'sepal_length', data = iris)",
   "outputs": [
    {
     "output_type": "execute_result",
     "execution_count": 30,
     "data": {
      "text/plain": "<AxesSubplot:xlabel='species', ylabel='sepal_length'>"
     },
     "metadata": {}
    },
    {
     "data": {
      "text/plain": "<Figure size 842.4x595.44 with 1 Axes>",
      "image/png": "[encoded data removed]"
     },
     "metadata": {
      "image/png": {
       "width": 711,
       "height": 500
      }
     },
     "output_type": "display_data"
    }
   ],
   "execution_count": null
  },
  {
   "cell_type": "markdown",
   "source": "### Escalamiento de datos numéricos",
   "metadata": {
    "cell_id": "02f9145568a34ec4865ddbbc22974a92",
    "tags": [],
    "deepnote_cell_type": "markdown",
    "deepnote_cell_height": 62.15625
   }
  },
  {
   "cell_type": "code",
   "metadata": {
    "cell_id": "9dd8cd4376924d88a205404594874bda",
    "tags": [],
    "deepnote_to_be_reexecuted": false,
    "source_hash": "ec818550",
    "execution_start": 1649168191592,
    "execution_millis": 4317584,
    "deepnote_cell_type": "code",
    "deepnote_cell_height": 81.15625
   },
   "source": "# Transformaciones lineales",
   "outputs": [],
   "execution_count": null
  },
  {
   "cell_type": "code",
   "metadata": {
    "cell_id": "b3fdbe0cb03646bba629acd05c185b70",
    "tags": [],
    "deepnote_to_be_reexecuted": false,
    "source_hash": "8ff8f22c",
    "execution_start": 1649168191593,
    "execution_millis": 504,
    "deepnote_cell_type": "code",
    "deepnote_cell_height": 244.15625
   },
   "source": "#LIBRERIAS: \n\nimport timeit #medir performace tiempo/ disposicion de los modelos\nimport numpy as np\nimport pandas as pd \nimport matplotlib.pyplot as plt\nfrom sklearn import datasets, linear_model #descargar dataset\n\nX, y = datasets.load_diabetes(return_X_y=True)\nraw = X[:, None, 2] ",
   "outputs": [],
   "execution_count": null
  },
  {
   "cell_type": "code",
   "metadata": {
    "cell_id": "ddfbb105405b4f439d2d5fcfafc35ec5",
    "tags": [],
    "deepnote_to_be_reexecuted": false,
    "source_hash": "c9ce71b6",
    "execution_start": 1649168192104,
    "execution_millis": 22,
    "deepnote_cell_type": "code",
    "deepnote_cell_height": 154.15625
   },
   "source": "#escalamiento max-min \nmax_raw = max(raw)\nmin_raw = min(raw)\nscaled = (2*raw - max_raw -min_raw)/(max_raw - min_raw)\n",
   "outputs": [],
   "execution_count": null
  },
  {
   "cell_type": "markdown",
   "source": "### Normalización Z-score\nLa normalización es una técnica que a menudo se aplica como parte de la preparación de datos para el aprendizaje automático. El objetivo de la normalización es cambiar los valores de las columnas numéricas en el conjunto de datos para usar una escala común, sin distorsionar las diferencias en los rangos de valores ni perder información. La normalización también es necesaria para que algunos algoritmos modelen los datos correctamente\n\n- Un z-score es el número de desviaciones estándar de la estimación media de la población de referencia",
   "metadata": {
    "cell_id": "3b0a8121b3dc4e268c824b149354e678",
    "tags": [],
    "deepnote_cell_type": "markdown",
    "deepnote_cell_height": 218.03125
   }
  },
  {
   "cell_type": "code",
   "metadata": {
    "cell_id": "2c2bf31658cb4d95922b65217cba2cfa",
    "tags": [],
    "deepnote_to_be_reexecuted": false,
    "source_hash": "384b9cce",
    "execution_start": 1649168192168,
    "execution_millis": 1015,
    "deepnote_cell_type": "code",
    "deepnote_cell_height": 991.25,
    "deepnote_output_heights": [
     97.90625,
     584.96875
    ]
   },
   "source": "#Z-score: Convierte todos los valores en una puntuación z. Los valores de la columna se transforman\n\navg = np.average(raw)\nstd = np.std(raw)\nz_scaled = (raw - avg)/std\n\nfig, axs = plt.subplots(3, 1, sharex=True, tight_layout=True)\n\naxs[0].hist(raw)            #histograma con datos escalados\naxs[1].hist(scaled)\naxs[2].hist(z_scaled)",
   "outputs": [
    {
     "output_type": "execute_result",
     "execution_count": 34,
     "data": {
      "text/plain": "(array([32., 66., 98., 90., 64., 50., 23., 12.,  5.,  2.]),\n array([-1.89792941, -1.34956464, -0.80119987, -0.2528351 ,  0.29552967,\n         0.84389444,  1.39225921,  1.94062398,  2.48898875,  3.03735352,\n         3.58571828]),\n <BarContainer object of 10 artists>)"
     },
     "metadata": {}
    },
    {
     "data": {
      "text/plain": "<Figure size 842.4x595.44 with 3 Axes>",
      "image/png": "[encoded data removed]"
     },
     "metadata": {
      "image/png": {
       "width": 830,
       "height": 583
      }
     },
     "output_type": "display_data"
    }
   ],
   "execution_count": null
  },
  {
   "cell_type": "code",
   "metadata": {
    "cell_id": "71357e2f7b9747fb95abb55fd7c07154",
    "tags": [],
    "deepnote_to_be_reexecuted": false,
    "source_hash": "8d13a080",
    "execution_start": 1649168193200,
    "execution_millis": 4317249,
    "deepnote_cell_type": "code",
    "deepnote_cell_height": 225.171875
   },
   "source": "# modelos para entrenamiento\ndef train_raw():\n    linear_model.LinearRegression().fit(raw, y)\n\ndef train_scaled():\n    linear_model.LinearRegression().fit(scaled, y)\n\ndef train_z_scaled():\n    linear_model.LinearRegression().fit(z_scaled, y)",
   "outputs": [],
   "execution_count": null
  },
  {
   "cell_type": "code",
   "metadata": {
    "cell_id": "da957749051c4000b2fa2b2bfb30bae7",
    "tags": [],
    "deepnote_to_be_reexecuted": false,
    "source_hash": "3f3419ef",
    "execution_start": 1649168193206,
    "execution_millis": 217,
    "deepnote_cell_type": "code",
    "deepnote_cell_height": 275.8125
   },
   "source": "raw_time = timeit.timeit(train_raw, number = 100) \nscaled_time = timeit.timeit(train_raw, number = 100)\nz_scaled_time = timeit.timeit(train_raw, number = 100)\nprint('trainning time for raw data : {} '.format(raw_time))\nprint('trainning time for scaled data : {}'.format(scaled_time))\nprint('trainning time for z_scaled data : {}'.format(z_scaled_time))\n\n#Evidenciar el tiempo reducido con un modelo entrenado: ",
   "outputs": [
    {
     "name": "stdout",
     "text": "trainning time for raw data : 0.0786435789996176 \ntrainning time for scaled data : 0.07538083500185166\ntrainning time for z_scaled data : 0.06741252899882966\n",
     "output_type": "stream"
    }
   ],
   "execution_count": null
  },
  {
   "cell_type": "markdown",
   "source": "max-min scaling: mejor para datos uniformemente distribuidos\nz-score scaling: mejor para datos distribuidos \"normalmente\" (forma de campana de gauss)",
   "metadata": {
    "cell_id": "1329bd87d444461ea01452f790021350",
    "tags": [],
    "deepnote_cell_type": "markdown",
    "deepnote_cell_height": 74.921875
   }
  },
  {
   "cell_type": "markdown",
   "source": "### Transformaciones no lineales",
   "metadata": {
    "cell_id": "fe431209c87f4acd93e720bfb25f0817",
    "tags": [],
    "deepnote_cell_type": "markdown",
    "deepnote_cell_height": 62.15625
   }
  },
  {
   "cell_type": "code",
   "metadata": {
    "cell_id": "04a5d62cf24d40e3862a947b5b3a6259",
    "tags": [],
    "deepnote_to_be_reexecuted": false,
    "source_hash": "dc70b0ad",
    "execution_start": 1649168193431,
    "execution_millis": 438,
    "deepnote_cell_type": "code",
    "deepnote_cell_height": 634.5,
    "deepnote_output_heights": [
     21.171875,
     484.96875
    ]
   },
   "source": "dataset.price_usd.hist() #usamos el dataset de \"Cars\"",
   "outputs": [
    {
     "output_type": "execute_result",
     "execution_count": 37,
     "data": {
      "text/plain": "<AxesSubplot:>"
     },
     "metadata": {}
    },
    {
     "data": {
      "text/plain": "<Figure size 842.4x595.44 with 1 Axes>",
      "image/png": "[encoded data removed]"
     },
     "metadata": {
      "image/png": {
       "width": 711,
       "height": 483
      }
     },
     "output_type": "display_data"
    }
   ],
   "execution_count": null
  },
  {
   "cell_type": "code",
   "metadata": {
    "cell_id": "902c1b03c63843afbb49286e2f21e11e",
    "tags": [],
    "deepnote_to_be_reexecuted": false,
    "source_hash": "d314002b",
    "execution_start": 1649168193883,
    "execution_millis": 836,
    "deepnote_cell_type": "code",
    "deepnote_cell_height": 742.515625,
    "deepnote_output_heights": [
     21.171875,
     484.96875
    ]
   },
   "source": "#Transformación con tanh(x)tanh(x)tanh(x) #aplicamos direcamente sobre pandas y el dataset, usamos el argumento\n#Lamba\n\np = 10000\ndataset.price_usd.apply(lambda x: np.tanh(x/p)).hist()\n#Se redistribuye todo a un formato mas uniforme, reduciendo sus sesgos. \n",
   "outputs": [
    {
     "output_type": "execute_result",
     "execution_count": 38,
     "data": {
      "text/plain": "<AxesSubplot:>"
     },
     "metadata": {}
    },
    {
     "data": {
      "text/plain": "<Figure size 842.4x595.44 with 1 Axes>",
      "image/png": "[encoded data removed]"
     },
     "metadata": {
      "image/png": {
       "width": 704,
       "height": 483
      }
     },
     "output_type": "display_data"
    }
   ],
   "execution_count": null
  },
  {
   "cell_type": "markdown",
   "source": "#### Procesamiento para variables categóricas",
   "metadata": {
    "cell_id": "c2cd582f439544bf99fa13f9724984c4",
    "tags": [],
    "deepnote_cell_type": "markdown",
    "deepnote_cell_height": 54.15625
   }
  },
  {
   "cell_type": "code",
   "metadata": {
    "cell_id": "fc196083fd5c410cb3f3a1c162e87606",
    "tags": [],
    "deepnote_to_be_reexecuted": false,
    "source_hash": "d1906a33",
    "execution_start": 1649168194451,
    "execution_millis": 285,
    "deepnote_cell_type": "code",
    "deepnote_cell_height": 673.234375
   },
   "source": "import pandas as pd\npd.get_dummies(dataset['engine_type'])\n#Crear 3 columnas con 0 y 1, dummies, one hot\n\n",
   "outputs": [
    {
     "output_type": "execute_result",
     "execution_count": 39,
     "data": {
      "application/vnd.deepnote.dataframe.v3+json": {
       "column_count": 3,
       "row_count": 38531,
       "columns": [
        {
         "name": "diesel",
         "dtype": "uint8",
         "stats": {
          "unique_count": 2,
          "nan_count": 0,
          "min": "0",
          "max": "1",
          "histogram": [
           {
            "bin_start": 0,
            "bin_end": 0.1,
            "count": 25657
           },
           {
            "bin_start": 0.1,
            "bin_end": 0.2,
            "count": 0
           },
           {
            "bin_start": 0.2,
            "bin_end": 0.30000000000000004,
            "count": 0
           },
           {
            "bin_start": 0.30000000000000004,
            "bin_end": 0.4,
            "count": 0
           },
           {
            "bin_start": 0.4,
            "bin_end": 0.5,
            "count": 0
           },
           {
            "bin_start": 0.5,
            "bin_end": 0.6000000000000001,
            "count": 0
           },
           {
            "bin_start": 0.6000000000000001,
            "bin_end": 0.7000000000000001,
            "count": 0
           },
           {
            "bin_start": 0.7000000000000001,
            "bin_end": 0.8,
            "count": 0
           },
           {
            "bin_start": 0.8,
            "bin_end": 0.9,
            "count": 0
           },
           {
            "bin_start": 0.9,
            "bin_end": 1,
            "count": 12874
           }
          ]
         }
        },
        {
         "name": "electric",
         "dtype": "uint8",
         "stats": {
          "unique_count": 2,
          "nan_count": 0,
          "min": "0",
          "max": "1",
          "histogram": [
           {
            "bin_start": 0,
            "bin_end": 0.1,
            "count": 38521
           },
           {
            "bin_start": 0.1,
            "bin_end": 0.2,
            "count": 0
           },
           {
            "bin_start": 0.2,
            "bin_end": 0.30000000000000004,
            "count": 0
           },
           {
            "bin_start": 0.30000000000000004,
            "bin_end": 0.4,
            "count": 0
           },
           {
            "bin_start": 0.4,
            "bin_end": 0.5,
            "count": 0
           },
           {
            "bin_start": 0.5,
            "bin_end": 0.6000000000000001,
            "count": 0
           },
           {
            "bin_start": 0.6000000000000001,
            "bin_end": 0.7000000000000001,
            "count": 0
           },
           {
            "bin_start": 0.7000000000000001,
            "bin_end": 0.8,
            "count": 0
           },
           {
            "bin_start": 0.8,
            "bin_end": 0.9,
            "count": 0
           },
           {
            "bin_start": 0.9,
            "bin_end": 1,
            "count": 10
           }
          ]
         }
        },
        {
         "name": "gasoline",
         "dtype": "uint8"
        },
        {
         "name": "_deepnote_index_column",
         "dtype": "int64"
        }
       ],
       "rows": [
        {
         "diesel": 0,
         "electric": 0,
         "gasoline": 1,
         "_deepnote_index_column": 0
        },
        {
         "diesel": 0,
         "electric": 0,
         "gasoline": 1,
         "_deepnote_index_column": 1
        },
        {
         "diesel": 0,
         "electric": 0,
         "gasoline": 1,
         "_deepnote_index_column": 2
        },
        {
         "diesel": 0,
         "electric": 0,
         "gasoline": 1,
         "_deepnote_index_column": 3
        },
        {
         "diesel": 0,
         "electric": 0,
         "gasoline": 1,
         "_deepnote_index_column": 4
        },
        {
         "diesel": 0,
         "electric": 0,
         "gasoline": 1,
         "_deepnote_index_column": 5
        },
        {
         "diesel": 0,
         "electric": 0,
         "gasoline": 1,
         "_deepnote_index_column": 6
        },
        {
         "diesel": 0,
         "electric": 0,
         "gasoline": 1,
         "_deepnote_index_column": 7
        },
        {
         "diesel": 0,
         "electric": 0,
         "gasoline": 1,
         "_deepnote_index_column": 8
        },
        {
         "diesel": 0,
         "electric": 0,
         "gasoline": 1,
         "_deepnote_index_column": 9
        }
       ]
      },
      "text/plain": "       diesel  electric  gasoline\n0           0         0         1\n1           0         0         1\n2           0         0         1\n3           0         0         1\n4           0         0         1\n...       ...       ...       ...\n38526       0         0         1\n38527       1         0         0\n38528       0         0         1\n38529       0         0         1\n38530       0         0         1\n\n[38531 rows x 3 columns]",
      "text/html": "<div>\n<style scoped>\n    .dataframe tbody tr th:only-of-type {\n        vertical-align: middle;\n    }\n\n    .dataframe tbody tr th {\n        vertical-align: top;\n    }\n\n    .dataframe thead th {\n        text-align: right;\n    }\n</style>\n<table border=\"1\" class=\"dataframe\">\n  <thead>\n    <tr style=\"text-align: right;\">\n      <th></th>\n      <th>diesel</th>\n      <th>electric</th>\n      <th>gasoline</th>\n    </tr>\n  </thead>\n  <tbody>\n    <tr>\n      <th>0</th>\n      <td>0</td>\n      <td>0</td>\n      <td>1</td>\n    </tr>\n    <tr>\n      <th>1</th>\n      <td>0</td>\n      <td>0</td>\n      <td>1</td>\n    </tr>\n    <tr>\n      <th>2</th>\n      <td>0</td>\n      <td>0</td>\n      <td>1</td>\n    </tr>\n    <tr>\n      <th>3</th>\n      <td>0</td>\n      <td>0</td>\n      <td>1</td>\n    </tr>\n    <tr>\n      <th>4</th>\n      <td>0</td>\n      <td>0</td>\n      <td>1</td>\n    </tr>\n    <tr>\n      <th>...</th>\n      <td>...</td>\n      <td>...</td>\n      <td>...</td>\n    </tr>\n    <tr>\n      <th>38526</th>\n      <td>0</td>\n      <td>0</td>\n      <td>1</td>\n    </tr>\n    <tr>\n      <th>38527</th>\n      <td>1</td>\n      <td>0</td>\n      <td>0</td>\n    </tr>\n    <tr>\n      <th>38528</th>\n      <td>0</td>\n      <td>0</td>\n      <td>1</td>\n    </tr>\n    <tr>\n      <th>38529</th>\n      <td>0</td>\n      <td>0</td>\n      <td>1</td>\n    </tr>\n    <tr>\n      <th>38530</th>\n      <td>0</td>\n      <td>0</td>\n      <td>1</td>\n    </tr>\n  </tbody>\n</table>\n<p>38531 rows × 3 columns</p>\n</div>"
     },
     "metadata": {}
    }
   ],
   "execution_count": null
  },
  {
   "cell_type": "code",
   "metadata": {
    "cell_id": "dfe3c260e8e545ba93482fc372641015",
    "tags": [],
    "deepnote_to_be_reexecuted": false,
    "source_hash": "200c99",
    "execution_start": 1649168194529,
    "execution_millis": 10,
    "deepnote_cell_type": "code",
    "deepnote_cell_height": 99.15625
   },
   "source": "import sklearn.preprocessing as preprocessing\nencoder = preprocessing.OneHotEncoder(handle_unknown='ignore')",
   "outputs": [],
   "execution_count": null
  },
  {
   "cell_type": "code",
   "metadata": {
    "cell_id": "a1ef2552f81c42efbe6c86d7e7e190f9",
    "tags": [],
    "deepnote_to_be_reexecuted": false,
    "source_hash": "3761152c",
    "execution_start": 1649168194548,
    "execution_millis": 191,
    "deepnote_cell_type": "code",
    "deepnote_cell_height": 118.4375,
    "deepnote_output_heights": [
     21.171875
    ]
   },
   "source": "encoder.fit(dataset[['engine_type']].values)",
   "outputs": [
    {
     "output_type": "execute_result",
     "execution_count": 41,
     "data": {
      "text/plain": "OneHotEncoder(handle_unknown='ignore')"
     },
     "metadata": {}
    }
   ],
   "execution_count": null
  },
  {
   "cell_type": "code",
   "metadata": {
    "cell_id": "ddb9cd8d9ea342c2966ed8181ceefbd4",
    "tags": [],
    "deepnote_to_be_reexecuted": false,
    "source_hash": "87f8229f",
    "execution_start": 1649168194577,
    "execution_millis": 164,
    "deepnote_cell_type": "code",
    "deepnote_cell_height": 192.8125,
    "deepnote_output_heights": [
     59.53125
    ]
   },
   "source": "encoder.transform([['gasoline'],['diesel'],['aceite']]).toarray() #Transformacion de categorias\n#codificacion de las columnas mencionadas\n#",
   "outputs": [
    {
     "output_type": "execute_result",
     "execution_count": 42,
     "data": {
      "text/plain": "array([[0., 0., 1.],\n       [1., 0., 0.],\n       [0., 0., 0.]])"
     },
     "metadata": {}
    }
   ],
   "execution_count": null
  },
  {
   "cell_type": "markdown",
   "source": "#### Variables numéricas discretas pueden ser codificadas como categoricas",
   "metadata": {
    "cell_id": "c1451412c3dc4dc3967104fc95bad359",
    "tags": [],
    "deepnote_cell_type": "markdown",
    "deepnote_cell_height": 54.15625
   }
  },
  {
   "cell_type": "code",
   "metadata": {
    "cell_id": "0833cf7ebc7648bfaff379790f896aff",
    "tags": [],
    "deepnote_to_be_reexecuted": false,
    "source_hash": "ba9d3bf6",
    "execution_start": 1649168194603,
    "execution_millis": 141,
    "deepnote_cell_type": "code",
    "deepnote_cell_height": 118.4375,
    "deepnote_output_heights": [
     21.171875
    ]
   },
   "source": "encoder.fit(dataset[['year_produced']].values)",
   "outputs": [
    {
     "output_type": "execute_result",
     "execution_count": 43,
     "data": {
      "text/plain": "OneHotEncoder(handle_unknown='ignore')"
     },
     "metadata": {}
    }
   ],
   "execution_count": null
  },
  {
   "cell_type": "code",
   "metadata": {
    "cell_id": "3c444d0d438c48aab2b807217733382b",
    "tags": [],
    "deepnote_to_be_reexecuted": false,
    "source_hash": "32d8a9fc",
    "execution_start": 1649168194649,
    "execution_millis": 99,
    "deepnote_cell_type": "code",
    "deepnote_cell_height": 365.46875,
    "deepnote_output_heights": [
     232.1875
    ]
   },
   "source": "encoder.transform([[2016],[2009],[190]]).toarray() #Probamos con un año que no existe en el dataset_ 190\n#para comprobar, #cada 0 es un año diferente, cuando hay 1 es que hay presencia de ceros\n#la ultima que representa al 190 salen ceros porque no esta, a modo de comprobar. ",
   "outputs": [
    {
     "output_type": "execute_result",
     "execution_count": 44,
     "data": {
      "text/plain": "array([[0., 0., 0., 0., 0., 0., 0., 0., 0., 0., 0., 0., 0., 0., 0., 0.,\n        0., 0., 0., 0., 0., 0., 0., 0., 0., 0., 0., 0., 0., 0., 0., 0.,\n        0., 0., 0., 0., 0., 0., 0., 0., 0., 0., 0., 0., 0., 0., 0., 0.,\n        0., 0., 0., 0., 0., 0., 0., 0., 0., 0., 0., 0., 1., 0., 0., 0.],\n       [0., 0., 0., 0., 0., 0., 0., 0., 0., 0., 0., 0., 0., 0., 0., 0.,\n        0., 0., 0., 0., 0., 0., 0., 0., 0., 0., 0., 0., 0., 0., 0., 0.,\n        0., 0., 0., 0., 0., 0., 0., 0., 0., 0., 0., 0., 0., 0., 0., 0.,\n        0., 0., 0., 0., 0., 1., 0., 0., 0., 0., 0., 0., 0., 0., 0., 0.],\n       [0., 0., 0., 0., 0., 0., 0., 0., 0., 0., 0., 0., 0., 0., 0., 0.,\n        0., 0., 0., 0., 0., 0., 0., 0., 0., 0., 0., 0., 0., 0., 0., 0.,\n        0., 0., 0., 0., 0., 0., 0., 0., 0., 0., 0., 0., 0., 0., 0., 0.,\n        0., 0., 0., 0., 0., 0., 0., 0., 0., 0., 0., 0., 0., 0., 0., 0.]])"
     },
     "metadata": {}
    }
   ],
   "execution_count": null
  },
  {
   "cell_type": "markdown",
   "source": "### Análsis con correlaciones: \nA través del coeficiente de relación podemos ver el numero que mide el grado de relación entre las variaciones de una variable con otra.\nCuando hay varias muchas variables, hay que calcular las covarianza: matriz de covarianza",
   "metadata": {
    "cell_id": "c5043970c2704c0daf366298ea18c0de",
    "tags": [],
    "deepnote_cell_type": "markdown",
    "deepnote_cell_height": 122.90625
   }
  },
  {
   "cell_type": "code",
   "metadata": {
    "cell_id": "aed64a167f6e42cbbde6a065a16523de",
    "tags": [],
    "deepnote_to_be_reexecuted": false,
    "source_hash": "1286632d",
    "execution_start": 1649168194676,
    "execution_millis": 54,
    "deepnote_cell_type": "code",
    "deepnote_cell_height": 117.15625
   },
   "source": "import seaborn as sns\nfrom sklearn.preprocessing import StandardScaler\n#diagrma de dispersion de dos variables",
   "outputs": [],
   "execution_count": null
  },
  {
   "cell_type": "code",
   "metadata": {
    "cell_id": "d21e6d19748149669459284766f758f3",
    "tags": [],
    "deepnote_to_be_reexecuted": false,
    "source_hash": "51ab5101",
    "execution_start": 1649168194731,
    "execution_millis": 8698,
    "deepnote_cell_type": "code",
    "deepnote_cell_height": 778.53125,
    "deepnote_output_heights": [
     21.171875,
     611
    ]
   },
   "source": "sns.pairplot(iris, hue = 'species') \n#De forma diagonal vemos la distribución de la variable, puede verse con los diagramas para c/ categoría!",
   "outputs": [
    {
     "output_type": "execute_result",
     "execution_count": 46,
     "data": {
      "text/plain": "<seaborn.axisgrid.PairGrid at 0x7faeb9576910>"
     },
     "metadata": {}
    },
    {
     "data": {
      "text/plain": "<Figure size 813.85x720 with 20 Axes>",
      "image/png": "[encoded data removed]"
     },
     "metadata": {
      "image/png": {
       "width": 808,
       "height": 707
      }
     },
     "output_type": "display_data"
    }
   ],
   "execution_count": null
  },
  {
   "cell_type": "code",
   "metadata": {
    "cell_id": "13d9ca2e2f5b40d7b834e6db5cef1fbe",
    "tags": [],
    "deepnote_to_be_reexecuted": false,
    "source_hash": "4ce97cac",
    "execution_start": 1649168203433,
    "execution_millis": 22,
    "deepnote_cell_type": "code",
    "deepnote_cell_height": 834.265625,
    "deepnote_output_heights": [
     611
    ]
   },
   "source": "#NORMALIZAR #escalamiento de la data #estandarizar\n\nscaler = StandardScaler() #le aplico el fit transform, no usamos todas las columnas\nscaled = scaler.fit_transform(\n    iris[['sepal_length', 'sepal_width', 'petal_length', 'petal_width']]\n)\nscaled.T #le agrego la T porqué si no me funciona para calcular la matriz de corr. Le da los mismos datos \n#pero se organizar de manera distinta: 1,2,3,4... variable.",
   "outputs": [
    {
     "output_type": "execute_result",
     "execution_count": 47,
     "data": {
      "text/plain": "array([[-9.00681170e-01, -1.14301691e+00, -1.38535265e+00,\n        -1.50652052e+00, -1.02184904e+00, -5.37177559e-01,\n        -1.50652052e+00, -1.02184904e+00, -1.74885626e+00,\n        -1.14301691e+00, -5.37177559e-01, -1.26418478e+00,\n        -1.26418478e+00, -1.87002413e+00, -5.25060772e-02,\n        -1.73673948e-01, -5.37177559e-01, -9.00681170e-01,\n        -1.73673948e-01, -9.00681170e-01, -5.37177559e-01,\n        -9.00681170e-01, -1.50652052e+00, -9.00681170e-01,\n        -1.26418478e+00, -1.02184904e+00, -1.02184904e+00,\n        -7.79513300e-01, -7.79513300e-01, -1.38535265e+00,\n        -1.26418478e+00, -5.37177559e-01, -7.79513300e-01,\n        -4.16009689e-01, -1.14301691e+00, -1.02184904e+00,\n        -4.16009689e-01, -1.14301691e+00, -1.74885626e+00,\n        -9.00681170e-01, -1.02184904e+00, -1.62768839e+00,\n        -1.74885626e+00, -1.02184904e+00, -9.00681170e-01,\n        -1.26418478e+00, -9.00681170e-01, -1.50652052e+00,\n        -6.58345429e-01, -1.02184904e+00,  1.40150837e+00,\n         6.74501145e-01,  1.28034050e+00, -4.16009689e-01,\n         7.95669016e-01, -1.73673948e-01,  5.53333275e-01,\n        -1.14301691e+00,  9.16836886e-01, -7.79513300e-01,\n        -1.02184904e+00,  6.86617933e-02,  1.89829664e-01,\n         3.10997534e-01, -2.94841818e-01,  1.03800476e+00,\n        -2.94841818e-01, -5.25060772e-02,  4.32165405e-01,\n        -2.94841818e-01,  6.86617933e-02,  3.10997534e-01,\n         5.53333275e-01,  3.10997534e-01,  6.74501145e-01,\n         9.16836886e-01,  1.15917263e+00,  1.03800476e+00,\n         1.89829664e-01, -1.73673948e-01, -4.16009689e-01,\n        -4.16009689e-01, -5.25060772e-02,  1.89829664e-01,\n        -5.37177559e-01,  1.89829664e-01,  1.03800476e+00,\n         5.53333275e-01, -2.94841818e-01, -4.16009689e-01,\n        -4.16009689e-01,  3.10997534e-01, -5.25060772e-02,\n        -1.02184904e+00, -2.94841818e-01, -1.73673948e-01,\n        -1.73673948e-01,  4.32165405e-01, -9.00681170e-01,\n        -1.73673948e-01,  5.53333275e-01, -5.25060772e-02,\n         1.52267624e+00,  5.53333275e-01,  7.95669016e-01,\n         2.12851559e+00, -1.14301691e+00,  1.76501198e+00,\n         1.03800476e+00,  1.64384411e+00,  7.95669016e-01,\n         6.74501145e-01,  1.15917263e+00, -1.73673948e-01,\n        -5.25060772e-02,  6.74501145e-01,  7.95669016e-01,\n         2.24968346e+00,  2.24968346e+00,  1.89829664e-01,\n         1.28034050e+00, -2.94841818e-01,  2.24968346e+00,\n         5.53333275e-01,  1.03800476e+00,  1.64384411e+00,\n         4.32165405e-01,  3.10997534e-01,  6.74501145e-01,\n         1.64384411e+00,  1.88617985e+00,  2.49201920e+00,\n         6.74501145e-01,  5.53333275e-01,  3.10997534e-01,\n         2.24968346e+00,  5.53333275e-01,  6.74501145e-01,\n         1.89829664e-01,  1.28034050e+00,  1.03800476e+00,\n         1.28034050e+00, -5.25060772e-02,  1.15917263e+00,\n         1.03800476e+00,  1.03800476e+00,  5.53333275e-01,\n         7.95669016e-01,  4.32165405e-01,  6.86617933e-02],\n       [ 1.01900435e+00, -1.31979479e-01,  3.28414053e-01,\n         9.82172869e-02,  1.24920112e+00,  1.93979142e+00,\n         7.88807586e-01,  7.88807586e-01, -3.62176246e-01,\n         9.82172869e-02,  1.47939788e+00,  7.88807586e-01,\n        -1.31979479e-01, -1.31979479e-01,  2.16998818e+00,\n         3.09077525e+00,  1.93979142e+00,  1.01900435e+00,\n         1.70959465e+00,  1.70959465e+00,  7.88807586e-01,\n         1.47939788e+00,  1.24920112e+00,  5.58610819e-01,\n         7.88807586e-01, -1.31979479e-01,  7.88807586e-01,\n         1.01900435e+00,  7.88807586e-01,  3.28414053e-01,\n         9.82172869e-02,  7.88807586e-01,  2.40018495e+00,\n         2.63038172e+00,  9.82172869e-02,  3.28414053e-01,\n         1.01900435e+00,  1.24920112e+00, -1.31979479e-01,\n         7.88807586e-01,  1.01900435e+00, -1.74335684e+00,\n         3.28414053e-01,  1.01900435e+00,  1.70959465e+00,\n        -1.31979479e-01,  1.70959465e+00,  3.28414053e-01,\n         1.47939788e+00,  5.58610819e-01,  3.28414053e-01,\n         3.28414053e-01,  9.82172869e-02, -1.74335684e+00,\n        -5.92373012e-01, -5.92373012e-01,  5.58610819e-01,\n        -1.51316008e+00, -3.62176246e-01, -8.22569778e-01,\n        -2.43394714e+00, -1.31979479e-01, -1.97355361e+00,\n        -3.62176246e-01, -3.62176246e-01,  9.82172869e-02,\n        -1.31979479e-01, -8.22569778e-01, -1.97355361e+00,\n        -1.28296331e+00,  3.28414053e-01, -5.92373012e-01,\n        -1.28296331e+00, -5.92373012e-01, -3.62176246e-01,\n        -1.31979479e-01, -5.92373012e-01, -1.31979479e-01,\n        -3.62176246e-01, -1.05276654e+00, -1.51316008e+00,\n        -1.51316008e+00, -8.22569778e-01, -8.22569778e-01,\n        -1.31979479e-01,  7.88807586e-01,  9.82172869e-02,\n        -1.74335684e+00, -1.31979479e-01, -1.28296331e+00,\n        -1.05276654e+00, -1.31979479e-01, -1.05276654e+00,\n        -1.74335684e+00, -8.22569778e-01, -1.31979479e-01,\n        -3.62176246e-01, -3.62176246e-01, -1.28296331e+00,\n        -5.92373012e-01,  5.58610819e-01, -8.22569778e-01,\n        -1.31979479e-01, -3.62176246e-01, -1.31979479e-01,\n        -1.31979479e-01, -1.28296331e+00, -3.62176246e-01,\n        -1.28296331e+00,  1.24920112e+00,  3.28414053e-01,\n        -8.22569778e-01, -1.31979479e-01, -1.28296331e+00,\n        -5.92373012e-01,  3.28414053e-01, -1.31979479e-01,\n         1.70959465e+00, -1.05276654e+00, -1.97355361e+00,\n         3.28414053e-01, -5.92373012e-01, -5.92373012e-01,\n        -8.22569778e-01,  5.58610819e-01,  3.28414053e-01,\n        -5.92373012e-01, -1.31979479e-01, -5.92373012e-01,\n        -1.31979479e-01, -5.92373012e-01,  1.70959465e+00,\n        -5.92373012e-01, -5.92373012e-01, -1.05276654e+00,\n        -1.31979479e-01,  7.88807586e-01,  9.82172869e-02,\n        -1.31979479e-01,  9.82172869e-02,  9.82172869e-02,\n         9.82172869e-02, -8.22569778e-01,  3.28414053e-01,\n         5.58610819e-01, -1.31979479e-01, -1.28296331e+00,\n        -1.31979479e-01,  7.88807586e-01, -1.31979479e-01],\n       [-1.34022653e+00, -1.34022653e+00, -1.39706395e+00,\n        -1.28338910e+00, -1.34022653e+00, -1.16971425e+00,\n        -1.34022653e+00, -1.28338910e+00, -1.34022653e+00,\n        -1.28338910e+00, -1.28338910e+00, -1.22655167e+00,\n        -1.34022653e+00, -1.51073881e+00, -1.45390138e+00,\n        -1.28338910e+00, -1.39706395e+00, -1.34022653e+00,\n        -1.16971425e+00, -1.28338910e+00, -1.16971425e+00,\n        -1.28338910e+00, -1.56757623e+00, -1.16971425e+00,\n        -1.05603939e+00, -1.22655167e+00, -1.22655167e+00,\n        -1.28338910e+00, -1.34022653e+00, -1.22655167e+00,\n        -1.22655167e+00, -1.28338910e+00, -1.28338910e+00,\n        -1.34022653e+00, -1.28338910e+00, -1.45390138e+00,\n        -1.39706395e+00, -1.34022653e+00, -1.39706395e+00,\n        -1.28338910e+00, -1.39706395e+00, -1.39706395e+00,\n        -1.39706395e+00, -1.22655167e+00, -1.05603939e+00,\n        -1.34022653e+00, -1.22655167e+00, -1.34022653e+00,\n        -1.28338910e+00, -1.34022653e+00,  5.35408562e-01,\n         4.21733708e-01,  6.49083415e-01,  1.37546573e-01,\n         4.78571135e-01,  4.21733708e-01,  5.35408562e-01,\n        -2.60315415e-01,  4.78571135e-01,  8.07091462e-02,\n        -1.46640561e-01,  2.51221427e-01,  1.37546573e-01,\n         5.35408562e-01, -8.98031345e-02,  3.64896281e-01,\n         4.21733708e-01,  1.94384000e-01,  4.21733708e-01,\n         8.07091462e-02,  5.92245988e-01,  1.37546573e-01,\n         6.49083415e-01,  5.35408562e-01,  3.08058854e-01,\n         3.64896281e-01,  5.92245988e-01,  7.05920842e-01,\n         4.21733708e-01, -1.46640561e-01,  2.38717193e-02,\n        -3.29657076e-02,  8.07091462e-02,  7.62758269e-01,\n         4.21733708e-01,  4.21733708e-01,  5.35408562e-01,\n         3.64896281e-01,  1.94384000e-01,  1.37546573e-01,\n         3.64896281e-01,  4.78571135e-01,  1.37546573e-01,\n        -2.60315415e-01,  2.51221427e-01,  2.51221427e-01,\n         2.51221427e-01,  3.08058854e-01, -4.30827696e-01,\n         1.94384000e-01,  1.27429511e+00,  7.62758269e-01,\n         1.21745768e+00,  1.04694540e+00,  1.16062026e+00,\n         1.61531967e+00,  4.21733708e-01,  1.44480739e+00,\n         1.16062026e+00,  1.33113254e+00,  7.62758269e-01,\n         8.76433123e-01,  9.90107977e-01,  7.05920842e-01,\n         7.62758269e-01,  8.76433123e-01,  9.90107977e-01,\n         1.67215710e+00,  1.78583195e+00,  7.05920842e-01,\n         1.10378283e+00,  6.49083415e-01,  1.67215710e+00,\n         6.49083415e-01,  1.10378283e+00,  1.27429511e+00,\n         5.92245988e-01,  6.49083415e-01,  1.04694540e+00,\n         1.16062026e+00,  1.33113254e+00,  1.50164482e+00,\n         1.04694540e+00,  7.62758269e-01,  1.04694540e+00,\n         1.33113254e+00,  1.04694540e+00,  9.90107977e-01,\n         5.92245988e-01,  9.33270550e-01,  1.04694540e+00,\n         7.62758269e-01,  7.62758269e-01,  1.21745768e+00,\n         1.10378283e+00,  8.19595696e-01,  7.05920842e-01,\n         8.19595696e-01,  9.33270550e-01,  7.62758269e-01],\n       [-1.31544430e+00, -1.31544430e+00, -1.31544430e+00,\n        -1.31544430e+00, -1.31544430e+00, -1.05217993e+00,\n        -1.18381211e+00, -1.31544430e+00, -1.31544430e+00,\n        -1.44707648e+00, -1.31544430e+00, -1.31544430e+00,\n        -1.44707648e+00, -1.44707648e+00, -1.31544430e+00,\n        -1.05217993e+00, -1.05217993e+00, -1.18381211e+00,\n        -1.18381211e+00, -1.18381211e+00, -1.31544430e+00,\n        -1.05217993e+00, -1.31544430e+00, -9.20547742e-01,\n        -1.31544430e+00, -1.31544430e+00, -1.05217993e+00,\n        -1.31544430e+00, -1.31544430e+00, -1.31544430e+00,\n        -1.31544430e+00, -1.05217993e+00, -1.44707648e+00,\n        -1.31544430e+00, -1.31544430e+00, -1.31544430e+00,\n        -1.31544430e+00, -1.44707648e+00, -1.31544430e+00,\n        -1.31544430e+00, -1.18381211e+00, -1.18381211e+00,\n        -1.31544430e+00, -7.88915558e-01, -1.05217993e+00,\n        -1.18381211e+00, -1.31544430e+00, -1.31544430e+00,\n        -1.31544430e+00, -1.31544430e+00,  2.64141916e-01,\n         3.95774101e-01,  3.95774101e-01,  1.32509732e-01,\n         3.95774101e-01,  1.32509732e-01,  5.27406285e-01,\n        -2.62386821e-01,  1.32509732e-01,  2.64141916e-01,\n        -2.62386821e-01,  3.95774101e-01, -2.62386821e-01,\n         2.64141916e-01,  1.32509732e-01,  2.64141916e-01,\n         3.95774101e-01, -2.62386821e-01,  3.95774101e-01,\n        -1.30754636e-01,  7.90670654e-01,  1.32509732e-01,\n         3.95774101e-01,  8.77547895e-04,  1.32509732e-01,\n         2.64141916e-01,  2.64141916e-01,  6.59038469e-01,\n         3.95774101e-01, -2.62386821e-01, -1.30754636e-01,\n        -2.62386821e-01,  8.77547895e-04,  5.27406285e-01,\n         3.95774101e-01,  5.27406285e-01,  3.95774101e-01,\n         1.32509732e-01,  1.32509732e-01,  1.32509732e-01,\n         8.77547895e-04,  2.64141916e-01,  8.77547895e-04,\n        -2.62386821e-01,  1.32509732e-01,  8.77547895e-04,\n         1.32509732e-01,  1.32509732e-01, -1.30754636e-01,\n         1.32509732e-01,  1.71209594e+00,  9.22302838e-01,\n         1.18556721e+00,  7.90670654e-01,  1.31719939e+00,\n         1.18556721e+00,  6.59038469e-01,  7.90670654e-01,\n         7.90670654e-01,  1.71209594e+00,  1.05393502e+00,\n         9.22302838e-01,  1.18556721e+00,  1.05393502e+00,\n         1.58046376e+00,  1.44883158e+00,  7.90670654e-01,\n         1.31719939e+00,  1.44883158e+00,  3.95774101e-01,\n         1.44883158e+00,  1.05393502e+00,  1.05393502e+00,\n         7.90670654e-01,  1.18556721e+00,  7.90670654e-01,\n         7.90670654e-01,  7.90670654e-01,  1.18556721e+00,\n         5.27406285e-01,  9.22302838e-01,  1.05393502e+00,\n         1.31719939e+00,  3.95774101e-01,  2.64141916e-01,\n         1.44883158e+00,  1.58046376e+00,  7.90670654e-01,\n         7.90670654e-01,  1.18556721e+00,  1.58046376e+00,\n         1.44883158e+00,  9.22302838e-01,  1.44883158e+00,\n         1.71209594e+00,  1.44883158e+00,  9.22302838e-01,\n         1.05393502e+00,  1.44883158e+00,  7.90670654e-01]])"
     },
     "metadata": {}
    }
   ],
   "execution_count": null
  },
  {
   "cell_type": "markdown",
   "source": "#### Covarianza: es una matriz cuya dimensiones es igual a las variables que tengo en el arreglo,\n- es el objeto matemático que permite identificar cuáles variables están altamente correlacionadas\n- Cuando dos variables están altamente correlacionadas, quiere decir que aportan básicamente la misma información del problema y eso podría indicar que solo necesitaríamos una sola de ellas\n( PCA (principal component analysis)- tecnica matemativa para reducir variables",
   "metadata": {
    "cell_id": "40617a52367446edac695d5c0244d1a8",
    "tags": [],
    "deepnote_cell_type": "markdown",
    "deepnote_cell_height": 172.65625
   }
  },
  {
   "cell_type": "code",
   "metadata": {
    "cell_id": "6ffb8d48868f4a668bf3aad728589d7e",
    "tags": [],
    "deepnote_to_be_reexecuted": false,
    "source_hash": "e9d8e622",
    "execution_start": 1649168203460,
    "execution_millis": 15,
    "deepnote_cell_type": "code",
    "deepnote_cell_height": 211.984375,
    "deepnote_output_heights": [
     78.71875
    ]
   },
   "source": "covariance_matrix = np.cov(scaled.T)  #np.cov para ver la matriz co vianza\ncovariance_matrix \n",
   "outputs": [
    {
     "output_type": "execute_result",
     "execution_count": 48,
     "data": {
      "text/plain": "array([[ 1.00671141, -0.11835884,  0.87760447,  0.82343066],\n       [-0.11835884,  1.00671141, -0.43131554, -0.36858315],\n       [ 0.87760447, -0.43131554,  1.00671141,  0.96932762],\n       [ 0.82343066, -0.36858315,  0.96932762,  1.00671141]])"
     },
     "metadata": {}
    }
   ],
   "execution_count": null
  },
  {
   "cell_type": "code",
   "metadata": {
    "cell_id": "d3acb22c3fd74c0a8ccf370a1b0e2fff",
    "tags": [],
    "deepnote_to_be_reexecuted": false,
    "source_hash": "a4409e1f",
    "execution_start": 1649168203507,
    "execution_millis": 684,
    "deepnote_cell_type": "code",
    "deepnote_cell_height": 824.25,
    "deepnote_output_heights": [
     563.984375
    ]
   },
   "source": "plt.figure(figsize=(10,10))     #VISUALIZACIÓN DE LA MATRIZ DE CORR\nsns.set(font_scale=1.5)\nhm = sns.heatmap(covariance_matrix, \n                 cbar=True,   #muestre escala de colores\n                 annot=True,      #muestre los valores de cada elem de la matriz\n                 square=True,     #que la matriz la muestre cuadrada\n                 fmt='.2f',\n                 annot_kws={'size': 12}, #tamaño de letra de los num y variables\n                 yticklabels=['sepal_length', 'sepal_width', 'petal_length', 'petal_width'], #etiquetas de las filas\n                 xticklabels=['sepal_length', 'sepal_width', 'petal_length', 'petal_width'])",
   "outputs": [
    {
     "data": {
      "text/plain": "<Figure size 720x720 with 2 Axes>",
      "image/png": "[encoded data removed]"
     },
     "metadata": {
      "image/png": {
       "width": 593,
       "height": 562
      }
     },
     "output_type": "display_data"
    }
   ],
   "execution_count": null
  },
  {
   "cell_type": "code",
   "metadata": {
    "cell_id": "614477e73c3244a68a4a037a1ee182fd",
    "tags": [],
    "deepnote_to_be_reexecuted": false,
    "source_hash": "e8683c02",
    "execution_start": 1649168204190,
    "execution_millis": 18,
    "deepnote_cell_type": "code",
    "deepnote_cell_height": 189.15625
   },
   "source": "#Petalo width y pelato length : 097, cercano a 1\n# correlacion negativa: -0,37 entre sepal width y petal width. Identificamos las \n# variables que mas relacionadas están. \n#REDUCCION DE DATOS: ANALSIS DE COMP PRINCIPALES: \n#En el caso de que hayan variables muy relacionadas \n#entre sí, probablemente pueda seleccionar algunas y no todas,para mi mod de machine learning\n",
   "outputs": [],
   "execution_count": null
  },
  {
   "cell_type": "markdown",
   "source": "### Analisis de componentes principales (PCA)\n- Proyeccion de vectores: dos vectores con direccion arbitrarias: calcular la long de distancia entre ambas\n",
   "metadata": {
    "cell_id": "f2c2e7d69c7f421aa8460d0e4e38844c",
    "tags": [],
    "deepnote_cell_type": "markdown",
    "deepnote_cell_height": 114.53125
   }
  },
  {
   "cell_type": "code",
   "metadata": {
    "cell_id": "7361e74cadfc496f91dc7bcab3e8ff36",
    "tags": [],
    "deepnote_to_be_reexecuted": false,
    "source_hash": "3ad07a8",
    "execution_start": 1649168204208,
    "execution_millis": 1894,
    "deepnote_cell_type": "code",
    "deepnote_cell_height": 1016.609375,
    "deepnote_output_heights": [
     21.171875,
     408.984375,
     408.984375
    ]
   },
   "source": "sns.jointplot(x= iris['petal_length'], y=iris['petal_width'])\nsns.jointplot(x = scaled[:, 2], y = scaled[:,3])",
   "outputs": [
    {
     "output_type": "execute_result",
     "execution_count": 51,
     "data": {
      "text/plain": "<seaborn.axisgrid.JointGrid at 0x7faeb8037090>"
     },
     "metadata": {}
    },
    {
     "data": {
      "text/plain": "<Figure size 432x432 with 3 Axes>",
      "image/png": "[encoded data removed]"
     },
     "metadata": {
      "image/png": {
       "width": 407,
       "height": 407
      }
     },
     "output_type": "display_data"
    },
    {
     "data": {
      "text/plain": "<Figure size 432x432 with 3 Axes>",
      "image/png": "[encoded data removed]"
     },
     "metadata": {
      "image/png": {
       "width": 421,
       "height": 407
      }
     },
     "output_type": "display_data"
    }
   ],
   "execution_count": null
  },
  {
   "cell_type": "code",
   "metadata": {
    "cell_id": "1dd4acd6b57c444eb85dc2d75170fbdc",
    "tags": [],
    "deepnote_to_be_reexecuted": false,
    "source_hash": "8469d96e",
    "execution_start": 1649168206114,
    "execution_millis": 2,
    "deepnote_cell_type": "code",
    "deepnote_cell_height": 81.15625
   },
   "source": "eigen_values, eigen_vectors = np.linalg.eig(covariance_matrix)",
   "outputs": [],
   "execution_count": null
  },
  {
   "cell_type": "code",
   "metadata": {
    "cell_id": "518404d7f25a4c31aff4ecd73ff5c4cf",
    "tags": [],
    "deepnote_to_be_reexecuted": false,
    "source_hash": "9fd39d64",
    "execution_start": 1649168206132,
    "execution_millis": 7,
    "deepnote_cell_type": "code",
    "deepnote_cell_height": 118.4375,
    "deepnote_output_heights": [
     21.171875
    ]
   },
   "source": "eigen_values",
   "outputs": [
    {
     "output_type": "execute_result",
     "execution_count": 53,
     "data": {
      "text/plain": "array([2.93808505, 0.9201649 , 0.14774182, 0.02085386])"
     },
     "metadata": {}
    }
   ],
   "execution_count": null
  },
  {
   "cell_type": "code",
   "metadata": {
    "cell_id": "b328f03299fe437081b6b60ed6de9686",
    "tags": [],
    "deepnote_to_be_reexecuted": false,
    "source_hash": "5d32ea69",
    "execution_start": 1649168206165,
    "execution_millis": 21,
    "deepnote_cell_type": "code",
    "deepnote_cell_height": 175.984375,
    "deepnote_output_heights": [
     78.71875
    ]
   },
   "source": "eigen_vectors",
   "outputs": [
    {
     "output_type": "execute_result",
     "execution_count": 54,
     "data": {
      "text/plain": "array([[ 0.52106591, -0.37741762, -0.71956635,  0.26128628],\n       [-0.26934744, -0.92329566,  0.24438178, -0.12350962],\n       [ 0.5804131 , -0.02449161,  0.14212637, -0.80144925],\n       [ 0.56485654, -0.06694199,  0.63427274,  0.52359713]])"
     },
     "metadata": {}
    }
   ],
   "execution_count": null
  },
  {
   "cell_type": "code",
   "metadata": {
    "cell_id": "f8216751bdc24acaa47cc03fbe24d178",
    "tags": [],
    "deepnote_to_be_reexecuted": false,
    "source_hash": "3e6ccce7",
    "execution_start": 1649168206196,
    "execution_millis": 5,
    "deepnote_cell_type": "code",
    "deepnote_cell_height": 184.4375
   },
   "source": "variance_explained = []\nfor i in eigen_values:\n    variance_explained.append((i/sum(eigen_values))*100)\n\nprint(variance_explained)",
   "outputs": [
    {
     "name": "stdout",
     "text": "[72.9624454132999, 22.850761786701725, 3.6689218892828612, 0.5178709107154993]\n",
     "output_type": "stream"
    }
   ],
   "execution_count": null
  },
  {
   "cell_type": "code",
   "metadata": {
    "cell_id": "57ba29813e6f475a8c4299a3aefd65ed",
    "tags": [],
    "deepnote_to_be_reexecuted": false,
    "source_hash": "54d8f0b",
    "execution_start": 1649168206269,
    "execution_millis": 12,
    "deepnote_cell_type": "code",
    "deepnote_cell_height": 172.4375,
    "deepnote_output_heights": [
     21.171875
    ]
   },
   "source": "from sklearn.decomposition import PCA\n\npca = PCA(n_components=2)\npca.fit(scaled)",
   "outputs": [
    {
     "output_type": "execute_result",
     "execution_count": 56,
     "data": {
      "text/plain": "PCA(n_components=2)"
     },
     "metadata": {}
    }
   ],
   "execution_count": null
  },
  {
   "cell_type": "code",
   "metadata": {
    "cell_id": "3fd1bf95cfa24ba7801a0eaf9d097197",
    "tags": [],
    "deepnote_to_be_reexecuted": false,
    "source_hash": "e1bd05f4",
    "execution_start": 1649168206270,
    "execution_millis": 11,
    "deepnote_cell_type": "code",
    "deepnote_cell_height": 118.4375,
    "deepnote_output_heights": [
     21.171875
    ]
   },
   "source": "pca.explained_variance_ratio_",
   "outputs": [
    {
     "output_type": "execute_result",
     "execution_count": 57,
     "data": {
      "text/plain": "array([0.72962445, 0.22850762])"
     },
     "metadata": {}
    }
   ],
   "execution_count": null
  },
  {
   "cell_type": "code",
   "metadata": {
    "cell_id": "6fdd7970ebd5410c9ba9279e5a3cc0dd",
    "tags": [],
    "deepnote_to_be_reexecuted": false,
    "source_hash": "74b2568b",
    "execution_start": 1649168206284,
    "execution_millis": 144983,
    "deepnote_cell_type": "code",
    "deepnote_cell_height": 81.15625
   },
   "source": "reduced_scaled = pca.transform(scaled)",
   "outputs": [],
   "execution_count": null
  },
  {
   "cell_type": "code",
   "metadata": {
    "cell_id": "7f2979ce55c146b79e255096b063e9a5",
    "tags": [],
    "deepnote_to_be_reexecuted": false,
    "source_hash": "d905baf9",
    "execution_start": 1649168206367,
    "execution_millis": 1013,
    "deepnote_cell_type": "code",
    "deepnote_cell_height": 663.4375,
    "deepnote_output_heights": [
     null,
     21.171875,
     408.984375
    ]
   },
   "source": "iris['pca_1'] = scaled[:,0]\niris['pca_2'] = scaled[:,1]\nsns.jointplot(iris['pca_1'], iris['pca_2'], hue = iris['species'])",
   "outputs": [
    {
     "name": "stderr",
     "text": "/shared-libs/python3.7/py/lib/python3.7/site-packages/seaborn/_decorators.py:43: FutureWarning: Pass the following variables as keyword args: x, y. From version 0.12, the only valid positional argument will be `data`, and passing other arguments without an explicit keyword will result in an error or misinterpretation.\n  FutureWarning\n",
     "output_type": "stream"
    },
    {
     "output_type": "execute_result",
     "execution_count": 59,
     "data": {
      "text/plain": "<seaborn.axisgrid.JointGrid at 0x7faeb2a32f10>"
     },
     "metadata": {}
    },
    {
     "data": {
      "text/plain": "<Figure size 432x432 with 3 Axes>",
      "image/png": "[encoded data removed]"
     },
     "metadata": {
      "image/png": {
       "width": 405,
       "height": 407
      }
     },
     "output_type": "display_data"
    }
   ],
   "execution_count": null
  },
  {
   "cell_type": "code",
   "metadata": {
    "cell_id": "c876ea80f93545708508ebbb79892759",
    "tags": [],
    "deepnote_to_be_reexecuted": false,
    "source_hash": "b623e53d",
    "execution_start": 1649168207384,
    "execution_millis": 10,
    "deepnote_cell_type": "code",
    "deepnote_cell_height": 81.15625
   },
   "source": "",
   "outputs": [],
   "execution_count": null
  },
  {
   "cell_type": "markdown",
   "source": "<a style='text-decoration:none;line-height:16px;display:flex;color:#5B5B62;padding:10px;justify-content:end;' href='https://deepnote.com?utm_source=created-in-deepnote-cell&projectId=86f9b81c-c117-4215-9dab-48807128c5c5' target=\"_blank\">\n<img alt='Created in deepnote.com' style='display:inline;max-height:16px;margin:0px;margin-right:7.5px;' src='data:image/svg+xml;base64,PD94bWwgdmVyc2lvbj0iMS4wIiBlbmNvZGluZz0iVVRGLTgiPz4KPHN2ZyB3aWR0aD0iODBweCIgaGVpZ2h0PSI4MHB4IiB2aWV3Qm94PSIwIDAgODAgODAiIHZlcnNpb249IjEuMSIgeG1sbnM9Imh0dHA6Ly93d3cudzMub3JnLzIwMDAvc3ZnIiB4bWxuczp4bGluaz0iaHR0cDovL3d3dy53My5vcmcvMTk5OS94bGluayI+CiAgICA8IS0tIEdlbmVyYXRvcjogU2tldGNoIDU0LjEgKDc2NDkwKSAtIGh0dHBzOi8vc2tldGNoYXBwLmNvbSAtLT4KICAgIDx0aXRsZT5Hcm91cCAzPC90aXRsZT4KICAgIDxkZXNjPkNyZWF0ZWQgd2l0aCBTa2V0Y2guPC9kZXNjPgogICAgPGcgaWQ9IkxhbmRpbmciIHN0cm9rZT0ibm9uZSIgc3Ryb2tlLXdpZHRoPSIxIiBmaWxsPSJub25lIiBmaWxsLXJ1bGU9ImV2ZW5vZGQiPgogICAgICAgIDxnIGlkPSJBcnRib2FyZCIgdHJhbnNmb3JtPSJ0cmFuc2xhdGUoLTEyMzUuMDAwMDAwLCAtNzkuMDAwMDAwKSI+CiAgICAgICAgICAgIDxnIGlkPSJHcm91cC0zIiB0cmFuc2Zvcm09InRyYW5zbGF0ZSgxMjM1LjAwMDAwMCwgNzkuMDAwMDAwKSI+CiAgICAgICAgICAgICAgICA8cG9seWdvbiBpZD0iUGF0aC0yMCIgZmlsbD0iIzAyNjVCNCIgcG9pbnRzPSIyLjM3NjIzNzYyIDgwIDM4LjA0NzY2NjcgODAgNTcuODIxNzgyMiA3My44MDU3NTkyIDU3LjgyMTc4MjIgMzIuNzU5MjczOSAzOS4xNDAyMjc4IDMxLjY4MzE2ODMiPjwvcG9seWdvbj4KICAgICAgICAgICAgICAgIDxwYXRoIGQ9Ik0zNS4wMDc3MTgsODAgQzQyLjkwNjIwMDcsNzYuNDU0OTM1OCA0Ny41NjQ5MTY3LDcxLjU0MjI2NzEgNDguOTgzODY2LDY1LjI2MTk5MzkgQzUxLjExMjI4OTksNTUuODQxNTg0MiA0MS42NzcxNzk1LDQ5LjIxMjIyODQgMjUuNjIzOTg0Niw0OS4yMTIyMjg0IEMyNS40ODQ5Mjg5LDQ5LjEyNjg0NDggMjkuODI2MTI5Niw0My4yODM4MjQ4IDM4LjY0NzU4NjksMzEuNjgzMTY4MyBMNzIuODcxMjg3MSwzMi41NTQ0MjUgTDY1LjI4MDk3Myw2Ny42NzYzNDIxIEw1MS4xMTIyODk5LDc3LjM3NjE0NCBMMzUuMDA3NzE4LDgwIFoiIGlkPSJQYXRoLTIyIiBmaWxsPSIjMDAyODY4Ij48L3BhdGg+CiAgICAgICAgICAgICAgICA8cGF0aCBkPSJNMCwzNy43MzA0NDA1IEwyNy4xMTQ1MzcsMC4yNTcxMTE0MzYgQzYyLjM3MTUxMjMsLTEuOTkwNzE3MDEgODAsMTAuNTAwMzkyNyA4MCwzNy43MzA0NDA1IEM4MCw2NC45NjA0ODgyIDY0Ljc3NjUwMzgsNzkuMDUwMzQxNCAzNC4zMjk1MTEzLDgwIEM0Ny4wNTUzNDg5LDc3LjU2NzA4MDggNTMuNDE4MjY3Nyw3MC4zMTM2MTAzIDUzLjQxODI2NzcsNTguMjM5NTg4NSBDNTMuNDE4MjY3Nyw0MC4xMjg1NTU3IDM2LjMwMzk1NDQsMzcuNzMwNDQwNSAyNS4yMjc0MTcsMzcuNzMwNDQwNSBDMTcuODQzMDU4NiwzNy43MzA0NDA1IDkuNDMzOTE5NjYsMzcuNzMwNDQwNSAwLDM3LjczMDQ0MDUgWiIgaWQ9IlBhdGgtMTkiIGZpbGw9IiMzNzkzRUYiPjwvcGF0aD4KICAgICAgICAgICAgPC9nPgogICAgICAgIDwvZz4KICAgIDwvZz4KPC9zdmc+' > </img>\nCreated in <span style='font-weight:600;margin-left:4px;'>Deepnote</span></a>",
   "metadata": {
    "tags": [],
    "created_in_deepnote_cell": true,
    "deepnote_cell_type": "markdown"
   }
  }
 ],
 "nbformat": 4,
 "nbformat_minor": 2,
 "metadata": {
  "orig_nbformat": 2,
  "deepnote": {
   "is_reactive": false
  },
  "deepnote_notebook_id": "207c81ea-ab70-43ba-aa24-f072a78d11c9",
  "deepnote_execution_queue": []
 }
}